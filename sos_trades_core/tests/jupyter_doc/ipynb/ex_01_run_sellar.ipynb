{
 "cells": [
  {
   "cell_type": "code",
   "execution_count": 1,
   "id": "e668b41a",
   "metadata": {},
   "outputs": [],
   "source": [
    "if 0 :\n",
    "    %matplotlib inline\n",
    "else :\n",
    "    %matplotlib notebook"
   ]
  },
  {
   "cell_type": "markdown",
   "id": "b3f4409c",
   "metadata": {},
   "source": [
    "#  Import  libraries"
   ]
  },
  {
   "cell_type": "code",
   "execution_count": 2,
   "id": "765fed52",
   "metadata": {},
   "outputs": [
    {
     "name": "stdout",
     "output_type": "stream",
     "text": [
      "C:\\Users\\ng947ac\\jupyter\\SoSTrades\\jupyter_doc\\_scripts\n",
      "C:\\Users\\ng947ac\\jupyter\\git\\workspace\n",
      "C:\\Users\\ng947ac\\jupyter\\SoSTrades\\SoSTrade\\pycryptodome-master\n",
      "C:\\Users\\ng947ac\\jupyter\\git\\workspace\\sos_trades_core\n"
     ]
    }
   ],
   "source": [
    "import sys\n",
    "import os\n",
    "module_path = os.path.abspath('.') +\"\\\\_scripts\"\n",
    "print(module_path)\n",
    "\n",
    "if module_path not in sys.path:\n",
    "    sys.path.append(module_path)\n",
    "from _00_Import_packages_git1 import *"
   ]
  },
  {
   "cell_type": "code",
   "execution_count": 3,
   "id": "f59f4096",
   "metadata": {},
   "outputs": [],
   "source": [
    "from numpy import array\n",
    "import pandas as pd\n",
    "from sos_trades_core.execution_engine.execution_engine import ExecutionEngine\n",
    "from numpy.testing import assert_array_equal, assert_array_almost_equal  # @UnresolvedImport\n",
    "import os\n",
    "from gemseo.core.mdo_scenario import MDOScenario"
   ]
  },
  {
   "cell_type": "markdown",
   "id": "a0d96a96",
   "metadata": {},
   "source": [
    "# Description of the model"
   ]
  },
  {
   "cell_type": "markdown",
   "id": "29b248e8",
   "metadata": {},
   "source": [
    "    DESC_IN = {'x': {'type': 'array', 'visibility': SoSDiscipline.SHARED_VISIBILITY, 'namespace': 'ns_OptimSellar'},\n",
    "               'y_2': {'type': 'array', 'visibility': SoSDiscipline.SHARED_VISIBILITY, 'namespace': 'ns_OptimSellar'},\n",
    "               'z': {'type': 'array', 'visibility': SoSDiscipline.SHARED_VISIBILITY, 'namespace': 'ns_OptimSellar'}}\n",
    "\n",
    "    DESC_OUT = {'y_1': {'type': 'array',\n",
    "                        'visibility': SoSDiscipline.SHARED_VISIBILITY, 'namespace': 'ns_OptimSellar'}}"
   ]
  },
  {
   "cell_type": "markdown",
   "id": "7583235f",
   "metadata": {},
   "source": [
    "mod_path = 'SoSTrade.dfmodel.d_dfmodel_sos.DfModel'\n",
    "\n",
    "ns_test = 'MyStudy'\n",
    "\n",
    "ns_dict = {'ns_OptimSellar': ns_test}\n",
    "\n",
    "disc_name = 'Sellar1'"
   ]
  },
  {
   "cell_type": "markdown",
   "id": "f07ca2af",
   "metadata": {},
   "source": [
    "Model :\n",
    "$$y_1 = z_0 ^ 2 + x + z_1 - 0.2 * y_2$$"
   ]
  },
  {
   "cell_type": "markdown",
   "id": "dffc465e",
   "metadata": {},
   "source": [
    " # Set the  discipline : here Sellar1"
   ]
  },
  {
   "cell_type": "code",
   "execution_count": 4,
   "id": "2eb7ffb3",
   "metadata": {},
   "outputs": [],
   "source": [
    "# Choice of the discipline (File that provides the wrapper and associated wrapper)\n",
    "mod_path = 'sos_trades_core.sos_disciplines.test_discs.sellar.Sellar1'"
   ]
  },
  {
   "cell_type": "code",
   "execution_count": 5,
   "id": "fa273ea7",
   "metadata": {},
   "outputs": [],
   "source": [
    "#from sos_trades_core.sos_disciplines.test_discs.sellar import Sellar1\n",
    "from sos_trades_core.execution_engine.execution_engine import ExecutionEngine"
   ]
  },
  {
   "cell_type": "code",
   "execution_count": 6,
   "id": "43396a84",
   "metadata": {},
   "outputs": [
    {
     "name": "stderr",
     "output_type": "stream",
     "text": [
      "INFO:SoS.EE:configuring ...\n",
      "WARNING:gemseo.mda.mda_chain:No coupling in MDA, switching chain_linearize to True\n",
      "INFO:SoS.EE.Coupling:The MDA solver of the Coupling MyStudy is set to MDAJacobi\n"
     ]
    }
   ],
   "source": [
    "ns_test = 'MyStudy'\n",
    "ee = ExecutionEngine(ns_test)\n",
    "ns_dict = {'ns_OptimSellar': ns_test} # conform to shared variable x\n",
    "ee.ns_manager.add_ns_def(ns_dict)\n",
    "\n",
    "\n",
    "disc_name = 'Sellar1'\n",
    "disc1_builder = ee.factory.get_builder_from_module(disc_name, mod_path)\n",
    "ee.factory.set_builders_to_coupling_builder(disc1_builder)\n",
    "\n",
    "ee.configure() "
   ]
  },
  {
   "cell_type": "markdown",
   "id": "ab594e5f",
   "metadata": {},
   "source": [
    "# Display discipline structure"
   ]
  },
  {
   "cell_type": "code",
   "execution_count": 7,
   "id": "fcd1f2bd",
   "metadata": {},
   "outputs": [],
   "source": [
    "my_disc1 = ee.root_process.sos_disciplines[0]"
   ]
  },
  {
   "cell_type": "code",
   "execution_count": 8,
   "id": "b58aa970",
   "metadata": {},
   "outputs": [],
   "source": [
    "DESC_IN = my_disc1.DESC_IN\n",
    "DESC_OUT = my_disc1.DESC_OUT\n",
    "DESC_IN_df = pd.DataFrame.from_dict(DESC_IN,orient='index')\n",
    "DESC_OUT_df = pd.DataFrame.from_dict(DESC_OUT,orient='index')"
   ]
  },
  {
   "cell_type": "code",
   "execution_count": 9,
   "id": "a3bc4126",
   "metadata": {},
   "outputs": [
    {
     "data": {
      "text/html": [
       "<div>\n",
       "<style scoped>\n",
       "    .dataframe tbody tr th:only-of-type {\n",
       "        vertical-align: middle;\n",
       "    }\n",
       "\n",
       "    .dataframe tbody tr th {\n",
       "        vertical-align: top;\n",
       "    }\n",
       "\n",
       "    .dataframe thead th {\n",
       "        text-align: right;\n",
       "    }\n",
       "</style>\n",
       "<table border=\"1\" class=\"dataframe\">\n",
       "  <thead>\n",
       "    <tr style=\"text-align: right;\">\n",
       "      <th></th>\n",
       "      <th>type</th>\n",
       "      <th>visibility</th>\n",
       "      <th>namespace</th>\n",
       "    </tr>\n",
       "  </thead>\n",
       "  <tbody>\n",
       "    <tr>\n",
       "      <th>x</th>\n",
       "      <td>float</td>\n",
       "      <td>Shared</td>\n",
       "      <td>ns_OptimSellar</td>\n",
       "    </tr>\n",
       "    <tr>\n",
       "      <th>y_2</th>\n",
       "      <td>float</td>\n",
       "      <td>Shared</td>\n",
       "      <td>ns_OptimSellar</td>\n",
       "    </tr>\n",
       "    <tr>\n",
       "      <th>z</th>\n",
       "      <td>array</td>\n",
       "      <td>Shared</td>\n",
       "      <td>ns_OptimSellar</td>\n",
       "    </tr>\n",
       "  </tbody>\n",
       "</table>\n",
       "</div>"
      ],
      "text/plain": [
       "      type visibility       namespace\n",
       "x    float     Shared  ns_OptimSellar\n",
       "y_2  float     Shared  ns_OptimSellar\n",
       "z    array     Shared  ns_OptimSellar"
      ]
     },
     "execution_count": 9,
     "metadata": {},
     "output_type": "execute_result"
    }
   ],
   "source": [
    "DESC_IN_df"
   ]
  },
  {
   "cell_type": "code",
   "execution_count": 10,
   "id": "4b178a68",
   "metadata": {},
   "outputs": [
    {
     "data": {
      "text/html": [
       "<div>\n",
       "<style scoped>\n",
       "    .dataframe tbody tr th:only-of-type {\n",
       "        vertical-align: middle;\n",
       "    }\n",
       "\n",
       "    .dataframe tbody tr th {\n",
       "        vertical-align: top;\n",
       "    }\n",
       "\n",
       "    .dataframe thead th {\n",
       "        text-align: right;\n",
       "    }\n",
       "</style>\n",
       "<table border=\"1\" class=\"dataframe\">\n",
       "  <thead>\n",
       "    <tr style=\"text-align: right;\">\n",
       "      <th></th>\n",
       "      <th>type</th>\n",
       "      <th>visibility</th>\n",
       "      <th>namespace</th>\n",
       "    </tr>\n",
       "  </thead>\n",
       "  <tbody>\n",
       "    <tr>\n",
       "      <th>y_1</th>\n",
       "      <td>float</td>\n",
       "      <td>Shared</td>\n",
       "      <td>ns_OptimSellar</td>\n",
       "    </tr>\n",
       "  </tbody>\n",
       "</table>\n",
       "</div>"
      ],
      "text/plain": [
       "      type visibility       namespace\n",
       "y_1  float     Shared  ns_OptimSellar"
      ]
     },
     "execution_count": 10,
     "metadata": {},
     "output_type": "execute_result"
    }
   ],
   "source": [
    "DESC_OUT_df"
   ]
  },
  {
   "cell_type": "markdown",
   "id": "3301db53",
   "metadata": {},
   "source": [
    "# Display study structure"
   ]
  },
  {
   "cell_type": "code",
   "execution_count": 11,
   "id": "1d0c797e",
   "metadata": {},
   "outputs": [
    {
     "name": "stderr",
     "output_type": "stream",
     "text": [
      "INFO:SoS.EE:Nodes representation for Treeview MyStudy\n",
      "|_ MyStudy\n",
      "\t|_ Sellar1\n"
     ]
    },
    {
     "data": {
      "text/plain": [
       "'Nodes representation for Treeview MyStudy\\n|_ MyStudy\\n\\t|_ Sellar1'"
      ]
     },
     "execution_count": 11,
     "metadata": {},
     "output_type": "execute_result"
    }
   ],
   "source": [
    "ee.display_treeview_nodes()"
   ]
  },
  {
   "cell_type": "markdown",
   "id": "3153ac5c",
   "metadata": {},
   "source": [
    "# Provide inputs"
   ]
  },
  {
   "cell_type": "code",
   "execution_count": 12,
   "id": "5158e794",
   "metadata": {},
   "outputs": [],
   "source": [
    "import numpy as np"
   ]
  },
  {
   "cell_type": "code",
   "execution_count": 13,
   "id": "8509e00d",
   "metadata": {},
   "outputs": [],
   "source": [
    "priv_in_values = {\n",
    "                  'MyStudy.z': np.array([1.,0.]),\n",
    "                  'MyStudy.x':  0., \n",
    "                  'MyStudy.y_2': 1. \n",
    "                  }"
   ]
  },
  {
   "cell_type": "code",
   "execution_count": 14,
   "id": "31e57b2c",
   "metadata": {},
   "outputs": [
    {
     "data": {
      "text/plain": [
       "{'MyStudy.z': array([1., 0.]), 'MyStudy.x': 0.0, 'MyStudy.y_2': 1.0}"
      ]
     },
     "execution_count": 14,
     "metadata": {},
     "output_type": "execute_result"
    }
   ],
   "source": [
    "priv_in_values"
   ]
  },
  {
   "cell_type": "code",
   "execution_count": 15,
   "id": "29288cca",
   "metadata": {},
   "outputs": [],
   "source": [
    "ee.dm.set_values_from_dict(priv_in_values)\n",
    "ee.root_process.update_from_dm()"
   ]
  },
  {
   "cell_type": "markdown",
   "id": "645547f6",
   "metadata": {},
   "source": [
    "# Execute"
   ]
  },
  {
   "cell_type": "code",
   "execution_count": 16,
   "id": "ab7f87b5",
   "metadata": {},
   "outputs": [
    {
     "name": "stderr",
     "output_type": "stream",
     "text": [
      "INFO:SoS.EE:PROCESS EXECUTION MyStudy STARTS...\n",
      "INFO:SoS.EE:PROCESS EXECUTION MyStudy ENDS.\n"
     ]
    },
    {
     "name": "stdout",
     "output_type": "stream",
     "text": [
      "{'MyStudy.x': array([0.]), 'MyStudy.y_2': array([1.]), 'MyStudy.z': array([1., 0.]), 'MyStudy.y_1': array([0.8])}\n"
     ]
    }
   ],
   "source": [
    "print(ee.execute())"
   ]
  },
  {
   "cell_type": "markdown",
   "id": "3496024d",
   "metadata": {},
   "source": [
    "# Display Results"
   ]
  },
  {
   "cell_type": "code",
   "execution_count": 17,
   "id": "2c9b01bc",
   "metadata": {},
   "outputs": [
    {
     "data": {
      "text/plain": [
       "0.8"
      ]
     },
     "execution_count": 17,
     "metadata": {},
     "output_type": "execute_result"
    }
   ],
   "source": [
    "my_disc1.get_data_io_dict('out')['y_1']['value']"
   ]
  },
  {
   "cell_type": "code",
   "execution_count": null,
   "id": "6a4219ee",
   "metadata": {},
   "outputs": [],
   "source": []
  },
  {
   "cell_type": "code",
   "execution_count": null,
   "id": "859e1512",
   "metadata": {},
   "outputs": [],
   "source": []
  },
  {
   "cell_type": "code",
   "execution_count": null,
   "id": "de37adec",
   "metadata": {},
   "outputs": [],
   "source": []
  },
  {
   "cell_type": "code",
   "execution_count": null,
   "id": "d40f3691",
   "metadata": {},
   "outputs": [],
   "source": []
  },
  {
   "cell_type": "code",
   "execution_count": null,
   "id": "a767671b",
   "metadata": {},
   "outputs": [],
   "source": []
  },
  {
   "cell_type": "code",
   "execution_count": null,
   "id": "829f70d5",
   "metadata": {},
   "outputs": [],
   "source": []
  }
 ],
 "metadata": {
  "kernelspec": {
   "display_name": "Python 3",
   "language": "python",
   "name": "python3"
  },
  "language_info": {
   "codemirror_mode": {
    "name": "ipython",
    "version": 3
   },
   "file_extension": ".py",
   "mimetype": "text/x-python",
   "name": "python",
   "nbconvert_exporter": "python",
   "pygments_lexer": "ipython3",
   "version": "3.8.8"
  }
 },
 "nbformat": 4,
 "nbformat_minor": 5
}
