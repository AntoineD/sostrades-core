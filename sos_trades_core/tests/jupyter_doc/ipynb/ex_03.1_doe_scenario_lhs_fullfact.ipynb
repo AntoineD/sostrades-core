{
 "cells": [
  {
   "cell_type": "code",
   "execution_count": 1,
   "id": "e668b41a",
   "metadata": {},
   "outputs": [],
   "source": [
    "if 0 :\n",
    "    %matplotlib inline\n",
    "else :\n",
    "    %matplotlib notebook"
   ]
  },
  {
   "cell_type": "markdown",
   "id": "b3f4409c",
   "metadata": {},
   "source": [
    "#  Import  libraries"
   ]
  },
  {
   "cell_type": "code",
   "execution_count": 2,
   "id": "765fed52",
   "metadata": {},
   "outputs": [
    {
     "name": "stdout",
     "output_type": "stream",
     "text": [
      "C:\\Users\\ng947ac\\jupyter\\SoSTrades\\jupyter_doc\\_scripts\n",
      "C:\\Users\\ng947ac\\jupyter\\git\\workspace\n",
      "C:\\Users\\ng947ac\\jupyter\\SoSTrades\\SoSTrade\\pycryptodome-master\n",
      "C:\\Users\\ng947ac\\jupyter\\git\\workspace\\sos_trades_core\n"
     ]
    }
   ],
   "source": [
    "import sys\n",
    "import os\n",
    "module_path = os.path.abspath('.') +\"\\\\_scripts\"\n",
    "print(module_path)\n",
    "\n",
    "if module_path not in sys.path:\n",
    "    sys.path.append(module_path)\n",
    "from _00_Import_packages_git1 import *"
   ]
  },
  {
   "cell_type": "code",
   "execution_count": 3,
   "id": "f59f4096",
   "metadata": {},
   "outputs": [],
   "source": [
    "from numpy import array\n",
    "import pandas as pd\n",
    "from sos_trades_core.execution_engine.execution_engine import ExecutionEngine\n",
    "from numpy.testing import assert_array_equal, assert_array_almost_equal  # @UnresolvedImport\n",
    "import os\n",
    "from gemseo.core.mdo_scenario import MDOScenario"
   ]
  },
  {
   "cell_type": "markdown",
   "id": "dffc465e",
   "metadata": {},
   "source": [
    "# SoSDoeScenario setUp"
   ]
  },
  {
   "cell_type": "code",
   "execution_count": 4,
   "id": "7e31db5b",
   "metadata": {},
   "outputs": [
    {
     "name": "stdout",
     "output_type": "stream",
     "text": [
      "SellarDoeScenario\n"
     ]
    }
   ],
   "source": [
    "study_name = 'doe'\n",
    "ns = f'{study_name}'\n",
    "sc_name = \"SellarDoeScenario\"\n",
    "c_name = \"SellarCoupling\"\n",
    "print(sc_name)"
   ]
  },
  {
   "cell_type": "markdown",
   "id": "1f185ea9",
   "metadata": {},
   "source": [
    "See §2 for Discipmline description"
   ]
  },
  {
   "cell_type": "code",
   "execution_count": 5,
   "id": "4dbd5bc6",
   "metadata": {},
   "outputs": [],
   "source": [
    "dspace_dict = {'variable': ['x', 'z', 'y_1', 'y_2'],\n",
    "               'value': [1., [5., 2.], 1., 1.],\n",
    "               'lower_bnd': [0., [-10., 0.], -100., -100.],\n",
    "               'upper_bnd': [10., [10., 10.], 100., 100.],\n",
    "               'enable_variable': [True, True, True, True],\n",
    "               'activated_elem': [[True], [True, True], [True], [True]]}\n",
    "#                   'type' : ['float',['float','float'],'float','float']"
   ]
  },
  {
   "cell_type": "code",
   "execution_count": 6,
   "id": "a79d5d33",
   "metadata": {},
   "outputs": [
    {
     "data": {
      "text/html": [
       "<div>\n",
       "<style scoped>\n",
       "    .dataframe tbody tr th:only-of-type {\n",
       "        vertical-align: middle;\n",
       "    }\n",
       "\n",
       "    .dataframe tbody tr th {\n",
       "        vertical-align: top;\n",
       "    }\n",
       "\n",
       "    .dataframe thead th {\n",
       "        text-align: right;\n",
       "    }\n",
       "</style>\n",
       "<table border=\"1\" class=\"dataframe\">\n",
       "  <thead>\n",
       "    <tr style=\"text-align: right;\">\n",
       "      <th></th>\n",
       "      <th>variable</th>\n",
       "      <th>value</th>\n",
       "      <th>lower_bnd</th>\n",
       "      <th>upper_bnd</th>\n",
       "      <th>enable_variable</th>\n",
       "      <th>activated_elem</th>\n",
       "    </tr>\n",
       "  </thead>\n",
       "  <tbody>\n",
       "    <tr>\n",
       "      <th>0</th>\n",
       "      <td>x</td>\n",
       "      <td>1.0</td>\n",
       "      <td>0.0</td>\n",
       "      <td>10.0</td>\n",
       "      <td>True</td>\n",
       "      <td>[True]</td>\n",
       "    </tr>\n",
       "    <tr>\n",
       "      <th>1</th>\n",
       "      <td>z</td>\n",
       "      <td>[5.0, 2.0]</td>\n",
       "      <td>[-10.0, 0.0]</td>\n",
       "      <td>[10.0, 10.0]</td>\n",
       "      <td>True</td>\n",
       "      <td>[True, True]</td>\n",
       "    </tr>\n",
       "    <tr>\n",
       "      <th>2</th>\n",
       "      <td>y_1</td>\n",
       "      <td>1.0</td>\n",
       "      <td>-100.0</td>\n",
       "      <td>100.0</td>\n",
       "      <td>True</td>\n",
       "      <td>[True]</td>\n",
       "    </tr>\n",
       "    <tr>\n",
       "      <th>3</th>\n",
       "      <td>y_2</td>\n",
       "      <td>1.0</td>\n",
       "      <td>-100.0</td>\n",
       "      <td>100.0</td>\n",
       "      <td>True</td>\n",
       "      <td>[True]</td>\n",
       "    </tr>\n",
       "  </tbody>\n",
       "</table>\n",
       "</div>"
      ],
      "text/plain": [
       "  variable       value     lower_bnd     upper_bnd  enable_variable  \\\n",
       "0        x         1.0           0.0          10.0             True   \n",
       "1        z  [5.0, 2.0]  [-10.0, 0.0]  [10.0, 10.0]             True   \n",
       "2      y_1         1.0        -100.0         100.0             True   \n",
       "3      y_2         1.0        -100.0         100.0             True   \n",
       "\n",
       "  activated_elem  \n",
       "0         [True]  \n",
       "1   [True, True]  \n",
       "2         [True]  \n",
       "3         [True]  "
      ]
     },
     "execution_count": 6,
     "metadata": {},
     "output_type": "execute_result"
    }
   ],
   "source": [
    "dspace = pd.DataFrame(dspace_dict)\n",
    "dspace"
   ]
  },
  {
   "cell_type": "code",
   "execution_count": 7,
   "id": "3f57e831",
   "metadata": {},
   "outputs": [
    {
     "name": "stdout",
     "output_type": "stream",
     "text": [
      "C:\\Temp\n"
     ]
    }
   ],
   "source": [
    "from tempfile import gettempdir\n",
    "root_dir = gettempdir()\n",
    "print(root_dir)\n",
    "dspace.to_csv(root_dir+'\\\\ds.csv')"
   ]
  },
  {
   "cell_type": "code",
   "execution_count": 8,
   "id": "c2f7c314",
   "metadata": {},
   "outputs": [],
   "source": [
    "repo = 'sos_trades_core.sos_processes.test'\n",
    "proc_name = 'test_sellar_doe'"
   ]
  },
  {
   "cell_type": "markdown",
   "id": "15c0d86b",
   "metadata": {},
   "source": [
    "# Doe scenario execution"
   ]
  },
  {
   "cell_type": "markdown",
   "id": "a3d62527",
   "metadata": {},
   "source": [
    "# 1 Set Doe optim scenario lhs or fullfact"
   ]
  },
  {
   "cell_type": "code",
   "execution_count": 9,
   "id": "bf8faab2",
   "metadata": {},
   "outputs": [],
   "source": [
    "#my_formulation = \"DisciplinaryOpt\"\n",
    "my_formulation = \"MDF\"\n",
    "#my_formulation = \"IDF\"\n",
    "#my_formulation =  \"BiLevel \""
   ]
  },
  {
   "cell_type": "code",
   "execution_count": 10,
   "id": "07993237",
   "metadata": {},
   "outputs": [
    {
     "data": {
      "text/plain": [
       "['CustomDOE',\n",
       " 'DiagonalDOE',\n",
       " 'OT_SOBOL',\n",
       " 'OT_RANDOM',\n",
       " 'OT_HASELGROVE',\n",
       " 'OT_REVERSE_HALTON',\n",
       " 'OT_HALTON',\n",
       " 'OT_FAURE',\n",
       " 'OT_MONTE_CARLO',\n",
       " 'OT_FACTORIAL',\n",
       " 'OT_COMPOSITE',\n",
       " 'OT_AXIAL',\n",
       " 'OT_OPT_LHS',\n",
       " 'OT_LHS',\n",
       " 'OT_LHSC',\n",
       " 'OT_FULLFACT',\n",
       " 'OT_SOBOL_INDICES',\n",
       " 'fullfact',\n",
       " 'ff2n',\n",
       " 'pbdesign',\n",
       " 'bbdesign',\n",
       " 'ccdesign',\n",
       " 'lhs']"
      ]
     },
     "execution_count": 10,
     "metadata": {},
     "output_type": "execute_result"
    }
   ],
   "source": [
    "from gemseo.api import (\n",
    "    configure_logger,\n",
    "    get_algorithm_options_schema,\n",
    "    get_available_doe_algorithms,\n",
    ")\n",
    "get_available_doe_algorithms()"
   ]
  },
  {
   "cell_type": "code",
   "execution_count": 11,
   "id": "4d3cc9a0",
   "metadata": {},
   "outputs": [],
   "source": [
    "my_doe_algo = \"lhs\"\n",
    "#my_doe_algo = \"fullfact\"\n"
   ]
  },
  {
   "cell_type": "code",
   "execution_count": 12,
   "id": "bfad3df9",
   "metadata": {},
   "outputs": [
    {
     "name": "stdout",
     "output_type": "stream",
     "text": [
      "\n",
      " Sellar doe solution check with  MDF  formulation\n"
     ]
    }
   ],
   "source": [
    "print(\"\\n Sellar doe solution check with \",my_formulation ,\" formulation\")"
   ]
  },
  {
   "cell_type": "code",
   "execution_count": 13,
   "id": "5e8b2920",
   "metadata": {},
   "outputs": [
    {
     "name": "stderr",
     "output_type": "stream",
     "text": [
      "INFO:SoS.EE:configuring ...\n",
      "WARNING:gemseo.mda.mda_chain:No coupling in MDA, switching chain_linearize to True\n",
      "INFO:SoS.EE.Coupling:The MDA solver of the Coupling doe is set to MDAJacobi\n"
     ]
    }
   ],
   "source": [
    "exec_eng = ExecutionEngine(study_name)\n",
    "factory = exec_eng.factory\n",
    "builder = factory.get_builder_from_process(repo=repo,mod_id=proc_name)\n",
    "exec_eng.factory.set_builders_to_coupling_builder(builder)\n",
    "exec_eng.configure()"
   ]
  },
  {
   "cell_type": "code",
   "execution_count": 14,
   "id": "603209f3",
   "metadata": {},
   "outputs": [
    {
     "name": "stderr",
     "output_type": "stream",
     "text": [
      "INFO:SoS.EE:Nodes representation for Treeview doe\n",
      "|_ doe\n",
      "\t|_ SellarDoeScenario\n",
      "\t\t|_ Sellar_Problem\n",
      "\t\t|_ Sellar_2\n",
      "\t\t|_ Sellar_1\n"
     ]
    },
    {
     "data": {
      "text/plain": [
       "'Nodes representation for Treeview doe\\n|_ doe\\n\\t|_ SellarDoeScenario\\n\\t\\t|_ Sellar_Problem\\n\\t\\t|_ Sellar_2\\n\\t\\t|_ Sellar_1'"
      ]
     },
     "execution_count": 14,
     "metadata": {},
     "output_type": "execute_result"
    }
   ],
   "source": [
    "exec_eng.display_treeview_nodes()"
   ]
  },
  {
   "cell_type": "code",
   "execution_count": 15,
   "id": "240b826c",
   "metadata": {},
   "outputs": [
    {
     "name": "stderr",
     "output_type": "stream",
     "text": [
      "INFO:SoS.EE:Nodes representation for Treeview doe\n",
      "|_ doe\n",
      "\t-> acceleration\n",
      "\t-> cache_file_path\n",
      "\t-> cache_type\n",
      "\t-> chain_linearize\n",
      "\t-> condition_func\n",
      "\t-> epsilon0\n",
      "\t-> group_mda_disciplines\n",
      "\t-> linear_solver_MDA\n",
      "\t-> linear_solver_MDA_options\n",
      "\t-> linear_solver_MDO\n",
      "\t-> linear_solver_MDO_options\n",
      "\t-> linearization_mode\n",
      "\t-> max_mda_iter\n",
      "\t-> max_mda_iter_gs\n",
      "\t-> n_processes\n",
      "\t-> n_subcouplings_parallel\n",
      "\t-> relax_factor\n",
      "\t-> reset_history_each_run\n",
      "\t-> sub_mda_class\n",
      "\t-> tolerance\n",
      "\t-> use_lu_fact\n",
      "\t-> warm_start\n",
      "\t-> warm_start_threshold\n",
      "\t<- residuals_history\n",
      "\t|_ SellarDoeScenario\n",
      "\t\t-> algo\n",
      "\t\t-> algo_options\n",
      "\t\t-> cache_file_path\n",
      "\t\t-> cache_type\n",
      "\t\t-> design_space\n",
      "\t\t-> differentiation_method\n",
      "\t\t-> eval_jac\n",
      "\t\t-> eval_mode\n",
      "\t\t-> execute_at_xopt\n",
      "\t\t-> formulation\n",
      "\t\t-> linearization_mode\n",
      "\t\t-> n_samples\n",
      "\t\t-> objective_name\n",
      "\t\t-> parallel_options\n",
      "\t\t-> x\n",
      "\t\t-> z\n",
      "\t\t<- c_1\n",
      "\t\t<- c_2\n",
      "\t\t<- design_space_out\n",
      "\t\t<- doe_ds_io\n",
      "\t\t<- obj\n",
      "\t\t<- optim_result\n",
      "\t\t<- y_1\n",
      "\t\t<- y_2\n",
      "\t\t|_ Sellar_Problem\n",
      "\t\t\t-> cache_file_path\n",
      "\t\t\t-> cache_type\n",
      "\t\t\t-> linearization_mode\n",
      "\t\t\t-> local_dv\n",
      "\t\t|_ Sellar_2\n",
      "\t\t\t-> cache_file_path\n",
      "\t\t\t-> cache_type\n",
      "\t\t\t-> linearization_mode\n",
      "\t\t|_ Sellar_1\n",
      "\t\t\t-> cache_file_path\n",
      "\t\t\t-> cache_type\n",
      "\t\t\t-> linearization_mode\n"
     ]
    },
    {
     "data": {
      "text/plain": [
       "'Nodes representation for Treeview doe\\n|_ doe\\n\\t-> acceleration\\n\\t-> cache_file_path\\n\\t-> cache_type\\n\\t-> chain_linearize\\n\\t-> condition_func\\n\\t-> epsilon0\\n\\t-> group_mda_disciplines\\n\\t-> linear_solver_MDA\\n\\t-> linear_solver_MDA_options\\n\\t-> linear_solver_MDO\\n\\t-> linear_solver_MDO_options\\n\\t-> linearization_mode\\n\\t-> max_mda_iter\\n\\t-> max_mda_iter_gs\\n\\t-> n_processes\\n\\t-> n_subcouplings_parallel\\n\\t-> relax_factor\\n\\t-> reset_history_each_run\\n\\t-> sub_mda_class\\n\\t-> tolerance\\n\\t-> use_lu_fact\\n\\t-> warm_start\\n\\t-> warm_start_threshold\\n\\t<- residuals_history\\n\\t|_ SellarDoeScenario\\n\\t\\t-> algo\\n\\t\\t-> algo_options\\n\\t\\t-> cache_file_path\\n\\t\\t-> cache_type\\n\\t\\t-> design_space\\n\\t\\t-> differentiation_method\\n\\t\\t-> eval_jac\\n\\t\\t-> eval_mode\\n\\t\\t-> execute_at_xopt\\n\\t\\t-> formulation\\n\\t\\t-> linearization_mode\\n\\t\\t-> n_samples\\n\\t\\t-> objective_name\\n\\t\\t-> parallel_options\\n\\t\\t-> x\\n\\t\\t-> z\\n\\t\\t<- c_1\\n\\t\\t<- c_2\\n\\t\\t<- design_space_out\\n\\t\\t<- doe_ds_io\\n\\t\\t<- obj\\n\\t\\t<- optim_result\\n\\t\\t<- y_1\\n\\t\\t<- y_2\\n\\t\\t|_ Sellar_Problem\\n\\t\\t\\t-> cache_file_path\\n\\t\\t\\t-> cache_type\\n\\t\\t\\t-> linearization_mode\\n\\t\\t\\t-> local_dv\\n\\t\\t|_ Sellar_2\\n\\t\\t\\t-> cache_file_path\\n\\t\\t\\t-> cache_type\\n\\t\\t\\t-> linearization_mode\\n\\t\\t|_ Sellar_1\\n\\t\\t\\t-> cache_file_path\\n\\t\\t\\t-> cache_type\\n\\t\\t\\t-> linearization_mode'"
      ]
     },
     "execution_count": 15,
     "metadata": {},
     "output_type": "execute_result"
    }
   ],
   "source": [
    "exec_eng.display_treeview_nodes(True)"
   ]
  },
  {
   "cell_type": "code",
   "execution_count": 16,
   "id": "d4cd4c8a",
   "metadata": {},
   "outputs": [
    {
     "data": {
      "text/plain": [
       "'MDAJacobi'"
      ]
     },
     "execution_count": 16,
     "metadata": {},
     "output_type": "execute_result"
    }
   ],
   "source": [
    "exec_eng.dm.get_data('doe.sub_mda_class')['value']"
   ]
  },
  {
   "cell_type": "markdown",
   "id": "2e0afe56",
   "metadata": {},
   "source": [
    "Possible algo options:"
   ]
  },
  {
   "cell_type": "code",
   "execution_count": 17,
   "id": "a5efd6cd",
   "metadata": {},
   "outputs": [
    {
     "name": "stdout",
     "output_type": "stream",
     "text": [
      "['criterion', 'iterations', 'n_samples', 'eval_jac', 'n_processes', 'wait_time_between_samples', 'seed', 'max_time']\n"
     ]
    }
   ],
   "source": [
    "from gemseo.algos.doe.doe_factory import DOEFactory\n",
    "driver_lib = DOEFactory().create(my_doe_algo)\n",
    "driver_lib.init_options_grammar(my_doe_algo)\n",
    "algo_options_keys = list(driver_lib.opt_grammar.properties_dict.keys())\n",
    "print(algo_options_keys)"
   ]
  },
  {
   "cell_type": "code",
   "execution_count": 18,
   "id": "dc855073",
   "metadata": {},
   "outputs": [
    {
     "data": {
      "text/plain": [
       "['criterion',\n",
       " 'iterations',\n",
       " 'n_samples',\n",
       " 'eval_jac',\n",
       " 'n_processes',\n",
       " 'wait_time_between_samples',\n",
       " 'seed',\n",
       " 'max_time']"
      ]
     },
     "execution_count": 18,
     "metadata": {},
     "output_type": "execute_result"
    }
   ],
   "source": [
    "schema_dict = driver_lib.opt_grammar.schema.to_dict()\n",
    "properties = schema_dict.get(driver_lib.opt_grammar.PROPERTIES_FIELD)\n",
    "algo_options_keys = list(properties.keys()) \n",
    "algo_options_keys"
   ]
  },
  {
   "cell_type": "code",
   "execution_count": 19,
   "id": "658c1cf7",
   "metadata": {},
   "outputs": [
    {
     "data": {
      "text/plain": [
       "{'doe.SellarDoeScenario.n_samples': 100,\n",
       " 'doe.SellarDoeScenario.algo': 'lhs',\n",
       " 'doe.SellarDoeScenario.design_space':   variable       value     lower_bnd     upper_bnd  enable_variable  \\\n",
       " 0        x         1.0           0.0          10.0             True   \n",
       " 1        z  [5.0, 2.0]  [-10.0, 0.0]  [10.0, 10.0]             True   \n",
       " 2      y_1         1.0        -100.0         100.0             True   \n",
       " 3      y_2         1.0        -100.0         100.0             True   \n",
       " \n",
       "   activated_elem  \n",
       " 0         [True]  \n",
       " 1   [True, True]  \n",
       " 2         [True]  \n",
       " 3         [True]  ,\n",
       " 'doe.SellarDoeScenario.formulation': 'MDF',\n",
       " 'doe.SellarDoeScenario.objective_name': 'obj'}"
      ]
     },
     "execution_count": 19,
     "metadata": {},
     "output_type": "execute_result"
    }
   ],
   "source": [
    "#-- set up disciplines in Scenario\n",
    "disc_dict = {}\n",
    "# Doe inputs\n",
    "disc_dict[f'{ns}.SellarDoeScenario.n_samples'] = 100\n",
    "# 'lhs', 'CustomDOE', 'fullfact', ...\n",
    "disc_dict[f'{ns}.SellarDoeScenario.algo'] = my_doe_algo\n",
    "disc_dict[f'{ns}.SellarDoeScenario.design_space'] = dspace\n",
    "\n",
    "disc_dict[f'{ns}.SellarDoeScenario.formulation'] = my_formulation\n",
    "disc_dict[f'{ns}.SellarDoeScenario.objective_name'] = 'obj'\n",
    "#disc_dict[f'{ns}.SellarDoeScenario.ineq_constraints'] = [f'c_1', f'c_2']\n",
    "#disc_dict[f'{ns}.SellarDoeScenario.algo_options'] = {'levels': 'None'\n",
    "#                                                    }\n",
    "\n",
    "disc_dict"
   ]
  },
  {
   "cell_type": "markdown",
   "id": "38556f7c",
   "metadata": {},
   "source": [
    "Remark: in fact it is a <b> DoE optim </b> (with 'obj' variable taken as obj function) ! Here dspace variable was used."
   ]
  },
  {
   "cell_type": "code",
   "execution_count": 20,
   "id": "c782484c",
   "metadata": {},
   "outputs": [
    {
     "data": {
      "text/html": [
       "<div>\n",
       "<style scoped>\n",
       "    .dataframe tbody tr th:only-of-type {\n",
       "        vertical-align: middle;\n",
       "    }\n",
       "\n",
       "    .dataframe tbody tr th {\n",
       "        vertical-align: top;\n",
       "    }\n",
       "\n",
       "    .dataframe thead th {\n",
       "        text-align: right;\n",
       "    }\n",
       "</style>\n",
       "<table border=\"1\" class=\"dataframe\">\n",
       "  <thead>\n",
       "    <tr style=\"text-align: right;\">\n",
       "      <th></th>\n",
       "      <th>0</th>\n",
       "    </tr>\n",
       "  </thead>\n",
       "  <tbody>\n",
       "    <tr>\n",
       "      <th>doe.SellarDoeScenario.n_samples</th>\n",
       "      <td>100</td>\n",
       "    </tr>\n",
       "    <tr>\n",
       "      <th>doe.SellarDoeScenario.algo</th>\n",
       "      <td>lhs</td>\n",
       "    </tr>\n",
       "    <tr>\n",
       "      <th>doe.SellarDoeScenario.design_space</th>\n",
       "      <td>variable       value     lower_bnd     upper...</td>\n",
       "    </tr>\n",
       "    <tr>\n",
       "      <th>doe.SellarDoeScenario.formulation</th>\n",
       "      <td>MDF</td>\n",
       "    </tr>\n",
       "    <tr>\n",
       "      <th>doe.SellarDoeScenario.objective_name</th>\n",
       "      <td>obj</td>\n",
       "    </tr>\n",
       "  </tbody>\n",
       "</table>\n",
       "</div>"
      ],
      "text/plain": [
       "                                                                                      0\n",
       "doe.SellarDoeScenario.n_samples                                                     100\n",
       "doe.SellarDoeScenario.algo                                                          lhs\n",
       "doe.SellarDoeScenario.design_space      variable       value     lower_bnd     upper...\n",
       "doe.SellarDoeScenario.formulation                                                   MDF\n",
       "doe.SellarDoeScenario.objective_name                                                obj"
      ]
     },
     "execution_count": 20,
     "metadata": {},
     "output_type": "execute_result"
    }
   ],
   "source": [
    "my_dict = exec_eng.get_anonimated_data_dict()\n",
    "pd.DataFrame.from_dict(disc_dict,orient='index')"
   ]
  },
  {
   "cell_type": "code",
   "execution_count": 21,
   "id": "20e79291",
   "metadata": {},
   "outputs": [],
   "source": [
    "exec_eng.dm.set_values_from_dict(disc_dict)"
   ]
  },
  {
   "cell_type": "markdown",
   "id": "3d091459",
   "metadata": {},
   "source": [
    "# 2 Display Disciplines I/O variables"
   ]
  },
  {
   "cell_type": "code",
   "execution_count": 22,
   "id": "8add250d",
   "metadata": {},
   "outputs": [],
   "source": [
    "sellar1 = exec_eng.dm.get_disciplines_with_name(\"doe.\" + \"SellarDoeScenario.Sellar_1\")[0]"
   ]
  },
  {
   "cell_type": "code",
   "execution_count": 23,
   "id": "0463f5e9",
   "metadata": {},
   "outputs": [
    {
     "data": {
      "text/plain": [
       "sos_trades_core.sos_disciplines.test_discs.sellar.Sellar1"
      ]
     },
     "execution_count": 23,
     "metadata": {},
     "output_type": "execute_result"
    }
   ],
   "source": [
    "type(sellar1)"
   ]
  },
  {
   "cell_type": "code",
   "execution_count": 24,
   "id": "173e9156",
   "metadata": {},
   "outputs": [],
   "source": [
    "DESC_IN = sellar1.DESC_IN\n",
    "DESC_OUT = sellar1.DESC_OUT\n",
    "DESC_IN_df = pd.DataFrame.from_dict(DESC_IN,orient='index')\n",
    "DESC_OUT_df = pd.DataFrame.from_dict(DESC_OUT,orient='index')"
   ]
  },
  {
   "cell_type": "code",
   "execution_count": 25,
   "id": "b503c7fa",
   "metadata": {},
   "outputs": [
    {
     "data": {
      "text/html": [
       "<div>\n",
       "<style scoped>\n",
       "    .dataframe tbody tr th:only-of-type {\n",
       "        vertical-align: middle;\n",
       "    }\n",
       "\n",
       "    .dataframe tbody tr th {\n",
       "        vertical-align: top;\n",
       "    }\n",
       "\n",
       "    .dataframe thead th {\n",
       "        text-align: right;\n",
       "    }\n",
       "</style>\n",
       "<table border=\"1\" class=\"dataframe\">\n",
       "  <thead>\n",
       "    <tr style=\"text-align: right;\">\n",
       "      <th></th>\n",
       "      <th>type</th>\n",
       "      <th>visibility</th>\n",
       "      <th>namespace</th>\n",
       "    </tr>\n",
       "  </thead>\n",
       "  <tbody>\n",
       "    <tr>\n",
       "      <th>x</th>\n",
       "      <td>float</td>\n",
       "      <td>Shared</td>\n",
       "      <td>ns_OptimSellar</td>\n",
       "    </tr>\n",
       "    <tr>\n",
       "      <th>y_2</th>\n",
       "      <td>float</td>\n",
       "      <td>Shared</td>\n",
       "      <td>ns_OptimSellar</td>\n",
       "    </tr>\n",
       "    <tr>\n",
       "      <th>z</th>\n",
       "      <td>array</td>\n",
       "      <td>Shared</td>\n",
       "      <td>ns_OptimSellar</td>\n",
       "    </tr>\n",
       "  </tbody>\n",
       "</table>\n",
       "</div>"
      ],
      "text/plain": [
       "      type visibility       namespace\n",
       "x    float     Shared  ns_OptimSellar\n",
       "y_2  float     Shared  ns_OptimSellar\n",
       "z    array     Shared  ns_OptimSellar"
      ]
     },
     "execution_count": 25,
     "metadata": {},
     "output_type": "execute_result"
    }
   ],
   "source": [
    "DESC_IN_df"
   ]
  },
  {
   "cell_type": "code",
   "execution_count": 26,
   "id": "4f63fa85",
   "metadata": {},
   "outputs": [
    {
     "data": {
      "text/html": [
       "<div>\n",
       "<style scoped>\n",
       "    .dataframe tbody tr th:only-of-type {\n",
       "        vertical-align: middle;\n",
       "    }\n",
       "\n",
       "    .dataframe tbody tr th {\n",
       "        vertical-align: top;\n",
       "    }\n",
       "\n",
       "    .dataframe thead th {\n",
       "        text-align: right;\n",
       "    }\n",
       "</style>\n",
       "<table border=\"1\" class=\"dataframe\">\n",
       "  <thead>\n",
       "    <tr style=\"text-align: right;\">\n",
       "      <th></th>\n",
       "      <th>type</th>\n",
       "      <th>visibility</th>\n",
       "      <th>namespace</th>\n",
       "    </tr>\n",
       "  </thead>\n",
       "  <tbody>\n",
       "    <tr>\n",
       "      <th>y_1</th>\n",
       "      <td>float</td>\n",
       "      <td>Shared</td>\n",
       "      <td>ns_OptimSellar</td>\n",
       "    </tr>\n",
       "  </tbody>\n",
       "</table>\n",
       "</div>"
      ],
      "text/plain": [
       "      type visibility       namespace\n",
       "y_1  float     Shared  ns_OptimSellar"
      ]
     },
     "execution_count": 26,
     "metadata": {},
     "output_type": "execute_result"
    }
   ],
   "source": [
    "DESC_OUT_df"
   ]
  },
  {
   "cell_type": "code",
   "execution_count": 27,
   "id": "a24b0116",
   "metadata": {},
   "outputs": [],
   "source": [
    "sellar2 = exec_eng.dm.get_disciplines_with_name(\"doe.\" + \"SellarDoeScenario.Sellar_2\")[0]"
   ]
  },
  {
   "cell_type": "code",
   "execution_count": 28,
   "id": "6e49bd6a",
   "metadata": {},
   "outputs": [],
   "source": [
    "DESC_IN = sellar2.DESC_IN\n",
    "DESC_OUT = sellar2.DESC_OUT\n",
    "DESC_IN_df = pd.DataFrame.from_dict(DESC_IN,orient='index')\n",
    "DESC_OUT_df = pd.DataFrame.from_dict(DESC_OUT,orient='index')"
   ]
  },
  {
   "cell_type": "code",
   "execution_count": 29,
   "id": "bd9e607a",
   "metadata": {},
   "outputs": [
    {
     "data": {
      "text/html": [
       "<div>\n",
       "<style scoped>\n",
       "    .dataframe tbody tr th:only-of-type {\n",
       "        vertical-align: middle;\n",
       "    }\n",
       "\n",
       "    .dataframe tbody tr th {\n",
       "        vertical-align: top;\n",
       "    }\n",
       "\n",
       "    .dataframe thead th {\n",
       "        text-align: right;\n",
       "    }\n",
       "</style>\n",
       "<table border=\"1\" class=\"dataframe\">\n",
       "  <thead>\n",
       "    <tr style=\"text-align: right;\">\n",
       "      <th></th>\n",
       "      <th>type</th>\n",
       "      <th>visibility</th>\n",
       "      <th>namespace</th>\n",
       "    </tr>\n",
       "  </thead>\n",
       "  <tbody>\n",
       "    <tr>\n",
       "      <th>y_1</th>\n",
       "      <td>float</td>\n",
       "      <td>Shared</td>\n",
       "      <td>ns_OptimSellar</td>\n",
       "    </tr>\n",
       "    <tr>\n",
       "      <th>z</th>\n",
       "      <td>array</td>\n",
       "      <td>Shared</td>\n",
       "      <td>ns_OptimSellar</td>\n",
       "    </tr>\n",
       "  </tbody>\n",
       "</table>\n",
       "</div>"
      ],
      "text/plain": [
       "      type visibility       namespace\n",
       "y_1  float     Shared  ns_OptimSellar\n",
       "z    array     Shared  ns_OptimSellar"
      ]
     },
     "execution_count": 29,
     "metadata": {},
     "output_type": "execute_result"
    }
   ],
   "source": [
    "DESC_IN_df"
   ]
  },
  {
   "cell_type": "code",
   "execution_count": 30,
   "id": "848a5e1b",
   "metadata": {},
   "outputs": [
    {
     "data": {
      "text/html": [
       "<div>\n",
       "<style scoped>\n",
       "    .dataframe tbody tr th:only-of-type {\n",
       "        vertical-align: middle;\n",
       "    }\n",
       "\n",
       "    .dataframe tbody tr th {\n",
       "        vertical-align: top;\n",
       "    }\n",
       "\n",
       "    .dataframe thead th {\n",
       "        text-align: right;\n",
       "    }\n",
       "</style>\n",
       "<table border=\"1\" class=\"dataframe\">\n",
       "  <thead>\n",
       "    <tr style=\"text-align: right;\">\n",
       "      <th></th>\n",
       "      <th>type</th>\n",
       "      <th>visibility</th>\n",
       "      <th>namespace</th>\n",
       "    </tr>\n",
       "  </thead>\n",
       "  <tbody>\n",
       "    <tr>\n",
       "      <th>y_2</th>\n",
       "      <td>float</td>\n",
       "      <td>Shared</td>\n",
       "      <td>ns_OptimSellar</td>\n",
       "    </tr>\n",
       "  </tbody>\n",
       "</table>\n",
       "</div>"
      ],
      "text/plain": [
       "      type visibility       namespace\n",
       "y_2  float     Shared  ns_OptimSellar"
      ]
     },
     "execution_count": 30,
     "metadata": {},
     "output_type": "execute_result"
    }
   ],
   "source": [
    "DESC_OUT_df"
   ]
  },
  {
   "cell_type": "code",
   "execution_count": 31,
   "id": "f4cbb66c",
   "metadata": {},
   "outputs": [],
   "source": [
    "sellarP = exec_eng.dm.get_disciplines_with_name(\"doe.\" + \"SellarDoeScenario.Sellar_Problem\")[0]"
   ]
  },
  {
   "cell_type": "code",
   "execution_count": 32,
   "id": "18d0f88d",
   "metadata": {},
   "outputs": [],
   "source": [
    "DESC_IN = sellarP.DESC_IN\n",
    "DESC_OUT = sellarP.DESC_OUT\n",
    "DESC_IN_df = pd.DataFrame.from_dict(DESC_IN,orient='index')\n",
    "DESC_OUT_df = pd.DataFrame.from_dict(DESC_OUT,orient='index')"
   ]
  },
  {
   "cell_type": "code",
   "execution_count": 33,
   "id": "6d00f9e0",
   "metadata": {},
   "outputs": [
    {
     "data": {
      "text/html": [
       "<div>\n",
       "<style scoped>\n",
       "    .dataframe tbody tr th:only-of-type {\n",
       "        vertical-align: middle;\n",
       "    }\n",
       "\n",
       "    .dataframe tbody tr th {\n",
       "        vertical-align: top;\n",
       "    }\n",
       "\n",
       "    .dataframe thead th {\n",
       "        text-align: right;\n",
       "    }\n",
       "</style>\n",
       "<table border=\"1\" class=\"dataframe\">\n",
       "  <thead>\n",
       "    <tr style=\"text-align: right;\">\n",
       "      <th></th>\n",
       "      <th>type</th>\n",
       "      <th>visibility</th>\n",
       "      <th>namespace</th>\n",
       "    </tr>\n",
       "  </thead>\n",
       "  <tbody>\n",
       "    <tr>\n",
       "      <th>x</th>\n",
       "      <td>float</td>\n",
       "      <td>Shared</td>\n",
       "      <td>ns_OptimSellar</td>\n",
       "    </tr>\n",
       "    <tr>\n",
       "      <th>y_1</th>\n",
       "      <td>float</td>\n",
       "      <td>Shared</td>\n",
       "      <td>ns_OptimSellar</td>\n",
       "    </tr>\n",
       "    <tr>\n",
       "      <th>y_2</th>\n",
       "      <td>float</td>\n",
       "      <td>Shared</td>\n",
       "      <td>ns_OptimSellar</td>\n",
       "    </tr>\n",
       "    <tr>\n",
       "      <th>z</th>\n",
       "      <td>array</td>\n",
       "      <td>Shared</td>\n",
       "      <td>ns_OptimSellar</td>\n",
       "    </tr>\n",
       "    <tr>\n",
       "      <th>local_dv</th>\n",
       "      <td>float</td>\n",
       "      <td>NaN</td>\n",
       "      <td>NaN</td>\n",
       "    </tr>\n",
       "  </tbody>\n",
       "</table>\n",
       "</div>"
      ],
      "text/plain": [
       "           type visibility       namespace\n",
       "x         float     Shared  ns_OptimSellar\n",
       "y_1       float     Shared  ns_OptimSellar\n",
       "y_2       float     Shared  ns_OptimSellar\n",
       "z         array     Shared  ns_OptimSellar\n",
       "local_dv  float        NaN             NaN"
      ]
     },
     "execution_count": 33,
     "metadata": {},
     "output_type": "execute_result"
    }
   ],
   "source": [
    "DESC_IN_df"
   ]
  },
  {
   "cell_type": "code",
   "execution_count": 34,
   "id": "f65e0dc0",
   "metadata": {
    "scrolled": false
   },
   "outputs": [
    {
     "data": {
      "text/html": [
       "<div>\n",
       "<style scoped>\n",
       "    .dataframe tbody tr th:only-of-type {\n",
       "        vertical-align: middle;\n",
       "    }\n",
       "\n",
       "    .dataframe tbody tr th {\n",
       "        vertical-align: top;\n",
       "    }\n",
       "\n",
       "    .dataframe thead th {\n",
       "        text-align: right;\n",
       "    }\n",
       "</style>\n",
       "<table border=\"1\" class=\"dataframe\">\n",
       "  <thead>\n",
       "    <tr style=\"text-align: right;\">\n",
       "      <th></th>\n",
       "      <th>type</th>\n",
       "      <th>visibility</th>\n",
       "      <th>namespace</th>\n",
       "    </tr>\n",
       "  </thead>\n",
       "  <tbody>\n",
       "    <tr>\n",
       "      <th>c_1</th>\n",
       "      <td>array</td>\n",
       "      <td>Shared</td>\n",
       "      <td>ns_OptimSellar</td>\n",
       "    </tr>\n",
       "    <tr>\n",
       "      <th>c_2</th>\n",
       "      <td>array</td>\n",
       "      <td>Shared</td>\n",
       "      <td>ns_OptimSellar</td>\n",
       "    </tr>\n",
       "    <tr>\n",
       "      <th>obj</th>\n",
       "      <td>array</td>\n",
       "      <td>Shared</td>\n",
       "      <td>ns_OptimSellar</td>\n",
       "    </tr>\n",
       "  </tbody>\n",
       "</table>\n",
       "</div>"
      ],
      "text/plain": [
       "      type visibility       namespace\n",
       "c_1  array     Shared  ns_OptimSellar\n",
       "c_2  array     Shared  ns_OptimSellar\n",
       "obj  array     Shared  ns_OptimSellar"
      ]
     },
     "execution_count": 34,
     "metadata": {},
     "output_type": "execute_result"
    }
   ],
   "source": [
    "DESC_OUT_df"
   ]
  },
  {
   "cell_type": "code",
   "execution_count": null,
   "id": "ce1f2890",
   "metadata": {},
   "outputs": [],
   "source": []
  },
  {
   "cell_type": "markdown",
   "id": "3d46d809",
   "metadata": {},
   "source": [
    "# 3 Provide Discipline inputs"
   ]
  },
  {
   "cell_type": "code",
   "execution_count": 35,
   "id": "d3c4d21e",
   "metadata": {},
   "outputs": [
    {
     "data": {
      "text/html": [
       "<div>\n",
       "<style scoped>\n",
       "    .dataframe tbody tr th:only-of-type {\n",
       "        vertical-align: middle;\n",
       "    }\n",
       "\n",
       "    .dataframe tbody tr th {\n",
       "        vertical-align: top;\n",
       "    }\n",
       "\n",
       "    .dataframe thead th {\n",
       "        text-align: right;\n",
       "    }\n",
       "</style>\n",
       "<table border=\"1\" class=\"dataframe\">\n",
       "  <thead>\n",
       "    <tr style=\"text-align: right;\">\n",
       "      <th></th>\n",
       "      <th>0</th>\n",
       "    </tr>\n",
       "  </thead>\n",
       "  <tbody>\n",
       "    <tr>\n",
       "      <th>doe.SellarDoeScenario.x</th>\n",
       "      <td>1.0</td>\n",
       "    </tr>\n",
       "    <tr>\n",
       "      <th>doe.SellarDoeScenario.y_1</th>\n",
       "      <td>1.0</td>\n",
       "    </tr>\n",
       "    <tr>\n",
       "      <th>doe.SellarDoeScenario.y_2</th>\n",
       "      <td>1.0</td>\n",
       "    </tr>\n",
       "    <tr>\n",
       "      <th>doe.SellarDoeScenario.z</th>\n",
       "      <td>[1.0, 1.0]</td>\n",
       "    </tr>\n",
       "    <tr>\n",
       "      <th>doe.SellarDoeScenario.Sellar_Problem.local_dv</th>\n",
       "      <td>10.0</td>\n",
       "    </tr>\n",
       "    <tr>\n",
       "      <th>doe.SellarDoeScenario.cache_type</th>\n",
       "      <td>MemoryFullCache</td>\n",
       "    </tr>\n",
       "    <tr>\n",
       "      <th>doe.SellarDoeScenario.Sellar_1.cache_type</th>\n",
       "      <td>MemoryFullCache</td>\n",
       "    </tr>\n",
       "    <tr>\n",
       "      <th>doe.SellarDoeScenario.Sellar_2.cache_type</th>\n",
       "      <td>MemoryFullCache</td>\n",
       "    </tr>\n",
       "  </tbody>\n",
       "</table>\n",
       "</div>"
      ],
      "text/plain": [
       "                                                             0\n",
       "doe.SellarDoeScenario.x                                    1.0\n",
       "doe.SellarDoeScenario.y_1                                  1.0\n",
       "doe.SellarDoeScenario.y_2                                  1.0\n",
       "doe.SellarDoeScenario.z                             [1.0, 1.0]\n",
       "doe.SellarDoeScenario.Sellar_Problem.local_dv             10.0\n",
       "doe.SellarDoeScenario.cache_type               MemoryFullCache\n",
       "doe.SellarDoeScenario.Sellar_1.cache_type      MemoryFullCache\n",
       "doe.SellarDoeScenario.Sellar_2.cache_type      MemoryFullCache"
      ]
     },
     "execution_count": 35,
     "metadata": {},
     "output_type": "execute_result"
    }
   ],
   "source": [
    "# Sellar inputs\n",
    "local_dv = 10.\n",
    "values_dict = {}\n",
    "values_dict[f'{ns}.{sc_name}.x'] = 1.  \n",
    "values_dict[f'{ns}.{sc_name}.y_1'] = 1. \n",
    "values_dict[f'{ns}.{sc_name}.y_2'] = 1. \n",
    "values_dict[f'{ns}.{sc_name}.z'] = array([1., 1.])\n",
    "values_dict[f'{ns}.{sc_name}.Sellar_Problem.local_dv'] = local_dv\n",
    "#values_dict[f'{ns}.cache_type'] = 'MemoryFullCache'  # KO !!!\n",
    "values_dict[f'{ns}.{sc_name}.cache_type'] = 'MemoryFullCache' #OK but remain SimpleCache\n",
    "values_dict[f'{ns}.{sc_name}.Sellar_1.cache_type'] = 'MemoryFullCache'\n",
    "values_dict[f'{ns}.{sc_name}.Sellar_2.cache_type'] = 'MemoryFullCache'\n",
    "#values_dict[f'{ns}.{sc_name}.Sellar_Problem.cache_type'] = 'MemoryFullCache'  # KO !!! Problem with local_dv (the variable that is not shared)\n",
    "\n",
    "values_dict\n",
    "my_dict = exec_eng.get_anonimated_data_dict()\n",
    "pd.DataFrame.from_dict(values_dict,orient='index')"
   ]
  },
  {
   "cell_type": "code",
   "execution_count": 36,
   "id": "5cc45bae",
   "metadata": {},
   "outputs": [
    {
     "name": "stderr",
     "output_type": "stream",
     "text": [
      "INFO:SoS.EE:configuring ...\n",
      "WARNING:SoS.EE.SoSDoeScenario:The differentiation method \"finite_differences\" will overload the linearization mode \"auto\" \n",
      "WARNING:SoS.EE.SoSDoeScenario:The differentiation method \"finite_differences\" will overload the linearization mode \"auto\" \n",
      "WARNING:SoS.EE.SoSDoeScenario:The differentiation method \"finite_differences\" will overload the linearization mode \"auto\" \n",
      "WARNING:gemseo.mda.mda_chain:No coupling in MDA, switching chain_linearize to True\n",
      "INFO:SoS.EE.Coupling:The MDA solver of the Coupling doe is set to MDAJacobi\n"
     ]
    }
   ],
   "source": [
    "exec_eng.dm.set_values_from_dict(values_dict)\n",
    "exec_eng.configure()"
   ]
  },
  {
   "cell_type": "markdown",
   "id": "a6bde00c",
   "metadata": {},
   "source": [
    "# 4 Run Doe scenario"
   ]
  },
  {
   "cell_type": "code",
   "execution_count": 37,
   "id": "d14d1e0f",
   "metadata": {
    "scrolled": true
   },
   "outputs": [
    {
     "name": "stderr",
     "output_type": "stream",
     "text": [
      "INFO:SoS.EE:PROCESS EXECUTION doe STARTS...\n",
      "INFO:gemseo.core.doe_scenario: \n",
      "INFO:gemseo.core.doe_scenario:*** Start DOE Scenario execution ***\n",
      "INFO:gemseo.core.doe_scenario:SellarDoeScenario\n",
      "   Disciplines: Sellar_Problem Sellar_2 Sellar_1\n",
      "   MDOFormulation: MDF\n",
      "   Algorithm: None\n",
      "INFO:SoS.EE.SoSDoeScenario:{'iterations': 5, 'eval_jac': False, 'n_processes': 1, 'wait_time_between_samples': 0.0, 'seed': 1, 'max_time': 0}\n",
      "INFO:gemseo.algos.doe.doe_lib:Optimization problem:\n",
      "   Minimize: doe.SellarDoeScenario.obj(doe.SellarDoeScenario.x, doe.SellarDoeScenario.z)\n",
      "   With respect to: doe.SellarDoeScenario.x, doe.SellarDoeScenario.z\n",
      "INFO:gemseo.algos.driver_lib:DOE sampling:   0%|          | 0/100 [00:00<?, ?it]\n"
     ]
    },
    {
     "name": "stdout",
     "output_type": "stream",
     "text": [
      "my_options\n",
      "{'iterations': 5, 'eval_jac': False, 'n_processes': 1, 'wait_time_between_samples': 0.0, 'seed': 1, 'max_time': 0}\n"
     ]
    },
    {
     "name": "stderr",
     "output_type": "stream",
     "text": [
      "INFO:sos_trades_core.execution_engine.gemseo_overloads.mda:\t1\t1.246212e+07\n",
      "INFO:sos_trades_core.execution_engine.gemseo_overloads.mda:\t2\t2.437255e+06\n",
      "INFO:sos_trades_core.execution_engine.gemseo_overloads.mda:\t3\t4.667075e+05\n",
      "INFO:sos_trades_core.execution_engine.gemseo_overloads.mda:\t4\t2.766021e+04\n",
      "INFO:sos_trades_core.execution_engine.gemseo_overloads.mda:\t5\t5.239659e+01\n",
      "INFO:sos_trades_core.execution_engine.gemseo_overloads.mda:\t6\t1.659148e-04\n",
      "INFO:sos_trades_core.execution_engine.gemseo_overloads.mda:\t7\t1.776357e-09\n",
      "INFO:gemseo.algos.driver_lib:DOE sampling:   1%|          | 1/100 [00:00<00:00, 765.45 it/sec, obj=119]\n",
      "INFO:sos_trades_core.execution_engine.gemseo_overloads.mda:\t1\t1.168371e+07\n",
      "INFO:sos_trades_core.execution_engine.gemseo_overloads.mda:\t2\t2.304065e+06\n",
      "INFO:sos_trades_core.execution_engine.gemseo_overloads.mda:\t3\t4.477050e+05\n",
      "INFO:sos_trades_core.execution_engine.gemseo_overloads.mda:\t4\t2.842687e+04\n",
      "INFO:sos_trades_core.execution_engine.gemseo_overloads.mda:\t5\t3.765221e+01\n",
      "INFO:sos_trades_core.execution_engine.gemseo_overloads.mda:\t6\t1.237585e-04\n",
      "INFO:sos_trades_core.execution_engine.gemseo_overloads.mda:\t7\t1.256074e-09\n",
      "INFO:gemseo.algos.driver_lib:DOE sampling:   2%|▏         | 2/100 [00:00<00:00, 344.58 it/sec, obj=110]\n",
      "INFO:sos_trades_core.execution_engine.gemseo_overloads.mda:\t1\t8.247227e+06\n",
      "INFO:sos_trades_core.execution_engine.gemseo_overloads.mda:\t2\t1.818868e+06\n",
      "INFO:sos_trades_core.execution_engine.gemseo_overloads.mda:\t3\t3.572736e+05\n",
      "INFO:sos_trades_core.execution_engine.gemseo_overloads.mda:\t4\t2.524331e+04\n",
      "INFO:sos_trades_core.execution_engine.gemseo_overloads.mda:\t5\t2.537995e+01\n",
      "INFO:sos_trades_core.execution_engine.gemseo_overloads.mda:\t6\t1.127590e-04\n",
      "INFO:sos_trades_core.execution_engine.gemseo_overloads.mda:\t7\t6.280370e-10\n",
      "INFO:gemseo.algos.driver_lib:DOE sampling:   3%|▎         | 3/100 [00:00<00:00, 231.04 it/sec, obj=39.9]\n",
      "INFO:sos_trades_core.execution_engine.gemseo_overloads.mda:\t1\t5.442766e+06\n",
      "INFO:sos_trades_core.execution_engine.gemseo_overloads.mda:\t2\t1.334900e+06\n",
      "INFO:sos_trades_core.execution_engine.gemseo_overloads.mda:\t3\t2.646313e+05\n",
      "INFO:sos_trades_core.execution_engine.gemseo_overloads.mda:\t4\t1.243095e+04\n",
      "INFO:sos_trades_core.execution_engine.gemseo_overloads.mda:\t5\t7.903517e+01\n",
      "INFO:sos_trades_core.execution_engine.gemseo_overloads.mda:\t6\t5.391321e-04\n",
      "INFO:sos_trades_core.execution_engine.gemseo_overloads.mda:\t7\t3.140185e-09\n",
      "INFO:gemseo.algos.driver_lib:DOE sampling:   4%|▍         | 4/100 [00:00<00:00, 177.47 it/sec, obj=18.8]\n",
      "INFO:sos_trades_core.execution_engine.gemseo_overloads.mda:\t1\t7.245422e+07\n",
      "INFO:sos_trades_core.execution_engine.gemseo_overloads.mda:\t2\t6.485947e+06\n",
      "INFO:sos_trades_core.execution_engine.gemseo_overloads.mda:\t3\t1.287707e+06\n",
      "INFO:sos_trades_core.execution_engine.gemseo_overloads.mda:\t4\t5.113728e+04\n",
      "INFO:sos_trades_core.execution_engine.gemseo_overloads.mda:\t5\t2.382107e+00\n",
      "INFO:sos_trades_core.execution_engine.gemseo_overloads.mda:\t6\t8.252406e-07\n",
      "INFO:gemseo.algos.driver_lib:DOE sampling:   5%|▌         | 5/100 [00:00<00:00, 148.77 it/sec, obj=170]\n",
      "INFO:sos_trades_core.execution_engine.gemseo_overloads.mda:\t1\t3.042047e+07\n",
      "INFO:sos_trades_core.execution_engine.gemseo_overloads.mda:\t2\t3.985979e+06\n",
      "INFO:sos_trades_core.execution_engine.gemseo_overloads.mda:\t3\t7.871214e+05\n",
      "INFO:sos_trades_core.execution_engine.gemseo_overloads.mda:\t4\t4.276024e+04\n",
      "INFO:sos_trades_core.execution_engine.gemseo_overloads.mda:\t5\t4.891751e+00\n",
      "INFO:sos_trades_core.execution_engine.gemseo_overloads.mda:\t6\t5.137343e-06\n",
      "INFO:sos_trades_core.execution_engine.gemseo_overloads.mda:\t7\t0.000000e+00\n",
      "INFO:gemseo.algos.driver_lib:DOE sampling:   6%|▌         | 6/100 [00:00<00:00, 123.94 it/sec, obj=75.4]\n",
      "INFO:sos_trades_core.execution_engine.gemseo_overloads.mda:\t1\t3.473021e+07\n",
      "INFO:sos_trades_core.execution_engine.gemseo_overloads.mda:\t2\t4.556709e+06\n",
      "INFO:sos_trades_core.execution_engine.gemseo_overloads.mda:\t3\t8.736104e+05\n",
      "INFO:sos_trades_core.execution_engine.gemseo_overloads.mda:\t4\t4.146901e+04\n",
      "INFO:sos_trades_core.execution_engine.gemseo_overloads.mda:\t5\t2.678256e+01\n",
      "INFO:sos_trades_core.execution_engine.gemseo_overloads.mda:\t6\t2.522699e-05\n",
      "INFO:sos_trades_core.execution_engine.gemseo_overloads.mda:\t7\t5.617334e-09\n",
      "INFO:gemseo.algos.driver_lib:DOE sampling:   7%|▋         | 7/100 [00:00<00:00, 107.47 it/sec, obj=82.9]\n",
      "INFO:sos_trades_core.execution_engine.gemseo_overloads.mda:\t1\t5.865006e+07\n",
      "INFO:sos_trades_core.execution_engine.gemseo_overloads.mda:\t2\t5.771662e+06\n",
      "INFO:sos_trades_core.execution_engine.gemseo_overloads.mda:\t3\t1.144597e+06\n",
      "INFO:sos_trades_core.execution_engine.gemseo_overloads.mda:\t4\t4.932826e+04\n",
      "INFO:sos_trades_core.execution_engine.gemseo_overloads.mda:\t5\t2.497427e+00\n",
      "INFO:sos_trades_core.execution_engine.gemseo_overloads.mda:\t6\t1.139259e-06\n",
      "INFO:sos_trades_core.execution_engine.gemseo_overloads.mda:\t7\t1.004859e-08\n",
      "INFO:gemseo.algos.driver_lib:DOE sampling:   8%|▊         | 8/100 [00:01<00:00, 94.15 it/sec, obj=193]\n",
      "INFO:sos_trades_core.execution_engine.gemseo_overloads.mda:\t1\t7.333974e+07\n",
      "INFO:sos_trades_core.execution_engine.gemseo_overloads.mda:\t2\t6.551923e+06\n",
      "INFO:sos_trades_core.execution_engine.gemseo_overloads.mda:\t3\t1.299467e+06\n",
      "INFO:sos_trades_core.execution_engine.gemseo_overloads.mda:\t4\t5.122824e+04\n",
      "INFO:sos_trades_core.execution_engine.gemseo_overloads.mda:\t5\t1.648954e+00\n",
      "INFO:sos_trades_core.execution_engine.gemseo_overloads.mda:\t6\t5.552756e-07\n",
      "INFO:gemseo.algos.driver_lib:DOE sampling:   9%|▉         | 9/100 [00:01<00:01, 85.55 it/sec, obj=193]\n",
      "INFO:sos_trades_core.execution_engine.gemseo_overloads.mda:\t1\t3.016278e+07\n",
      "INFO:sos_trades_core.execution_engine.gemseo_overloads.mda:\t2\t3.984818e+06\n",
      "INFO:sos_trades_core.execution_engine.gemseo_overloads.mda:\t3\t7.861272e+05\n",
      "INFO:sos_trades_core.execution_engine.gemseo_overloads.mda:\t4\t4.236720e+04\n",
      "INFO:sos_trades_core.execution_engine.gemseo_overloads.mda:\t5\t7.976962e+00\n",
      "INFO:sos_trades_core.execution_engine.gemseo_overloads.mda:\t6\t8.575217e-06\n",
      "INFO:sos_trades_core.execution_engine.gemseo_overloads.mda:\t7\t0.000000e+00\n",
      "INFO:gemseo.algos.driver_lib:DOE sampling:  10%|█         | 10/100 [00:01<00:01, 76.13 it/sec, obj=125]\n",
      "INFO:sos_trades_core.execution_engine.gemseo_overloads.mda:\t1\t1.443043e+07\n",
      "INFO:sos_trades_core.execution_engine.gemseo_overloads.mda:\t2\t2.606518e+06\n",
      "INFO:sos_trades_core.execution_engine.gemseo_overloads.mda:\t3\t5.104348e+05\n",
      "INFO:sos_trades_core.execution_engine.gemseo_overloads.mda:\t4\t3.234345e+04\n",
      "INFO:sos_trades_core.execution_engine.gemseo_overloads.mda:\t5\t2.437676e+01\n",
      "INFO:sos_trades_core.execution_engine.gemseo_overloads.mda:\t6\t6.290293e-05\n",
      "INFO:sos_trades_core.execution_engine.gemseo_overloads.mda:\t7\t1.256074e-09\n",
      "INFO:gemseo.algos.driver_lib:DOE sampling:  11%|█         | 11/100 [00:01<00:01, 68.91 it/sec, obj=101]\n",
      "INFO:sos_trades_core.execution_engine.gemseo_overloads.mda:\t1\t5.157443e+06\n",
      "INFO:sos_trades_core.execution_engine.gemseo_overloads.mda:\t2\t1.327168e+06\n",
      "INFO:sos_trades_core.execution_engine.gemseo_overloads.mda:\t3\t2.614855e+05\n",
      "INFO:sos_trades_core.execution_engine.gemseo_overloads.mda:\t4\t1.974757e+04\n",
      "INFO:sos_trades_core.execution_engine.gemseo_overloads.mda:\t5\t1.938730e+01\n",
      "INFO:sos_trades_core.execution_engine.gemseo_overloads.mda:\t6\t1.226902e-04\n",
      "INFO:sos_trades_core.execution_engine.gemseo_overloads.mda:\t7\t8.881784e-10\n",
      "INFO:gemseo.algos.driver_lib:DOE sampling:  12%|█▏        | 12/100 [00:01<00:01, 63.46 it/sec, obj=54.7]\n",
      "INFO:sos_trades_core.execution_engine.gemseo_overloads.mda:\t1\t1.849830e+07\n",
      "INFO:sos_trades_core.execution_engine.gemseo_overloads.mda:\t2\t2.985094e+06\n",
      "INFO:sos_trades_core.execution_engine.gemseo_overloads.mda:\t3\t5.825323e+05\n",
      "INFO:sos_trades_core.execution_engine.gemseo_overloads.mda:\t4\t3.715885e+04\n",
      "INFO:sos_trades_core.execution_engine.gemseo_overloads.mda:\t5\t4.090947e+00\n",
      "INFO:sos_trades_core.execution_engine.gemseo_overloads.mda:\t6\t7.524512e-06\n",
      "INFO:sos_trades_core.execution_engine.gemseo_overloads.mda:\t7\t7.524512e-06\n",
      "INFO:sos_trades_core.execution_engine.gemseo_overloads.mda:\t8\t2.531698e-09\n",
      "INFO:gemseo.algos.driver_lib:DOE sampling:  13%|█▎        | 13/100 [00:01<00:01, 58.26 it/sec, obj=41]\n",
      "INFO:sos_trades_core.execution_engine.gemseo_overloads.mda:\t1\t2.575173e+07\n",
      "INFO:sos_trades_core.execution_engine.gemseo_overloads.mda:\t2\t3.644052e+06\n"
     ]
    },
    {
     "name": "stderr",
     "output_type": "stream",
     "text": [
      "INFO:sos_trades_core.execution_engine.gemseo_overloads.mda:\t3\t7.102053e+05\n",
      "INFO:sos_trades_core.execution_engine.gemseo_overloads.mda:\t4\t4.090707e+04\n",
      "INFO:sos_trades_core.execution_engine.gemseo_overloads.mda:\t5\t3.566950e+00\n",
      "INFO:sos_trades_core.execution_engine.gemseo_overloads.mda:\t6\t4.446188e-06\n",
      "INFO:sos_trades_core.execution_engine.gemseo_overloads.mda:\t7\t3.140185e-10\n",
      "INFO:gemseo.algos.driver_lib:DOE sampling:  14%|█▍        | 14/100 [00:01<00:01, 53.73 it/sec, obj=49.3]\n",
      "INFO:sos_trades_core.execution_engine.gemseo_overloads.mda:\t1\t2.827709e+07\n",
      "INFO:sos_trades_core.execution_engine.gemseo_overloads.mda:\t2\t4.062102e+06\n",
      "INFO:sos_trades_core.execution_engine.gemseo_overloads.mda:\t3\t7.765717e+05\n",
      "INFO:sos_trades_core.execution_engine.gemseo_overloads.mda:\t4\t3.870879e+04\n",
      "INFO:sos_trades_core.execution_engine.gemseo_overloads.mda:\t5\t3.334660e+01\n",
      "INFO:sos_trades_core.execution_engine.gemseo_overloads.mda:\t6\t4.081236e-05\n",
      "INFO:sos_trades_core.execution_engine.gemseo_overloads.mda:\t7\t2.041371e-05\n",
      "INFO:sos_trades_core.execution_engine.gemseo_overloads.mda:\t8\t0.000000e+00\n",
      "INFO:gemseo.algos.driver_lib:DOE sampling:  15%|█▌        | 15/100 [00:02<00:01, 49.93 it/sec, obj=102]\n",
      "INFO:sos_trades_core.execution_engine.gemseo_overloads.mda:\t1\t5.737343e+07\n",
      "INFO:sos_trades_core.execution_engine.gemseo_overloads.mda:\t2\t6.144622e+06\n",
      "INFO:sos_trades_core.execution_engine.gemseo_overloads.mda:\t3\t1.167304e+06\n",
      "INFO:sos_trades_core.execution_engine.gemseo_overloads.mda:\t4\t4.647003e+04\n",
      "INFO:sos_trades_core.execution_engine.gemseo_overloads.mda:\t5\t2.113116e+01\n",
      "INFO:sos_trades_core.execution_engine.gemseo_overloads.mda:\t6\t1.040532e-05\n",
      "INFO:sos_trades_core.execution_engine.gemseo_overloads.mda:\t7\t1.040532e-05\n",
      "INFO:sos_trades_core.execution_engine.gemseo_overloads.mda:\t8\t1.004859e-08\n",
      "INFO:gemseo.algos.driver_lib:DOE sampling:  16%|█▌        | 16/100 [00:02<00:01, 46.55 it/sec, obj=95.1]\n",
      "INFO:sos_trades_core.execution_engine.gemseo_overloads.mda:\t1\t6.469235e+07\n",
      "INFO:sos_trades_core.execution_engine.gemseo_overloads.mda:\t2\t6.185515e+06\n",
      "INFO:sos_trades_core.execution_engine.gemseo_overloads.mda:\t3\t1.217681e+06\n",
      "INFO:sos_trades_core.execution_engine.gemseo_overloads.mda:\t4\t4.994480e+04\n",
      "INFO:sos_trades_core.execution_engine.gemseo_overloads.mda:\t5\t2.255437e+00\n",
      "INFO:sos_trades_core.execution_engine.gemseo_overloads.mda:\t6\t8.836480e-07\n",
      "INFO:gemseo.algos.driver_lib:DOE sampling:  17%|█▋        | 17/100 [00:02<00:01, 44.29 it/sec, obj=201]\n",
      "INFO:sos_trades_core.execution_engine.gemseo_overloads.mda:\t1\t3.811569e+07\n",
      "INFO:sos_trades_core.execution_engine.gemseo_overloads.mda:\t2\t4.587912e+06\n",
      "INFO:sos_trades_core.execution_engine.gemseo_overloads.mda:\t3\t8.969230e+05\n",
      "INFO:sos_trades_core.execution_engine.gemseo_overloads.mda:\t4\t4.499902e+04\n",
      "INFO:sos_trades_core.execution_engine.gemseo_overloads.mda:\t5\t3.131891e+00\n",
      "INFO:sos_trades_core.execution_engine.gemseo_overloads.mda:\t6\t2.414017e-06\n",
      "INFO:sos_trades_core.execution_engine.gemseo_overloads.mda:\t7\t3.140185e-10\n",
      "INFO:gemseo.algos.driver_lib:DOE sampling:  18%|█▊        | 18/100 [00:02<00:01, 41.23 it/sec, obj=80.5]\n",
      "INFO:sos_trades_core.execution_engine.gemseo_overloads.mda:\t1\t1.127379e+07\n",
      "INFO:sos_trades_core.execution_engine.gemseo_overloads.mda:\t2\t2.255125e+06\n",
      "INFO:sos_trades_core.execution_engine.gemseo_overloads.mda:\t3\t4.374934e+05\n",
      "INFO:sos_trades_core.execution_engine.gemseo_overloads.mda:\t4\t2.771940e+04\n",
      "INFO:sos_trades_core.execution_engine.gemseo_overloads.mda:\t5\t4.024803e+01\n",
      "INFO:sos_trades_core.execution_engine.gemseo_overloads.mda:\t6\t1.377147e-04\n",
      "INFO:sos_trades_core.execution_engine.gemseo_overloads.mda:\t7\t1.256074e-09\n",
      "INFO:gemseo.algos.driver_lib:DOE sampling:  19%|█▉        | 19/100 [00:02<00:02, 39.20 it/sec, obj=26.7]\n",
      "INFO:sos_trades_core.execution_engine.gemseo_overloads.mda:\t1\t8.573149e+06\n",
      "INFO:sos_trades_core.execution_engine.gemseo_overloads.mda:\t2\t1.855196e+06\n",
      "INFO:sos_trades_core.execution_engine.gemseo_overloads.mda:\t3\t3.625017e+05\n",
      "INFO:sos_trades_core.execution_engine.gemseo_overloads.mda:\t4\t2.745579e+04\n",
      "INFO:sos_trades_core.execution_engine.gemseo_overloads.mda:\t5\t5.965529e+00\n",
      "INFO:sos_trades_core.execution_engine.gemseo_overloads.mda:\t6\t2.412604e-05\n",
      "INFO:sos_trades_core.execution_engine.gemseo_overloads.mda:\t7\t0.000000e+00\n",
      "INFO:gemseo.algos.driver_lib:DOE sampling:  20%|██        | 20/100 [00:02<00:02, 36.42 it/sec, obj=29.1]\n",
      "INFO:sos_trades_core.execution_engine.gemseo_overloads.mda:\t1\t4.464080e+07\n",
      "INFO:sos_trades_core.execution_engine.gemseo_overloads.mda:\t2\t5.119656e+06\n",
      "INFO:sos_trades_core.execution_engine.gemseo_overloads.mda:\t3\t9.960317e+05\n",
      "INFO:sos_trades_core.execution_engine.gemseo_overloads.mda:\t4\t4.538514e+04\n",
      "INFO:sos_trades_core.execution_engine.gemseo_overloads.mda:\t5\t1.440629e+01\n",
      "INFO:sos_trades_core.execution_engine.gemseo_overloads.mda:\t6\t9.699403e-06\n",
      "INFO:sos_trades_core.execution_engine.gemseo_overloads.mda:\t7\t2.512148e-09\n",
      "INFO:gemseo.algos.driver_lib:DOE sampling:  21%|██        | 21/100 [00:02<00:02, 34.65 it/sec, obj=126]\n",
      "INFO:sos_trades_core.execution_engine.gemseo_overloads.mda:\t1\t2.317098e+07\n",
      "INFO:sos_trades_core.execution_engine.gemseo_overloads.mda:\t2\t3.451685e+06\n",
      "INFO:sos_trades_core.execution_engine.gemseo_overloads.mda:\t3\t6.776861e+05\n",
      "INFO:sos_trades_core.execution_engine.gemseo_overloads.mda:\t4\t3.873702e+04\n",
      "INFO:sos_trades_core.execution_engine.gemseo_overloads.mda:\t5\t1.534622e+01\n",
      "INFO:sos_trades_core.execution_engine.gemseo_overloads.mda:\t6\t2.298615e-05\n",
      "INFO:sos_trades_core.execution_engine.gemseo_overloads.mda:\t7\t2.297736e-05\n",
      "INFO:sos_trades_core.execution_engine.gemseo_overloads.mda:\t8\t0.000000e+00\n",
      "INFO:gemseo.algos.driver_lib:DOE sampling:  22%|██▏       | 22/100 [00:03<00:02, 33.29 it/sec, obj=56.3]\n",
      "INFO:sos_trades_core.execution_engine.gemseo_overloads.mda:\t1\t7.000932e+07\n",
      "INFO:sos_trades_core.execution_engine.gemseo_overloads.mda:\t2\t6.452718e+06\n",
      "INFO:sos_trades_core.execution_engine.gemseo_overloads.mda:\t3\t1.272409e+06\n",
      "INFO:sos_trades_core.execution_engine.gemseo_overloads.mda:\t4\t5.064860e+04\n",
      "INFO:sos_trades_core.execution_engine.gemseo_overloads.mda:\t5\t2.042623e+00\n",
      "INFO:sos_trades_core.execution_engine.gemseo_overloads.mda:\t6\t7.227136e-07\n",
      "INFO:gemseo.algos.driver_lib:DOE sampling:  23%|██▎       | 23/100 [00:03<00:02, 32.21 it/sec, obj=112]\n",
      "INFO:sos_trades_core.execution_engine.gemseo_overloads.mda:\t1\t8.339855e+06\n",
      "INFO:sos_trades_core.execution_engine.gemseo_overloads.mda:\t2\t1.840473e+06\n",
      "INFO:sos_trades_core.execution_engine.gemseo_overloads.mda:\t3\t3.592234e+05\n",
      "INFO:sos_trades_core.execution_engine.gemseo_overloads.mda:\t4\t2.425552e+04\n",
      "INFO:sos_trades_core.execution_engine.gemseo_overloads.mda:\t5\t3.683229e+01\n",
      "INFO:sos_trades_core.execution_engine.gemseo_overloads.mda:\t6\t1.657754e-04\n",
      "INFO:sos_trades_core.execution_engine.gemseo_overloads.mda:\t7\t1.256074e-09\n",
      "INFO:gemseo.algos.driver_lib:DOE sampling:  24%|██▍       | 24/100 [00:03<00:02, 31.15 it/sec, obj=43.4]\n",
      "INFO:sos_trades_core.execution_engine.gemseo_overloads.mda:\t1\t4.644807e+07\n",
      "INFO:sos_trades_core.execution_engine.gemseo_overloads.mda:\t2\t5.217508e+06\n",
      "INFO:sos_trades_core.execution_engine.gemseo_overloads.mda:\t3\t1.016973e+06\n",
      "INFO:sos_trades_core.execution_engine.gemseo_overloads.mda:\t4\t4.592885e+04\n",
      "INFO:sos_trades_core.execution_engine.gemseo_overloads.mda:\t5\t1.301390e+01\n",
      "INFO:sos_trades_core.execution_engine.gemseo_overloads.mda:\t6\t8.307673e-06\n",
      "INFO:sos_trades_core.execution_engine.gemseo_overloads.mda:\t7\t5.024296e-09\n",
      "INFO:gemseo.algos.driver_lib:DOE sampling:  25%|██▌       | 25/100 [00:03<00:02, 30.19 it/sec, obj=104]\n",
      "INFO:sos_trades_core.execution_engine.gemseo_overloads.mda:\t1\t2.627168e+07\n",
      "INFO:sos_trades_core.execution_engine.gemseo_overloads.mda:\t2\t3.796684e+06\n",
      "INFO:sos_trades_core.execution_engine.gemseo_overloads.mda:\t3\t7.365322e+05\n",
      "INFO:sos_trades_core.execution_engine.gemseo_overloads.mda:\t4\t3.906602e+04\n",
      "INFO:sos_trades_core.execution_engine.gemseo_overloads.mda:\t5\t2.422196e+01\n",
      "INFO:sos_trades_core.execution_engine.gemseo_overloads.mda:\t6\t3.188418e-05\n",
      "INFO:sos_trades_core.execution_engine.gemseo_overloads.mda:\t7\t3.188418e-05\n",
      "INFO:sos_trades_core.execution_engine.gemseo_overloads.mda:\t8\t0.000000e+00\n",
      "INFO:gemseo.algos.driver_lib:DOE sampling:  26%|██▌       | 26/100 [00:03<00:02, 29.23 it/sec, obj=76.6]\n",
      "INFO:sos_trades_core.execution_engine.gemseo_overloads.mda:\t1\t4.248634e+07\n"
     ]
    },
    {
     "name": "stderr",
     "output_type": "stream",
     "text": [
      "INFO:sos_trades_core.execution_engine.gemseo_overloads.mda:\t2\t4.819871e+06\n",
      "INFO:sos_trades_core.execution_engine.gemseo_overloads.mda:\t3\t9.534728e+05\n",
      "INFO:sos_trades_core.execution_engine.gemseo_overloads.mda:\t4\t4.629785e+04\n",
      "INFO:sos_trades_core.execution_engine.gemseo_overloads.mda:\t5\t3.055657e+00\n",
      "INFO:sos_trades_core.execution_engine.gemseo_overloads.mda:\t6\t2.105808e-06\n",
      "INFO:sos_trades_core.execution_engine.gemseo_overloads.mda:\t7\t5.024296e-09\n",
      "INFO:gemseo.algos.driver_lib:DOE sampling:  27%|██▋       | 27/100 [00:03<00:02, 28.26 it/sec, obj=160]\n",
      "INFO:sos_trades_core.execution_engine.gemseo_overloads.mda:\t1\t2.472228e+07\n",
      "INFO:sos_trades_core.execution_engine.gemseo_overloads.mda:\t2\t3.631425e+06\n",
      "INFO:sos_trades_core.execution_engine.gemseo_overloads.mda:\t3\t7.080865e+05\n",
      "INFO:sos_trades_core.execution_engine.gemseo_overloads.mda:\t4\t3.879694e+04\n",
      "INFO:sos_trades_core.execution_engine.gemseo_overloads.mda:\t5\t2.107093e+01\n",
      "INFO:sos_trades_core.execution_engine.gemseo_overloads.mda:\t6\t2.962576e-05\n",
      "INFO:sos_trades_core.execution_engine.gemseo_overloads.mda:\t7\t1.256074e-09\n",
      "INFO:gemseo.algos.driver_lib:DOE sampling:  28%|██▊       | 28/100 [00:03<00:02, 27.47 it/sec, obj=53.4]\n",
      "INFO:sos_trades_core.execution_engine.gemseo_overloads.mda:\t1\t5.851503e+07\n",
      "INFO:sos_trades_core.execution_engine.gemseo_overloads.mda:\t2\t5.764094e+06\n",
      "INFO:sos_trades_core.execution_engine.gemseo_overloads.mda:\t3\t1.143086e+06\n",
      "INFO:sos_trades_core.execution_engine.gemseo_overloads.mda:\t4\t4.930198e+04\n",
      "INFO:sos_trades_core.execution_engine.gemseo_overloads.mda:\t5\t2.595694e+00\n",
      "INFO:sos_trades_core.execution_engine.gemseo_overloads.mda:\t6\t1.188246e-06\n",
      "INFO:sos_trades_core.execution_engine.gemseo_overloads.mda:\t7\t1.004859e-08\n",
      "INFO:gemseo.algos.driver_lib:DOE sampling:  29%|██▉       | 29/100 [00:03<00:02, 26.11 it/sec, obj=168]\n",
      "INFO:sos_trades_core.execution_engine.gemseo_overloads.mda:\t1\t1.072326e+07\n",
      "INFO:sos_trades_core.execution_engine.gemseo_overloads.mda:\t2\t2.258850e+06\n",
      "INFO:sos_trades_core.execution_engine.gemseo_overloads.mda:\t3\t4.186118e+05\n",
      "INFO:sos_trades_core.execution_engine.gemseo_overloads.mda:\t4\t2.127605e+04\n",
      "INFO:sos_trades_core.execution_engine.gemseo_overloads.mda:\t5\t9.082308e+01\n",
      "INFO:sos_trades_core.execution_engine.gemseo_overloads.mda:\t6\t3.620206e-04\n",
      "INFO:sos_trades_core.execution_engine.gemseo_overloads.mda:\t7\t2.512148e-09\n",
      "INFO:gemseo.algos.driver_lib:DOE sampling:  30%|███       | 30/100 [00:03<00:02, 25.36 it/sec, obj=35.3]\n",
      "INFO:sos_trades_core.execution_engine.gemseo_overloads.mda:\t1\t6.189717e+06\n",
      "INFO:sos_trades_core.execution_engine.gemseo_overloads.mda:\t2\t1.500167e+06\n",
      "INFO:sos_trades_core.execution_engine.gemseo_overloads.mda:\t3\t2.919786e+05\n",
      "INFO:sos_trades_core.execution_engine.gemseo_overloads.mda:\t4\t1.916892e+04\n",
      "INFO:sos_trades_core.execution_engine.gemseo_overloads.mda:\t5\t4.789638e+01\n",
      "INFO:sos_trades_core.execution_engine.gemseo_overloads.mda:\t6\t2.805265e-04\n",
      "INFO:sos_trades_core.execution_engine.gemseo_overloads.mda:\t7\t1.404333e-09\n",
      "INFO:gemseo.algos.driver_lib:DOE sampling:  31%|███       | 31/100 [00:04<00:02, 24.34 it/sec, obj=44.2]\n",
      "INFO:sos_trades_core.execution_engine.gemseo_overloads.mda:\t1\t4.233052e+07\n",
      "INFO:sos_trades_core.execution_engine.gemseo_overloads.mda:\t2\t4.812579e+06\n",
      "INFO:sos_trades_core.execution_engine.gemseo_overloads.mda:\t3\t9.522648e+05\n",
      "INFO:sos_trades_core.execution_engine.gemseo_overloads.mda:\t4\t4.618116e+04\n",
      "INFO:sos_trades_core.execution_engine.gemseo_overloads.mda:\t5\t4.106797e+00\n",
      "INFO:sos_trades_core.execution_engine.gemseo_overloads.mda:\t6\t2.866361e-06\n",
      "INFO:sos_trades_core.execution_engine.gemseo_overloads.mda:\t7\t5.024296e-09\n",
      "INFO:gemseo.algos.driver_lib:DOE sampling:  32%|███▏      | 32/100 [00:04<00:02, 23.69 it/sec, obj=78.2]\n",
      "INFO:sos_trades_core.execution_engine.gemseo_overloads.mda:\t1\t1.792673e+07\n",
      "INFO:sos_trades_core.execution_engine.gemseo_overloads.mda:\t2\t2.993165e+06\n",
      "INFO:sos_trades_core.execution_engine.gemseo_overloads.mda:\t3\t5.840952e+05\n",
      "INFO:sos_trades_core.execution_engine.gemseo_overloads.mda:\t4\t3.478303e+04\n",
      "INFO:sos_trades_core.execution_engine.gemseo_overloads.mda:\t5\t2.538215e+01\n",
      "INFO:sos_trades_core.execution_engine.gemseo_overloads.mda:\t6\t5.193238e-05\n",
      "INFO:sos_trades_core.execution_engine.gemseo_overloads.mda:\t7\t0.000000e+00\n",
      "INFO:gemseo.algos.driver_lib:DOE sampling:  33%|███▎      | 33/100 [00:04<00:02, 23.11 it/sec, obj=73.2]\n",
      "INFO:sos_trades_core.execution_engine.gemseo_overloads.mda:\t1\t4.301872e+07\n",
      "INFO:sos_trades_core.execution_engine.gemseo_overloads.mda:\t2\t5.288050e+06\n",
      "INFO:sos_trades_core.execution_engine.gemseo_overloads.mda:\t3\t9.986598e+05\n",
      "INFO:sos_trades_core.execution_engine.gemseo_overloads.mda:\t4\t4.286193e+04\n",
      "INFO:sos_trades_core.execution_engine.gemseo_overloads.mda:\t5\t3.028065e+01\n",
      "INFO:sos_trades_core.execution_engine.gemseo_overloads.mda:\t6\t2.189839e-05\n",
      "INFO:sos_trades_core.execution_engine.gemseo_overloads.mda:\t7\t0.000000e+00\n",
      "INFO:gemseo.algos.driver_lib:DOE sampling:  34%|███▍      | 34/100 [00:04<00:02, 22.40 it/sec, obj=76.5]\n",
      "INFO:sos_trades_core.execution_engine.gemseo_overloads.mda:\t1\t4.312862e+06\n",
      "INFO:sos_trades_core.execution_engine.gemseo_overloads.mda:\t2\t1.175583e+06\n",
      "INFO:sos_trades_core.execution_engine.gemseo_overloads.mda:\t3\t2.343876e+05\n",
      "INFO:sos_trades_core.execution_engine.gemseo_overloads.mda:\t4\t1.868554e+04\n",
      "INFO:sos_trades_core.execution_engine.gemseo_overloads.mda:\t5\t5.902720e+00\n",
      "INFO:sos_trades_core.execution_engine.gemseo_overloads.mda:\t6\t4.009922e-05\n",
      "INFO:sos_trades_core.execution_engine.gemseo_overloads.mda:\t7\t3.140185e-10\n",
      "INFO:gemseo.algos.driver_lib:DOE sampling:  35%|███▌      | 35/100 [00:04<00:02, 21.72 it/sec, obj=38.2]\n",
      "INFO:sos_trades_core.execution_engine.gemseo_overloads.mda:\t1\t7.487446e+06\n",
      "INFO:sos_trades_core.execution_engine.gemseo_overloads.mda:\t2\t1.722016e+06\n",
      "INFO:sos_trades_core.execution_engine.gemseo_overloads.mda:\t3\t3.283391e+05\n",
      "INFO:sos_trades_core.execution_engine.gemseo_overloads.mda:\t4\t1.781515e+04\n",
      "INFO:sos_trades_core.execution_engine.gemseo_overloads.mda:\t5\t7.946671e+01\n",
      "INFO:sos_trades_core.execution_engine.gemseo_overloads.mda:\t6\t4.273566e-04\n",
      "INFO:sos_trades_core.execution_engine.gemseo_overloads.mda:\t7\t2.512148e-09\n",
      "INFO:gemseo.algos.driver_lib:DOE sampling:  36%|███▌      | 36/100 [00:04<00:03, 21.23 it/sec, obj=35.7]\n",
      "INFO:sos_trades_core.execution_engine.gemseo_overloads.mda:\t1\t7.431485e+07\n",
      "INFO:sos_trades_core.execution_engine.gemseo_overloads.mda:\t2\t6.622749e+06\n",
      "INFO:sos_trades_core.execution_engine.gemseo_overloads.mda:\t3\t1.311415e+06\n",
      "INFO:sos_trades_core.execution_engine.gemseo_overloads.mda:\t4\t5.127817e+04\n",
      "INFO:sos_trades_core.execution_engine.gemseo_overloads.mda:\t5\t1.660500e+00\n",
      "INFO:sos_trades_core.execution_engine.gemseo_overloads.mda:\t6\t5.457641e-07\n",
      "INFO:sos_trades_core.execution_engine.gemseo_overloads.mda:\t1\t7.587982e+07\n",
      "INFO:sos_trades_core.execution_engine.gemseo_overloads.mda:\t2\t7.038382e+06\n",
      "INFO:sos_trades_core.execution_engine.gemseo_overloads.mda:\t3\t1.349882e+06\n",
      "INFO:sos_trades_core.execution_engine.gemseo_overloads.mda:\t4\t4.978239e+04\n",
      "INFO:sos_trades_core.execution_engine.gemseo_overloads.mda:\t5\t1.339238e+01\n",
      "INFO:sos_trades_core.execution_engine.gemseo_overloads.mda:\t6\t4.509317e-06\n",
      "INFO:sos_trades_core.execution_engine.gemseo_overloads.mda:\t7\t4.509317e-06\n",
      "INFO:sos_trades_core.execution_engine.gemseo_overloads.mda:\t8\t0.000000e+00\n",
      "INFO:gemseo.algos.driver_lib:DOE sampling:  38%|███▊      | 38/100 [00:04<00:03, 20.27 it/sec, obj=170]\n",
      "INFO:sos_trades_core.execution_engine.gemseo_overloads.mda:\t1\t5.274980e+07\n",
      "INFO:sos_trades_core.execution_engine.gemseo_overloads.mda:\t2\t5.441288e+06\n",
      "INFO:sos_trades_core.execution_engine.gemseo_overloads.mda:\t3\t1.078316e+06\n",
      "INFO:sos_trades_core.execution_engine.gemseo_overloads.mda:\t4\t4.834461e+04\n",
      "INFO:sos_trades_core.execution_engine.gemseo_overloads.mda:\t5\t2.977771e+00\n",
      "INFO:sos_trades_core.execution_engine.gemseo_overloads.mda:\t6\t1.563844e-06\n",
      "INFO:sos_trades_core.execution_engine.gemseo_overloads.mda:\t7\t7.812780e-07\n",
      "INFO:gemseo.algos.driver_lib:DOE sampling:  39%|███▉      | 39/100 [00:05<00:03, 19.51 it/sec, obj=174]\n",
      "INFO:sos_trades_core.execution_engine.gemseo_overloads.mda:\t1\t5.552332e+06\n",
      "INFO:sos_trades_core.execution_engine.gemseo_overloads.mda:\t2\t1.354165e+06\n",
      "INFO:sos_trades_core.execution_engine.gemseo_overloads.mda:\t3\t2.684040e+05\n"
     ]
    },
    {
     "name": "stderr",
     "output_type": "stream",
     "text": [
      "INFO:sos_trades_core.execution_engine.gemseo_overloads.mda:\t4\t1.235910e+04\n",
      "INFO:sos_trades_core.execution_engine.gemseo_overloads.mda:\t5\t8.090935e+01\n",
      "INFO:sos_trades_core.execution_engine.gemseo_overloads.mda:\t6\t5.474981e-04\n",
      "INFO:sos_trades_core.execution_engine.gemseo_overloads.mda:\t7\t3.768222e-09\n",
      "INFO:gemseo.algos.driver_lib:DOE sampling:  40%|████      | 40/100 [00:05<00:03, 19.04 it/sec, obj=22.4]\n",
      "INFO:sos_trades_core.execution_engine.gemseo_overloads.mda:\t1\t2.934943e+07\n",
      "INFO:sos_trades_core.execution_engine.gemseo_overloads.mda:\t2\t3.924480e+06\n",
      "INFO:sos_trades_core.execution_engine.gemseo_overloads.mda:\t3\t7.740160e+05\n",
      "INFO:sos_trades_core.execution_engine.gemseo_overloads.mda:\t4\t4.203443e+04\n",
      "INFO:sos_trades_core.execution_engine.gemseo_overloads.mda:\t5\t8.402732e+00\n",
      "INFO:sos_trades_core.execution_engine.gemseo_overloads.mda:\t6\t9.348960e-06\n",
      "INFO:sos_trades_core.execution_engine.gemseo_overloads.mda:\t7\t4.675107e-06\n",
      "INFO:sos_trades_core.execution_engine.gemseo_overloads.mda:\t8\t1.256074e-09\n",
      "INFO:gemseo.algos.driver_lib:DOE sampling:  41%|████      | 41/100 [00:05<00:03, 18.53 it/sec, obj=136]\n",
      "INFO:sos_trades_core.execution_engine.gemseo_overloads.mda:\t1\t5.758869e+07\n",
      "INFO:sos_trades_core.execution_engine.gemseo_overloads.mda:\t2\t5.753486e+06\n",
      "INFO:sos_trades_core.execution_engine.gemseo_overloads.mda:\t3\t1.136229e+06\n",
      "INFO:sos_trades_core.execution_engine.gemseo_overloads.mda:\t4\t4.907810e+04\n",
      "INFO:sos_trades_core.execution_engine.gemseo_overloads.mda:\t5\t2.019500e+00\n",
      "INFO:sos_trades_core.execution_engine.gemseo_overloads.mda:\t6\t9.292351e-07\n",
      "INFO:gemseo.algos.driver_lib:DOE sampling:  42%|████▏     | 42/100 [00:05<00:03, 18.08 it/sec, obj=99.9]\n",
      "INFO:sos_trades_core.execution_engine.gemseo_overloads.mda:\t1\t2.586168e+07\n",
      "INFO:sos_trades_core.execution_engine.gemseo_overloads.mda:\t2\t3.924793e+06\n",
      "INFO:sos_trades_core.execution_engine.gemseo_overloads.mda:\t3\t7.414029e+05\n",
      "INFO:sos_trades_core.execution_engine.gemseo_overloads.mda:\t4\t3.653645e+04\n",
      "INFO:sos_trades_core.execution_engine.gemseo_overloads.mda:\t5\t4.420923e+01\n",
      "INFO:sos_trades_core.execution_engine.gemseo_overloads.mda:\t6\t6.126375e-05\n",
      "INFO:sos_trades_core.execution_engine.gemseo_overloads.mda:\t7\t6.126375e-05\n",
      "INFO:sos_trades_core.execution_engine.gemseo_overloads.mda:\t8\t2.512148e-09\n",
      "INFO:gemseo.algos.driver_lib:DOE sampling:  43%|████▎     | 43/100 [00:05<00:03, 17.62 it/sec, obj=86.6]\n",
      "INFO:sos_trades_core.execution_engine.gemseo_overloads.mda:\t1\t5.138943e+07\n",
      "INFO:sos_trades_core.execution_engine.gemseo_overloads.mda:\t2\t5.733797e+06\n",
      "INFO:sos_trades_core.execution_engine.gemseo_overloads.mda:\t3\t1.094210e+06\n",
      "INFO:sos_trades_core.execution_engine.gemseo_overloads.mda:\t4\t4.558840e+04\n",
      "INFO:sos_trades_core.execution_engine.gemseo_overloads.mda:\t5\t2.129175e+01\n",
      "INFO:sos_trades_core.execution_engine.gemseo_overloads.mda:\t6\t1.210102e-05\n",
      "INFO:sos_trades_core.execution_engine.gemseo_overloads.mda:\t7\t0.000000e+00\n",
      "INFO:gemseo.algos.driver_lib:DOE sampling:  44%|████▍     | 44/100 [00:05<00:03, 17.11 it/sec, obj=91]\n",
      "INFO:sos_trades_core.execution_engine.gemseo_overloads.mda:\t1\t2.027936e+07\n",
      "INFO:sos_trades_core.execution_engine.gemseo_overloads.mda:\t2\t3.300994e+06\n",
      "INFO:sos_trades_core.execution_engine.gemseo_overloads.mda:\t3\t6.343312e+05\n",
      "INFO:sos_trades_core.execution_engine.gemseo_overloads.mda:\t4\t3.484276e+04\n",
      "INFO:sos_trades_core.execution_engine.gemseo_overloads.mda:\t5\t3.735002e+01\n",
      "INFO:sos_trades_core.execution_engine.gemseo_overloads.mda:\t6\t6.800008e-05\n",
      "INFO:sos_trades_core.execution_engine.gemseo_overloads.mda:\t7\t3.403709e-05\n",
      "INFO:sos_trades_core.execution_engine.gemseo_overloads.mda:\t8\t2.512148e-09\n",
      "INFO:gemseo.algos.driver_lib:DOE sampling:  45%|████▌     | 45/100 [00:05<00:03, 16.69 it/sec, obj=99.6]\n",
      "INFO:sos_trades_core.execution_engine.gemseo_overloads.mda:\t1\t2.996475e+07\n",
      "INFO:sos_trades_core.execution_engine.gemseo_overloads.mda:\t2\t4.136107e+06\n",
      "INFO:sos_trades_core.execution_engine.gemseo_overloads.mda:\t3\t7.982577e+05\n",
      "INFO:sos_trades_core.execution_engine.gemseo_overloads.mda:\t4\t4.023003e+04\n",
      "INFO:sos_trades_core.execution_engine.gemseo_overloads.mda:\t5\t2.551060e+01\n",
      "INFO:sos_trades_core.execution_engine.gemseo_overloads.mda:\t6\t2.873897e-05\n",
      "INFO:sos_trades_core.execution_engine.gemseo_overloads.mda:\t7\t0.000000e+00\n",
      "INFO:gemseo.algos.driver_lib:DOE sampling:  46%|████▌     | 46/100 [00:06<00:03, 16.38 it/sec, obj=66]\n",
      "INFO:sos_trades_core.execution_engine.gemseo_overloads.mda:\t1\t3.659406e+07\n",
      "INFO:sos_trades_core.execution_engine.gemseo_overloads.mda:\t2\t4.646720e+06\n",
      "INFO:sos_trades_core.execution_engine.gemseo_overloads.mda:\t3\t8.961628e+05\n",
      "INFO:sos_trades_core.execution_engine.gemseo_overloads.mda:\t4\t4.254486e+04\n",
      "INFO:sos_trades_core.execution_engine.gemseo_overloads.mda:\t5\t2.219436e+01\n",
      "INFO:sos_trades_core.execution_engine.gemseo_overloads.mda:\t6\t1.944905e-05\n",
      "INFO:sos_trades_core.execution_engine.gemseo_overloads.mda:\t7\t0.000000e+00\n",
      "INFO:gemseo.algos.driver_lib:DOE sampling:  47%|████▋     | 47/100 [00:06<00:03, 16.08 it/sec, obj=87.5]\n",
      "INFO:sos_trades_core.execution_engine.gemseo_overloads.mda:\t1\t4.115136e+07\n",
      "INFO:sos_trades_core.execution_engine.gemseo_overloads.mda:\t2\t5.117087e+06\n",
      "INFO:sos_trades_core.execution_engine.gemseo_overloads.mda:\t3\t9.705356e+05\n",
      "INFO:sos_trades_core.execution_engine.gemseo_overloads.mda:\t4\t4.265717e+04\n",
      "INFO:sos_trades_core.execution_engine.gemseo_overloads.mda:\t5\t2.908836e+01\n",
      "INFO:sos_trades_core.execution_engine.gemseo_overloads.mda:\t6\t2.221995e-05\n",
      "INFO:sos_trades_core.execution_engine.gemseo_overloads.mda:\t7\t2.221995e-05\n",
      "INFO:sos_trades_core.execution_engine.gemseo_overloads.mda:\t8\t5.024296e-09\n",
      "INFO:gemseo.algos.driver_lib:DOE sampling:  48%|████▊     | 48/100 [00:06<00:03, 15.76 it/sec, obj=97.7]\n",
      "INFO:sos_trades_core.execution_engine.gemseo_overloads.mda:\t1\t2.135491e+07\n",
      "INFO:sos_trades_core.execution_engine.gemseo_overloads.mda:\t2\t3.328691e+06\n",
      "INFO:sos_trades_core.execution_engine.gemseo_overloads.mda:\t3\t6.491803e+05\n",
      "INFO:sos_trades_core.execution_engine.gemseo_overloads.mda:\t4\t3.698089e+04\n",
      "INFO:sos_trades_core.execution_engine.gemseo_overloads.mda:\t5\t2.318747e+01\n",
      "INFO:sos_trades_core.execution_engine.gemseo_overloads.mda:\t6\t3.879259e-05\n",
      "INFO:sos_trades_core.execution_engine.gemseo_overloads.mda:\t7\t3.879259e-05\n",
      "INFO:sos_trades_core.execution_engine.gemseo_overloads.mda:\t8\t0.000000e+00\n",
      "INFO:gemseo.algos.driver_lib:DOE sampling:  49%|████▉     | 49/100 [00:06<00:03, 15.43 it/sec, obj=59.8]\n",
      "INFO:sos_trades_core.execution_engine.gemseo_overloads.mda:\t1\t3.693958e+07\n",
      "INFO:sos_trades_core.execution_engine.gemseo_overloads.mda:\t2\t4.486396e+06\n",
      "INFO:sos_trades_core.execution_engine.gemseo_overloads.mda:\t3\t8.799215e+05\n",
      "INFO:sos_trades_core.execution_engine.gemseo_overloads.mda:\t4\t4.478515e+04\n",
      "INFO:sos_trades_core.execution_engine.gemseo_overloads.mda:\t5\t2.824871e+00\n",
      "INFO:sos_trades_core.execution_engine.gemseo_overloads.mda:\t6\t2.276006e-06\n",
      "INFO:sos_trades_core.execution_engine.gemseo_overloads.mda:\t7\t0.000000e+00\n",
      "INFO:gemseo.algos.driver_lib:DOE sampling:  50%|█████     | 50/100 [00:06<00:03, 15.18 it/sec, obj=83.9]\n",
      "INFO:sos_trades_core.execution_engine.gemseo_overloads.mda:\t1\t7.797435e+07\n",
      "INFO:sos_trades_core.execution_engine.gemseo_overloads.mda:\t2\t7.024757e+06\n",
      "INFO:sos_trades_core.execution_engine.gemseo_overloads.mda:\t3\t1.360430e+06\n",
      "INFO:sos_trades_core.execution_engine.gemseo_overloads.mda:\t4\t5.052387e+04\n",
      "INFO:sos_trades_core.execution_engine.gemseo_overloads.mda:\t5\t1.022047e+01\n",
      "INFO:sos_trades_core.execution_engine.gemseo_overloads.mda:\t6\t3.300962e-06\n",
      "INFO:sos_trades_core.execution_engine.gemseo_overloads.mda:\t7\t0.000000e+00\n",
      "INFO:gemseo.algos.driver_lib:DOE sampling:  51%|█████     | 51/100 [00:06<00:03, 14.93 it/sec, obj=157]\n",
      "INFO:sos_trades_core.execution_engine.gemseo_overloads.mda:\t1\t6.070653e+06\n",
      "INFO:sos_trades_core.execution_engine.gemseo_overloads.mda:\t2\t1.481256e+06\n",
      "INFO:sos_trades_core.execution_engine.gemseo_overloads.mda:\t3\t2.896848e+05\n",
      "INFO:sos_trades_core.execution_engine.gemseo_overloads.mda:\t4\t2.005192e+04\n",
      "INFO:sos_trades_core.execution_engine.gemseo_overloads.mda:\t5\t3.742255e+01\n",
      "INFO:sos_trades_core.execution_engine.gemseo_overloads.mda:\t6\t2.182209e-04\n",
      "INFO:sos_trades_core.execution_engine.gemseo_overloads.mda:\t7\t1.256074e-09\n",
      "INFO:gemseo.algos.driver_lib:DOE sampling:  52%|█████▏    | 52/100 [00:06<00:03, 14.70 it/sec, obj=32.4]\n"
     ]
    },
    {
     "name": "stderr",
     "output_type": "stream",
     "text": [
      "INFO:sos_trades_core.execution_engine.gemseo_overloads.mda:\t1\t5.703813e+06\n",
      "INFO:sos_trades_core.execution_engine.gemseo_overloads.mda:\t2\t1.422025e+06\n",
      "INFO:sos_trades_core.execution_engine.gemseo_overloads.mda:\t3\t2.803771e+05\n",
      "INFO:sos_trades_core.execution_engine.gemseo_overloads.mda:\t4\t2.207778e+04\n",
      "INFO:sos_trades_core.execution_engine.gemseo_overloads.mda:\t5\t7.827780e+00\n",
      "INFO:sos_trades_core.execution_engine.gemseo_overloads.mda:\t6\t4.466222e-05\n",
      "INFO:sos_trades_core.execution_engine.gemseo_overloads.mda:\t7\t6.280370e-10\n",
      "INFO:gemseo.algos.driver_lib:DOE sampling:  53%|█████▎    | 53/100 [00:06<00:03, 14.45 it/sec, obj=79.7]\n",
      "INFO:sos_trades_core.execution_engine.gemseo_overloads.mda:\t1\t6.773922e+07\n",
      "INFO:sos_trades_core.execution_engine.gemseo_overloads.mda:\t2\t6.511646e+06\n",
      "INFO:sos_trades_core.execution_engine.gemseo_overloads.mda:\t3\t1.260313e+06\n",
      "INFO:sos_trades_core.execution_engine.gemseo_overloads.mda:\t4\t4.921414e+04\n",
      "INFO:sos_trades_core.execution_engine.gemseo_overloads.mda:\t5\t1.179889e+01\n",
      "INFO:sos_trades_core.execution_engine.gemseo_overloads.mda:\t6\t4.604767e-06\n",
      "INFO:sos_trades_core.execution_engine.gemseo_overloads.mda:\t7\t2.512148e-09\n",
      "INFO:gemseo.algos.driver_lib:DOE sampling:  54%|█████▍    | 54/100 [00:07<00:03, 14.20 it/sec, obj=177]\n",
      "INFO:sos_trades_core.execution_engine.gemseo_overloads.mda:\t1\t3.492637e+07\n",
      "INFO:sos_trades_core.execution_engine.gemseo_overloads.mda:\t2\t4.322214e+06\n",
      "INFO:sos_trades_core.execution_engine.gemseo_overloads.mda:\t3\t8.512487e+05\n",
      "INFO:sos_trades_core.execution_engine.gemseo_overloads.mda:\t4\t4.430943e+04\n",
      "INFO:sos_trades_core.execution_engine.gemseo_overloads.mda:\t5\t2.855011e+00\n",
      "INFO:sos_trades_core.execution_engine.gemseo_overloads.mda:\t6\t2.489539e-06\n",
      "INFO:sos_trades_core.execution_engine.gemseo_overloads.mda:\t7\t6.280370e-10\n",
      "INFO:gemseo.algos.driver_lib:DOE sampling:  55%|█████▌    | 55/100 [00:07<00:03, 13.97 it/sec, obj=159]\n",
      "INFO:sos_trades_core.execution_engine.gemseo_overloads.mda:\t1\t7.704481e+06\n",
      "INFO:sos_trades_core.execution_engine.gemseo_overloads.mda:\t2\t1.741373e+06\n",
      "INFO:sos_trades_core.execution_engine.gemseo_overloads.mda:\t3\t3.317355e+05\n",
      "INFO:sos_trades_core.execution_engine.gemseo_overloads.mda:\t4\t2.548431e+04\n",
      "INFO:sos_trades_core.execution_engine.gemseo_overloads.mda:\t5\t9.611765e+00\n",
      "INFO:sos_trades_core.execution_engine.gemseo_overloads.mda:\t6\t4.145727e-05\n",
      "INFO:sos_trades_core.execution_engine.gemseo_overloads.mda:\t7\t1.256074e-09\n",
      "INFO:gemseo.algos.driver_lib:DOE sampling:  56%|█████▌    | 56/100 [00:07<00:03, 13.74 it/sec, obj=25.8]\n",
      "INFO:sos_trades_core.execution_engine.gemseo_overloads.mda:\t1\t1.114228e+07\n",
      "INFO:sos_trades_core.execution_engine.gemseo_overloads.mda:\t2\t2.295336e+06\n",
      "INFO:sos_trades_core.execution_engine.gemseo_overloads.mda:\t3\t4.317938e+05\n",
      "INFO:sos_trades_core.execution_engine.gemseo_overloads.mda:\t4\t2.391629e+04\n",
      "INFO:sos_trades_core.execution_engine.gemseo_overloads.mda:\t5\t7.362813e+01\n",
      "INFO:sos_trades_core.execution_engine.gemseo_overloads.mda:\t6\t2.718194e-04\n",
      "INFO:sos_trades_core.execution_engine.gemseo_overloads.mda:\t7\t1.256074e-09\n",
      "INFO:gemseo.algos.driver_lib:DOE sampling:  57%|█████▋    | 57/100 [00:07<00:03, 13.46 it/sec, obj=71.5]\n",
      "INFO:sos_trades_core.execution_engine.gemseo_overloads.mda:\t1\t1.963715e+07\n",
      "INFO:sos_trades_core.execution_engine.gemseo_overloads.mda:\t2\t3.107616e+06\n",
      "INFO:sos_trades_core.execution_engine.gemseo_overloads.mda:\t3\t6.119847e+05\n",
      "INFO:sos_trades_core.execution_engine.gemseo_overloads.mda:\t4\t3.717800e+04\n",
      "INFO:sos_trades_core.execution_engine.gemseo_overloads.mda:\t5\t1.244195e+01\n",
      "INFO:sos_trades_core.execution_engine.gemseo_overloads.mda:\t6\t2.233676e-05\n",
      "INFO:sos_trades_core.execution_engine.gemseo_overloads.mda:\t7\t1.256074e-09\n",
      "INFO:gemseo.algos.driver_lib:DOE sampling:  58%|█████▊    | 58/100 [00:07<00:03, 13.18 it/sec, obj=107]\n",
      "INFO:sos_trades_core.execution_engine.gemseo_overloads.mda:\t1\t7.504088e+07\n",
      "INFO:sos_trades_core.execution_engine.gemseo_overloads.mda:\t2\t6.931982e+06\n",
      "INFO:sos_trades_core.execution_engine.gemseo_overloads.mda:\t3\t1.336528e+06\n",
      "INFO:sos_trades_core.execution_engine.gemseo_overloads.mda:\t4\t4.995509e+04\n",
      "INFO:sos_trades_core.execution_engine.gemseo_overloads.mda:\t5\t1.191954e+01\n",
      "INFO:sos_trades_core.execution_engine.gemseo_overloads.mda:\t6\t4.064668e-06\n",
      "INFO:sos_trades_core.execution_engine.gemseo_overloads.mda:\t7\t4.064668e-06\n",
      "INFO:sos_trades_core.execution_engine.gemseo_overloads.mda:\t8\t0.000000e+00\n",
      "INFO:gemseo.algos.driver_lib:DOE sampling:  59%|█████▉    | 59/100 [00:07<00:03, 12.95 it/sec, obj=209]\n",
      "INFO:sos_trades_core.execution_engine.gemseo_overloads.mda:\t1\t5.837922e+07\n",
      "INFO:sos_trades_core.execution_engine.gemseo_overloads.mda:\t2\t5.903496e+06\n",
      "INFO:sos_trades_core.execution_engine.gemseo_overloads.mda:\t3\t1.153275e+06\n",
      "INFO:sos_trades_core.execution_engine.gemseo_overloads.mda:\t4\t4.833741e+04\n",
      "INFO:sos_trades_core.execution_engine.gemseo_overloads.mda:\t5\t9.844089e+00\n",
      "INFO:sos_trades_core.execution_engine.gemseo_overloads.mda:\t6\t4.649986e-06\n",
      "INFO:sos_trades_core.execution_engine.gemseo_overloads.mda:\t7\t0.000000e+00\n",
      "INFO:gemseo.algos.driver_lib:DOE sampling:  60%|██████    | 60/100 [00:07<00:03, 12.75 it/sec, obj=104]\n",
      "INFO:sos_trades_core.execution_engine.gemseo_overloads.mda:\t1\t7.210356e+06\n",
      "INFO:sos_trades_core.execution_engine.gemseo_overloads.mda:\t2\t1.673884e+06\n",
      "INFO:sos_trades_core.execution_engine.gemseo_overloads.mda:\t3\t3.216269e+05\n",
      "INFO:sos_trades_core.execution_engine.gemseo_overloads.mda:\t4\t1.902518e+04\n",
      "INFO:sos_trades_core.execution_engine.gemseo_overloads.mda:\t5\t6.653431e+01\n",
      "INFO:sos_trades_core.execution_engine.gemseo_overloads.mda:\t6\t3.586543e-04\n",
      "INFO:sos_trades_core.execution_engine.gemseo_overloads.mda:\t7\t2.808667e-09\n",
      "INFO:gemseo.algos.driver_lib:DOE sampling:  61%|██████    | 61/100 [00:08<00:03, 12.49 it/sec, obj=23.7]\n",
      "INFO:sos_trades_core.execution_engine.gemseo_overloads.mda:\t1\t3.273759e+07\n",
      "INFO:sos_trades_core.execution_engine.gemseo_overloads.mda:\t2\t4.238708e+06\n",
      "INFO:sos_trades_core.execution_engine.gemseo_overloads.mda:\t3\t8.303619e+05\n",
      "INFO:sos_trades_core.execution_engine.gemseo_overloads.mda:\t4\t4.254322e+04\n",
      "INFO:sos_trades_core.execution_engine.gemseo_overloads.mda:\t5\t1.374733e+01\n",
      "INFO:sos_trades_core.execution_engine.gemseo_overloads.mda:\t6\t1.359826e-05\n",
      "INFO:sos_trades_core.execution_engine.gemseo_overloads.mda:\t7\t0.000000e+00\n",
      "INFO:gemseo.algos.driver_lib:DOE sampling:  62%|██████▏   | 62/100 [00:08<00:03, 12.28 it/sec, obj=93.4]\n",
      "INFO:sos_trades_core.execution_engine.gemseo_overloads.mda:\t1\t4.232531e+07\n",
      "INFO:sos_trades_core.execution_engine.gemseo_overloads.mda:\t2\t4.911155e+06\n",
      "INFO:sos_trades_core.execution_engine.gemseo_overloads.mda:\t3\t9.616209e+05\n",
      "INFO:sos_trades_core.execution_engine.gemseo_overloads.mda:\t4\t4.528467e+04\n",
      "INFO:sos_trades_core.execution_engine.gemseo_overloads.mda:\t5\t1.156273e+01\n",
      "INFO:sos_trades_core.execution_engine.gemseo_overloads.mda:\t6\t8.277527e-06\n",
      "INFO:sos_trades_core.execution_engine.gemseo_overloads.mda:\t7\t0.000000e+00\n",
      "INFO:gemseo.algos.driver_lib:DOE sampling:  63%|██████▎   | 63/100 [00:08<00:03, 12.06 it/sec, obj=78.5]\n",
      "INFO:sos_trades_core.execution_engine.gemseo_overloads.mda:\t1\t1.124064e+07\n",
      "INFO:sos_trades_core.execution_engine.gemseo_overloads.mda:\t2\t2.215029e+06\n",
      "INFO:sos_trades_core.execution_engine.gemseo_overloads.mda:\t3\t4.356609e+05\n",
      "INFO:sos_trades_core.execution_engine.gemseo_overloads.mda:\t4\t2.973838e+04\n",
      "INFO:sos_trades_core.execution_engine.gemseo_overloads.mda:\t5\t1.961912e+01\n",
      "INFO:sos_trades_core.execution_engine.gemseo_overloads.mda:\t6\t6.456534e-05\n",
      "INFO:sos_trades_core.execution_engine.gemseo_overloads.mda:\t7\t6.280370e-10\n",
      "INFO:gemseo.algos.driver_lib:DOE sampling:  64%|██████▍   | 64/100 [00:08<00:03, 11.86 it/sec, obj=74.1]\n",
      "INFO:sos_trades_core.execution_engine.gemseo_overloads.mda:\t1\t1.253833e+07\n",
      "INFO:sos_trades_core.execution_engine.gemseo_overloads.mda:\t2\t2.516499e+06\n",
      "INFO:sos_trades_core.execution_engine.gemseo_overloads.mda:\t3\t4.666251e+05\n",
      "INFO:sos_trades_core.execution_engine.gemseo_overloads.mda:\t4\t2.425868e+04\n",
      "INFO:sos_trades_core.execution_engine.gemseo_overloads.mda:\t5\t8.294026e+01\n",
      "INFO:sos_trades_core.execution_engine.gemseo_overloads.mda:\t6\t2.773022e-04\n",
      "INFO:sos_trades_core.execution_engine.gemseo_overloads.mda:\t7\t2.773022e-04\n",
      "INFO:sos_trades_core.execution_engine.gemseo_overloads.mda:\t8\t1.256074e-09\n"
     ]
    },
    {
     "name": "stderr",
     "output_type": "stream",
     "text": [
      "INFO:gemseo.algos.driver_lib:DOE sampling:  65%|██████▌   | 65/100 [00:08<00:03, 11.66 it/sec, obj=30.1]\n",
      "INFO:sos_trades_core.execution_engine.gemseo_overloads.mda:\t1\t1.613488e+07\n",
      "INFO:sos_trades_core.execution_engine.gemseo_overloads.mda:\t2\t2.826367e+06\n",
      "INFO:sos_trades_core.execution_engine.gemseo_overloads.mda:\t3\t5.488593e+05\n",
      "INFO:sos_trades_core.execution_engine.gemseo_overloads.mda:\t4\t3.282878e+04\n",
      "INFO:sos_trades_core.execution_engine.gemseo_overloads.mda:\t5\t3.239361e+01\n",
      "INFO:sos_trades_core.execution_engine.gemseo_overloads.mda:\t6\t7.537700e-05\n",
      "INFO:sos_trades_core.execution_engine.gemseo_overloads.mda:\t7\t1.256074e-09\n",
      "INFO:gemseo.algos.driver_lib:DOE sampling:  66%|██████▌   | 66/100 [00:08<00:02, 11.50 it/sec, obj=88.7]\n",
      "INFO:sos_trades_core.execution_engine.gemseo_overloads.mda:\t1\t6.448597e+07\n",
      "INFO:sos_trades_core.execution_engine.gemseo_overloads.mda:\t2\t6.087678e+06\n",
      "INFO:sos_trades_core.execution_engine.gemseo_overloads.mda:\t3\t1.207659e+06\n",
      "INFO:sos_trades_core.execution_engine.gemseo_overloads.mda:\t4\t5.017110e+04\n",
      "INFO:sos_trades_core.execution_engine.gemseo_overloads.mda:\t5\t2.006058e+00\n",
      "INFO:sos_trades_core.execution_engine.gemseo_overloads.mda:\t6\t8.038873e-07\n",
      "INFO:gemseo.algos.driver_lib:DOE sampling:  67%|██████▋   | 67/100 [00:08<00:02, 11.32 it/sec, obj=142]\n",
      "INFO:sos_trades_core.execution_engine.gemseo_overloads.mda:\t1\t2.303852e+07\n",
      "INFO:sos_trades_core.execution_engine.gemseo_overloads.mda:\t2\t3.401852e+06\n",
      "INFO:sos_trades_core.execution_engine.gemseo_overloads.mda:\t3\t6.650006e+05\n",
      "INFO:sos_trades_core.execution_engine.gemseo_overloads.mda:\t4\t3.972554e+04\n",
      "INFO:sos_trades_core.execution_engine.gemseo_overloads.mda:\t5\t3.610540e+00\n",
      "INFO:sos_trades_core.execution_engine.gemseo_overloads.mda:\t6\t5.162778e-06\n",
      "INFO:sos_trades_core.execution_engine.gemseo_overloads.mda:\t7\t3.140185e-10\n",
      "INFO:gemseo.algos.driver_lib:DOE sampling:  68%|██████▊   | 68/100 [00:08<00:02, 11.11 it/sec, obj=46.3]\n",
      "INFO:sos_trades_core.execution_engine.gemseo_overloads.mda:\t1\t1.967694e+07\n",
      "INFO:sos_trades_core.execution_engine.gemseo_overloads.mda:\t2\t3.116232e+06\n",
      "INFO:sos_trades_core.execution_engine.gemseo_overloads.mda:\t3\t6.133141e+05\n",
      "INFO:sos_trades_core.execution_engine.gemseo_overloads.mda:\t4\t3.708971e+04\n",
      "INFO:sos_trades_core.execution_engine.gemseo_overloads.mda:\t5\t1.354371e+01\n",
      "INFO:sos_trades_core.execution_engine.gemseo_overloads.mda:\t6\t2.433266e-05\n",
      "INFO:sos_trades_core.execution_engine.gemseo_overloads.mda:\t7\t0.000000e+00\n",
      "INFO:gemseo.algos.driver_lib:DOE sampling:  69%|██████▉   | 69/100 [00:09<00:02, 10.91 it/sec, obj=91.2]\n",
      "INFO:sos_trades_core.execution_engine.gemseo_overloads.mda:\t1\t2.559508e+07\n",
      "INFO:sos_trades_core.execution_engine.gemseo_overloads.mda:\t2\t3.937571e+06\n",
      "INFO:sos_trades_core.execution_engine.gemseo_overloads.mda:\t3\t7.391215e+05\n",
      "INFO:sos_trades_core.execution_engine.gemseo_overloads.mda:\t4\t3.585711e+04\n",
      "INFO:sos_trades_core.execution_engine.gemseo_overloads.mda:\t5\t4.906786e+01\n",
      "INFO:sos_trades_core.execution_engine.gemseo_overloads.mda:\t6\t6.936543e-05\n",
      "INFO:sos_trades_core.execution_engine.gemseo_overloads.mda:\t7\t2.512148e-09\n",
      "INFO:gemseo.algos.driver_lib:DOE sampling:  70%|███████   | 70/100 [00:09<00:02, 10.76 it/sec, obj=74.9]\n",
      "INFO:sos_trades_core.execution_engine.gemseo_overloads.mda:\t1\t1.281333e+07\n",
      "INFO:sos_trades_core.execution_engine.gemseo_overloads.mda:\t2\t2.552119e+06\n",
      "INFO:sos_trades_core.execution_engine.gemseo_overloads.mda:\t3\t4.736780e+05\n",
      "INFO:sos_trades_core.execution_engine.gemseo_overloads.mda:\t4\t2.472841e+04\n",
      "INFO:sos_trades_core.execution_engine.gemseo_overloads.mda:\t5\t8.122465e+01\n",
      "INFO:sos_trades_core.execution_engine.gemseo_overloads.mda:\t6\t2.645656e-04\n",
      "INFO:sos_trades_core.execution_engine.gemseo_overloads.mda:\t7\t2.645656e-04\n",
      "INFO:sos_trades_core.execution_engine.gemseo_overloads.mda:\t8\t1.256074e-09\n",
      "INFO:gemseo.algos.driver_lib:DOE sampling:  71%|███████   | 71/100 [00:09<00:02, 10.59 it/sec, obj=38.6]\n",
      "INFO:sos_trades_core.execution_engine.gemseo_overloads.mda:\t1\t4.797007e+07\n",
      "INFO:sos_trades_core.execution_engine.gemseo_overloads.mda:\t2\t5.345549e+06\n",
      "INFO:sos_trades_core.execution_engine.gemseo_overloads.mda:\t3\t1.038329e+06\n",
      "INFO:sos_trades_core.execution_engine.gemseo_overloads.mda:\t4\t4.602931e+04\n",
      "INFO:sos_trades_core.execution_engine.gemseo_overloads.mda:\t5\t1.431027e+01\n",
      "INFO:sos_trades_core.execution_engine.gemseo_overloads.mda:\t6\t8.790006e-06\n",
      "INFO:sos_trades_core.execution_engine.gemseo_overloads.mda:\t7\t2.512148e-09\n",
      "INFO:gemseo.algos.driver_lib:DOE sampling:  72%|███████▏  | 72/100 [00:09<00:02, 10.44 it/sec, obj=77.3]\n",
      "INFO:sos_trades_core.execution_engine.gemseo_overloads.mda:\t1\t4.248085e+06\n",
      "INFO:sos_trades_core.execution_engine.gemseo_overloads.mda:\t2\t1.098747e+06\n",
      "INFO:sos_trades_core.execution_engine.gemseo_overloads.mda:\t3\t2.236652e+05\n",
      "INFO:sos_trades_core.execution_engine.gemseo_overloads.mda:\t4\t1.062436e+04\n",
      "INFO:sos_trades_core.execution_engine.gemseo_overloads.mda:\t5\t6.557638e+01\n",
      "INFO:sos_trades_core.execution_engine.gemseo_overloads.mda:\t6\t4.983291e-04\n",
      "INFO:sos_trades_core.execution_engine.gemseo_overloads.mda:\t7\t3.820200e-09\n",
      "INFO:gemseo.algos.driver_lib:DOE sampling:  73%|███████▎  | 73/100 [00:09<00:02, 10.30 it/sec, obj=20.9]\n",
      "INFO:sos_trades_core.execution_engine.gemseo_overloads.mda:\t1\t3.656599e+06\n",
      "INFO:sos_trades_core.execution_engine.gemseo_overloads.mda:\t2\t1.012780e+06\n",
      "INFO:sos_trades_core.execution_engine.gemseo_overloads.mda:\t3\t2.004651e+05\n",
      "INFO:sos_trades_core.execution_engine.gemseo_overloads.mda:\t4\t1.235597e+04\n",
      "INFO:sos_trades_core.execution_engine.gemseo_overloads.mda:\t5\t4.442270e+01\n",
      "INFO:sos_trades_core.execution_engine.gemseo_overloads.mda:\t6\t3.535735e-04\n",
      "INFO:sos_trades_core.execution_engine.gemseo_overloads.mda:\t7\t3.140185e-09\n",
      "INFO:gemseo.algos.driver_lib:DOE sampling:  74%|███████▍  | 74/100 [00:09<00:02, 10.15 it/sec, obj=22.4]\n",
      "INFO:sos_trades_core.execution_engine.gemseo_overloads.mda:\t1\t5.776861e+07\n",
      "INFO:sos_trades_core.execution_engine.gemseo_overloads.mda:\t2\t5.829364e+06\n",
      "INFO:sos_trades_core.execution_engine.gemseo_overloads.mda:\t3\t1.143417e+06\n",
      "INFO:sos_trades_core.execution_engine.gemseo_overloads.mda:\t4\t4.886696e+04\n",
      "INFO:sos_trades_core.execution_engine.gemseo_overloads.mda:\t5\t2.730750e+00\n",
      "INFO:sos_trades_core.execution_engine.gemseo_overloads.mda:\t6\t1.235427e-06\n",
      "INFO:sos_trades_core.execution_engine.gemseo_overloads.mda:\t7\t3.140185e-10\n",
      "INFO:gemseo.algos.driver_lib:DOE sampling:  75%|███████▌  | 75/100 [00:10<00:02,  9.96 it/sec, obj=183]\n",
      "INFO:sos_trades_core.execution_engine.gemseo_overloads.mda:\t1\t1.567888e+07\n",
      "INFO:sos_trades_core.execution_engine.gemseo_overloads.mda:\t2\t2.787492e+06\n",
      "INFO:sos_trades_core.execution_engine.gemseo_overloads.mda:\t3\t5.397059e+05\n",
      "INFO:sos_trades_core.execution_engine.gemseo_overloads.mda:\t4\t3.211341e+04\n",
      "INFO:sos_trades_core.execution_engine.gemseo_overloads.mda:\t5\t3.601060e+01\n",
      "INFO:sos_trades_core.execution_engine.gemseo_overloads.mda:\t6\t8.700573e-05\n",
      "INFO:sos_trades_core.execution_engine.gemseo_overloads.mda:\t7\t0.000000e+00\n",
      "INFO:gemseo.algos.driver_lib:DOE sampling:  76%|███████▌  | 76/100 [00:10<00:02,  9.83 it/sec, obj=36.3]\n",
      "INFO:sos_trades_core.execution_engine.gemseo_overloads.mda:\t1\t4.157146e+07\n",
      "INFO:sos_trades_core.execution_engine.gemseo_overloads.mda:\t2\t4.761169e+06\n",
      "INFO:sos_trades_core.execution_engine.gemseo_overloads.mda:\t3\t9.420534e+05\n",
      "INFO:sos_trades_core.execution_engine.gemseo_overloads.mda:\t4\t4.604359e+04\n",
      "INFO:sos_trades_core.execution_engine.gemseo_overloads.mda:\t5\t3.668301e+00\n",
      "INFO:sos_trades_core.execution_engine.gemseo_overloads.mda:\t6\t2.610122e-06\n",
      "INFO:sos_trades_core.execution_engine.gemseo_overloads.mda:\t7\t1.256074e-09\n",
      "INFO:gemseo.algos.driver_lib:DOE sampling:  77%|███████▋  | 77/100 [00:10<00:02,  9.70 it/sec, obj=172]\n",
      "INFO:sos_trades_core.execution_engine.gemseo_overloads.mda:\t1\t4.499021e+07\n",
      "INFO:sos_trades_core.execution_engine.gemseo_overloads.mda:\t2\t5.023472e+06\n",
      "INFO:sos_trades_core.execution_engine.gemseo_overloads.mda:\t3\t9.872440e+05\n",
      "INFO:sos_trades_core.execution_engine.gemseo_overloads.mda:\t4\t4.672181e+04\n",
      "INFO:sos_trades_core.execution_engine.gemseo_overloads.mda:\t5\t2.544964e+00\n",
      "INFO:sos_trades_core.execution_engine.gemseo_overloads.mda:\t6\t1.599610e-06\n",
      "INFO:sos_trades_core.execution_engine.gemseo_overloads.mda:\t7\t9.420555e-10\n",
      "INFO:gemseo.algos.driver_lib:DOE sampling:  78%|███████▊  | 78/100 [00:10<00:02,  9.55 it/sec, obj=128]\n"
     ]
    },
    {
     "name": "stderr",
     "output_type": "stream",
     "text": [
      "INFO:sos_trades_core.execution_engine.gemseo_overloads.mda:\t1\t1.709707e+07\n",
      "INFO:sos_trades_core.execution_engine.gemseo_overloads.mda:\t2\t3.089310e+06\n",
      "INFO:sos_trades_core.execution_engine.gemseo_overloads.mda:\t3\t5.743648e+05\n",
      "INFO:sos_trades_core.execution_engine.gemseo_overloads.mda:\t4\t2.937122e+04\n",
      "INFO:sos_trades_core.execution_engine.gemseo_overloads.mda:\t5\t6.959808e+01\n",
      "INFO:sos_trades_core.execution_engine.gemseo_overloads.mda:\t6\t1.624518e-04\n",
      "INFO:sos_trades_core.execution_engine.gemseo_overloads.mda:\t7\t8.132074e-05\n",
      "INFO:sos_trades_core.execution_engine.gemseo_overloads.mda:\t8\t1.256074e-09\n",
      "INFO:gemseo.algos.driver_lib:DOE sampling:  79%|███████▉  | 79/100 [00:10<00:02,  9.32 it/sec, obj=119]\n",
      "INFO:sos_trades_core.execution_engine.gemseo_overloads.mda:\t1\t2.573409e+07\n",
      "INFO:sos_trades_core.execution_engine.gemseo_overloads.mda:\t2\t3.668272e+06\n",
      "INFO:sos_trades_core.execution_engine.gemseo_overloads.mda:\t3\t7.204810e+05\n",
      "INFO:sos_trades_core.execution_engine.gemseo_overloads.mda:\t4\t4.003238e+04\n",
      "INFO:sos_trades_core.execution_engine.gemseo_overloads.mda:\t5\t1.391664e+01\n",
      "INFO:sos_trades_core.execution_engine.gemseo_overloads.mda:\t6\t1.837887e-05\n",
      "INFO:sos_trades_core.execution_engine.gemseo_overloads.mda:\t7\t5.024296e-09\n",
      "INFO:gemseo.algos.driver_lib:DOE sampling:  80%|████████  | 80/100 [00:10<00:02,  9.22 it/sec, obj=116]\n",
      "INFO:sos_trades_core.execution_engine.gemseo_overloads.mda:\t1\t8.604228e+06\n",
      "INFO:sos_trades_core.execution_engine.gemseo_overloads.mda:\t2\t1.900534e+06\n",
      "INFO:sos_trades_core.execution_engine.gemseo_overloads.mda:\t3\t3.634994e+05\n",
      "INFO:sos_trades_core.execution_engine.gemseo_overloads.mda:\t4\t2.166799e+04\n",
      "INFO:sos_trades_core.execution_engine.gemseo_overloads.mda:\t5\t6.443998e+01\n",
      "INFO:sos_trades_core.execution_engine.gemseo_overloads.mda:\t6\t2.975551e-04\n",
      "INFO:sos_trades_core.execution_engine.gemseo_overloads.mda:\t7\t2.975551e-04\n",
      "INFO:sos_trades_core.execution_engine.gemseo_overloads.mda:\t8\t1.256074e-09\n",
      "INFO:gemseo.algos.driver_lib:DOE sampling:  81%|████████  | 81/100 [00:10<00:02,  9.12 it/sec, obj=57]\n",
      "INFO:sos_trades_core.execution_engine.gemseo_overloads.mda:\t1\t4.442377e+07\n",
      "INFO:sos_trades_core.execution_engine.gemseo_overloads.mda:\t2\t5.228456e+06\n",
      "INFO:sos_trades_core.execution_engine.gemseo_overloads.mda:\t3\t1.003787e+06\n",
      "INFO:sos_trades_core.execution_engine.gemseo_overloads.mda:\t4\t4.440568e+04\n",
      "INFO:sos_trades_core.execution_engine.gemseo_overloads.mda:\t5\t2.114750e+01\n",
      "INFO:sos_trades_core.execution_engine.gemseo_overloads.mda:\t6\t1.449007e-05\n",
      "INFO:sos_trades_core.execution_engine.gemseo_overloads.mda:\t7\t7.247547e-06\n",
      "INFO:sos_trades_core.execution_engine.gemseo_overloads.mda:\t8\t0.000000e+00\n",
      "INFO:gemseo.algos.driver_lib:DOE sampling:  82%|████████▏ | 82/100 [00:11<00:01,  9.01 it/sec, obj=108]\n",
      "INFO:sos_trades_core.execution_engine.gemseo_overloads.mda:\t1\t4.040758e+06\n",
      "INFO:sos_trades_core.execution_engine.gemseo_overloads.mda:\t2\t1.117714e+06\n",
      "INFO:sos_trades_core.execution_engine.gemseo_overloads.mda:\t3\t2.199200e+05\n",
      "INFO:sos_trades_core.execution_engine.gemseo_overloads.mda:\t4\t1.632377e+04\n",
      "INFO:sos_trades_core.execution_engine.gemseo_overloads.mda:\t5\t2.263976e+01\n",
      "INFO:sos_trades_core.execution_engine.gemseo_overloads.mda:\t6\t1.674328e-04\n",
      "INFO:sos_trades_core.execution_engine.gemseo_overloads.mda:\t7\t1.256074e-09\n",
      "INFO:gemseo.algos.driver_lib:DOE sampling:  83%|████████▎ | 83/100 [00:11<00:01,  8.93 it/sec, obj=43.7]\n",
      "INFO:sos_trades_core.execution_engine.gemseo_overloads.mda:\t1\t1.528290e+07\n",
      "INFO:sos_trades_core.execution_engine.gemseo_overloads.mda:\t2\t2.684916e+06\n",
      "INFO:sos_trades_core.execution_engine.gemseo_overloads.mda:\t3\t5.134421e+05\n",
      "INFO:sos_trades_core.execution_engine.gemseo_overloads.mda:\t4\t3.452866e+04\n",
      "INFO:sos_trades_core.execution_engine.gemseo_overloads.mda:\t5\t5.953477e+00\n",
      "INFO:sos_trades_core.execution_engine.gemseo_overloads.mda:\t6\t1.324020e-05\n",
      "INFO:sos_trades_core.execution_engine.gemseo_overloads.mda:\t7\t1.570092e-10\n",
      "INFO:gemseo.algos.driver_lib:DOE sampling:  84%|████████▍ | 84/100 [00:11<00:01,  8.84 it/sec, obj=51.2]\n",
      "INFO:sos_trades_core.execution_engine.gemseo_overloads.mda:\t1\t1.076297e+07\n",
      "INFO:sos_trades_core.execution_engine.gemseo_overloads.mda:\t2\t2.144457e+06\n",
      "INFO:sos_trades_core.execution_engine.gemseo_overloads.mda:\t3\t4.222980e+05\n",
      "INFO:sos_trades_core.execution_engine.gemseo_overloads.mda:\t4\t2.990592e+04\n",
      "INFO:sos_trades_core.execution_engine.gemseo_overloads.mda:\t5\t1.188140e+01\n",
      "INFO:sos_trades_core.execution_engine.gemseo_overloads.mda:\t6\t3.996325e-05\n",
      "INFO:sos_trades_core.execution_engine.gemseo_overloads.mda:\t7\t0.000000e+00\n",
      "INFO:gemseo.algos.driver_lib:DOE sampling:  85%|████████▌ | 85/100 [00:11<00:01,  8.76 it/sec, obj=103]\n",
      "INFO:sos_trades_core.execution_engine.gemseo_overloads.mda:\t1\t2.311028e+07\n",
      "INFO:sos_trades_core.execution_engine.gemseo_overloads.mda:\t2\t3.442662e+06\n",
      "INFO:sos_trades_core.execution_engine.gemseo_overloads.mda:\t3\t6.762752e+05\n",
      "INFO:sos_trades_core.execution_engine.gemseo_overloads.mda:\t4\t3.877041e+04\n",
      "INFO:sos_trades_core.execution_engine.gemseo_overloads.mda:\t5\t1.477200e+01\n",
      "INFO:sos_trades_core.execution_engine.gemseo_overloads.mda:\t6\t2.216343e-05\n",
      "INFO:sos_trades_core.execution_engine.gemseo_overloads.mda:\t7\t1.108360e-05\n",
      "INFO:sos_trades_core.execution_engine.gemseo_overloads.mda:\t8\t1.256074e-09\n",
      "INFO:gemseo.algos.driver_lib:DOE sampling:  86%|████████▌ | 86/100 [00:11<00:01,  8.67 it/sec, obj=116]\n",
      "INFO:sos_trades_core.execution_engine.gemseo_overloads.mda:\t1\t8.791798e+06\n",
      "INFO:sos_trades_core.execution_engine.gemseo_overloads.mda:\t2\t1.899121e+06\n",
      "INFO:sos_trades_core.execution_engine.gemseo_overloads.mda:\t3\t3.724521e+05\n",
      "INFO:sos_trades_core.execution_engine.gemseo_overloads.mda:\t4\t2.580959e+04\n",
      "INFO:sos_trades_core.execution_engine.gemseo_overloads.mda:\t5\t2.801975e+01\n",
      "INFO:sos_trades_core.execution_engine.gemseo_overloads.mda:\t6\t1.182738e-04\n",
      "INFO:sos_trades_core.execution_engine.gemseo_overloads.mda:\t7\t6.280370e-10\n",
      "INFO:sos_trades_core.execution_engine.gemseo_overloads.mda:\t1\t6.924913e+07\n",
      "INFO:sos_trades_core.execution_engine.gemseo_overloads.mda:\t2\t6.547801e+06\n",
      "INFO:sos_trades_core.execution_engine.gemseo_overloads.mda:\t3\t1.272140e+06\n",
      "INFO:sos_trades_core.execution_engine.gemseo_overloads.mda:\t4\t4.962189e+04\n",
      "INFO:sos_trades_core.execution_engine.gemseo_overloads.mda:\t5\t1.032327e+01\n",
      "INFO:sos_trades_core.execution_engine.gemseo_overloads.mda:\t6\t3.903878e-06\n",
      "INFO:sos_trades_core.execution_engine.gemseo_overloads.mda:\t7\t0.000000e+00\n",
      "INFO:gemseo.algos.driver_lib:DOE sampling:  88%|████████▊ | 88/100 [00:11<00:01,  8.51 it/sec, obj=165]\n",
      "INFO:sos_trades_core.execution_engine.gemseo_overloads.mda:\t1\t1.512747e+07\n",
      "INFO:sos_trades_core.execution_engine.gemseo_overloads.mda:\t2\t2.893204e+06\n",
      "INFO:sos_trades_core.execution_engine.gemseo_overloads.mda:\t3\t5.294501e+05\n",
      "INFO:sos_trades_core.execution_engine.gemseo_overloads.mda:\t4\t2.598076e+04\n",
      "INFO:sos_trades_core.execution_engine.gemseo_overloads.mda:\t5\t8.695219e+01\n",
      "INFO:sos_trades_core.execution_engine.gemseo_overloads.mda:\t6\t2.403812e-04\n",
      "INFO:sos_trades_core.execution_engine.gemseo_overloads.mda:\t7\t0.000000e+00\n",
      "INFO:sos_trades_core.execution_engine.gemseo_overloads.mda:\t1\t7.136932e+05\n",
      "INFO:sos_trades_core.execution_engine.gemseo_overloads.mda:\t2\t2.939513e+05\n",
      "INFO:sos_trades_core.execution_engine.gemseo_overloads.mda:\t3\t6.253321e+04\n",
      "INFO:sos_trades_core.execution_engine.gemseo_overloads.mda:\t4\t3.000850e+03\n",
      "INFO:sos_trades_core.execution_engine.gemseo_overloads.mda:\t5\t2.763981e+00\n",
      "INFO:sos_trades_core.execution_engine.gemseo_overloads.mda:\t6\t1.942361e-05\n",
      "INFO:sos_trades_core.execution_engine.gemseo_overloads.mda:\t7\t1.940571e-05\n",
      "INFO:sos_trades_core.execution_engine.gemseo_overloads.mda:\t8\t1.570092e-10\n",
      "INFO:gemseo.algos.driver_lib:DOE sampling:  90%|█████████ | 90/100 [00:11<00:01,  8.36 it/sec, obj=13.9]\n",
      "INFO:sos_trades_core.execution_engine.gemseo_overloads.mda:\t1\t1.295344e+07\n",
      "INFO:sos_trades_core.execution_engine.gemseo_overloads.mda:\t2\t2.401388e+06\n",
      "INFO:sos_trades_core.execution_engine.gemseo_overloads.mda:\t3\t4.719994e+05\n",
      "INFO:sos_trades_core.execution_engine.gemseo_overloads.mda:\t4\t3.260362e+04\n",
      "INFO:sos_trades_core.execution_engine.gemseo_overloads.mda:\t5\t7.625883e+00\n",
      "INFO:sos_trades_core.execution_engine.gemseo_overloads.mda:\t6\t2.101851e-05\n",
      "INFO:sos_trades_core.execution_engine.gemseo_overloads.mda:\t7\t0.000000e+00\n"
     ]
    },
    {
     "name": "stderr",
     "output_type": "stream",
     "text": [
      "INFO:gemseo.algos.driver_lib:DOE sampling:  91%|█████████ | 91/100 [00:12<00:01,  8.29 it/sec, obj=43.9]\n",
      "INFO:sos_trades_core.execution_engine.gemseo_overloads.mda:\t1\t5.103600e+07\n",
      "INFO:sos_trades_core.execution_engine.gemseo_overloads.mda:\t2\t5.343353e+06\n",
      "INFO:sos_trades_core.execution_engine.gemseo_overloads.mda:\t3\t1.058569e+06\n",
      "INFO:sos_trades_core.execution_engine.gemseo_overloads.mda:\t4\t4.801246e+04\n",
      "INFO:sos_trades_core.execution_engine.gemseo_overloads.mda:\t5\t3.343847e+00\n",
      "INFO:sos_trades_core.execution_engine.gemseo_overloads.mda:\t6\t1.836408e-06\n",
      "INFO:sos_trades_core.execution_engine.gemseo_overloads.mda:\t7\t9.181901e-07\n",
      "INFO:gemseo.algos.driver_lib:DOE sampling:  92%|█████████▏| 92/100 [00:12<00:00,  8.22 it/sec, obj=93.5]\n",
      "INFO:sos_trades_core.execution_engine.gemseo_overloads.mda:\t1\t6.917103e+06\n",
      "INFO:sos_trades_core.execution_engine.gemseo_overloads.mda:\t2\t1.611666e+06\n",
      "INFO:sos_trades_core.execution_engine.gemseo_overloads.mda:\t3\t3.109175e+05\n",
      "INFO:sos_trades_core.execution_engine.gemseo_overloads.mda:\t4\t1.388702e+04\n",
      "INFO:sos_trades_core.execution_engine.gemseo_overloads.mda:\t5\t9.345410e+01\n",
      "INFO:sos_trades_core.execution_engine.gemseo_overloads.mda:\t6\t5.585259e-04\n",
      "INFO:sos_trades_core.execution_engine.gemseo_overloads.mda:\t7\t3.768222e-09\n",
      "INFO:gemseo.algos.driver_lib:DOE sampling:  93%|█████████▎| 93/100 [00:12<00:00,  8.15 it/sec, obj=24.2]\n",
      "INFO:sos_trades_core.execution_engine.gemseo_overloads.mda:\t1\t5.857919e+07\n",
      "INFO:sos_trades_core.execution_engine.gemseo_overloads.mda:\t2\t6.016562e+06\n",
      "INFO:sos_trades_core.execution_engine.gemseo_overloads.mda:\t3\t1.163930e+06\n",
      "INFO:sos_trades_core.execution_engine.gemseo_overloads.mda:\t4\t4.779361e+04\n",
      "INFO:sos_trades_core.execution_engine.gemseo_overloads.mda:\t5\t1.361703e+01\n",
      "INFO:sos_trades_core.execution_engine.gemseo_overloads.mda:\t6\t6.451196e-06\n",
      "INFO:sos_trades_core.execution_engine.gemseo_overloads.mda:\t7\t2.512148e-09\n",
      "INFO:gemseo.algos.driver_lib:DOE sampling:  94%|█████████▍| 94/100 [00:12<00:00,  8.05 it/sec, obj=135]\n",
      "INFO:sos_trades_core.execution_engine.gemseo_overloads.mda:\t1\t2.424596e+07\n",
      "INFO:sos_trades_core.execution_engine.gemseo_overloads.mda:\t2\t3.726712e+06\n",
      "INFO:sos_trades_core.execution_engine.gemseo_overloads.mda:\t3\t7.099437e+05\n",
      "INFO:sos_trades_core.execution_engine.gemseo_overloads.mda:\t4\t3.641929e+04\n",
      "INFO:sos_trades_core.execution_engine.gemseo_overloads.mda:\t5\t3.981668e+01\n",
      "INFO:sos_trades_core.execution_engine.gemseo_overloads.mda:\t6\t5.916108e-05\n",
      "INFO:sos_trades_core.execution_engine.gemseo_overloads.mda:\t7\t0.000000e+00\n",
      "INFO:gemseo.algos.driver_lib:DOE sampling:  95%|█████████▌| 95/100 [00:12<00:00,  7.98 it/sec, obj=132]\n",
      "INFO:sos_trades_core.execution_engine.gemseo_overloads.mda:\t1\t3.375268e+07\n",
      "INFO:sos_trades_core.execution_engine.gemseo_overloads.mda:\t2\t4.543358e+06\n",
      "INFO:sos_trades_core.execution_engine.gemseo_overloads.mda:\t3\t8.642286e+05\n",
      "INFO:sos_trades_core.execution_engine.gemseo_overloads.mda:\t4\t4.050196e+04\n",
      "INFO:sos_trades_core.execution_engine.gemseo_overloads.mda:\t5\t3.227750e+01\n",
      "INFO:sos_trades_core.execution_engine.gemseo_overloads.mda:\t6\t3.175857e-05\n",
      "INFO:sos_trades_core.execution_engine.gemseo_overloads.mda:\t7\t2.512148e-09\n",
      "INFO:gemseo.algos.driver_lib:DOE sampling:  96%|█████████▌| 96/100 [00:12<00:00,  7.91 it/sec, obj=105]\n",
      "INFO:sos_trades_core.execution_engine.gemseo_overloads.mda:\t1\t3.344034e+07\n",
      "INFO:sos_trades_core.execution_engine.gemseo_overloads.mda:\t2\t4.208934e+06\n",
      "INFO:sos_trades_core.execution_engine.gemseo_overloads.mda:\t3\t8.302506e+05\n",
      "INFO:sos_trades_core.execution_engine.gemseo_overloads.mda:\t4\t4.386375e+04\n",
      "INFO:sos_trades_core.execution_engine.gemseo_overloads.mda:\t5\t3.277300e+00\n",
      "INFO:sos_trades_core.execution_engine.gemseo_overloads.mda:\t6\t3.032791e-06\n",
      "INFO:sos_trades_core.execution_engine.gemseo_overloads.mda:\t7\t0.000000e+00\n",
      "INFO:gemseo.algos.driver_lib:DOE sampling:  97%|█████████▋| 97/100 [00:12<00:00,  7.85 it/sec, obj=68.2]\n",
      "INFO:sos_trades_core.execution_engine.gemseo_overloads.mda:\t1\t6.406398e+07\n",
      "INFO:sos_trades_core.execution_engine.gemseo_overloads.mda:\t2\t6.541704e+06\n",
      "INFO:sos_trades_core.execution_engine.gemseo_overloads.mda:\t3\t1.241322e+06\n",
      "INFO:sos_trades_core.execution_engine.gemseo_overloads.mda:\t4\t4.754294e+04\n",
      "INFO:sos_trades_core.execution_engine.gemseo_overloads.mda:\t5\t1.952492e+01\n",
      "INFO:sos_trades_core.execution_engine.gemseo_overloads.mda:\t6\t8.297631e-06\n",
      "INFO:sos_trades_core.execution_engine.gemseo_overloads.mda:\t7\t8.295119e-06\n",
      "INFO:sos_trades_core.execution_engine.gemseo_overloads.mda:\t8\t0.000000e+00\n",
      "INFO:gemseo.algos.driver_lib:DOE sampling:  98%|█████████▊| 98/100 [00:12<00:00,  7.78 it/sec, obj=113]\n",
      "INFO:sos_trades_core.execution_engine.gemseo_overloads.mda:\t1\t7.522496e+06\n",
      "INFO:sos_trades_core.execution_engine.gemseo_overloads.mda:\t2\t1.706805e+06\n",
      "INFO:sos_trades_core.execution_engine.gemseo_overloads.mda:\t3\t3.322776e+05\n",
      "INFO:sos_trades_core.execution_engine.gemseo_overloads.mda:\t4\t2.575054e+04\n",
      "INFO:sos_trades_core.execution_engine.gemseo_overloads.mda:\t5\t5.667632e+00\n",
      "INFO:sos_trades_core.execution_engine.gemseo_overloads.mda:\t6\t2.546816e-05\n",
      "INFO:sos_trades_core.execution_engine.gemseo_overloads.mda:\t7\t0.000000e+00\n",
      "INFO:gemseo.algos.driver_lib:DOE sampling:  99%|█████████▉| 99/100 [00:12<00:00,  7.71 it/sec, obj=45.7]\n",
      "INFO:sos_trades_core.execution_engine.gemseo_overloads.mda:\t1\t1.752194e+07\n",
      "INFO:sos_trades_core.execution_engine.gemseo_overloads.mda:\t2\t3.185131e+06\n",
      "INFO:sos_trades_core.execution_engine.gemseo_overloads.mda:\t3\t5.843556e+05\n",
      "INFO:sos_trades_core.execution_engine.gemseo_overloads.mda:\t4\t2.850142e+04\n",
      "INFO:sos_trades_core.execution_engine.gemseo_overloads.mda:\t5\t7.935806e+01\n",
      "INFO:sos_trades_core.execution_engine.gemseo_overloads.mda:\t6\t1.836003e-04\n",
      "INFO:sos_trades_core.execution_engine.gemseo_overloads.mda:\t7\t0.000000e+00\n",
      "INFO:gemseo.algos.driver_lib:DOE sampling: 100%|██████████| 100/100 [00:13<00:00,  7.65 it/sec, obj=54.8]\n",
      "INFO:gemseo.algos.driver_lib:DOE sampling: 100%|██████████| 100/100 [00:13<00:00,  7.64 it/sec, obj=54.8]\n",
      "INFO:gemseo.algos.driver_lib:Optimization result:\n",
      "Objective value = 13.915272626018078\n",
      "The result is feasible.\n",
      "Status: None\n",
      "Optimizer message: None\n",
      "Number of calls to the objective function by the optimizer: 100\n",
      "INFO:gemseo.algos.driver_lib:Design space:\n",
      "+-------------------------+-------------+---------------------+-------------+-------+\n",
      "| name                    | lower_bound |        value        | upper_bound | type  |\n",
      "+-------------------------+-------------+---------------------+-------------+-------+\n",
      "| doe.SellarDoeScenario.x |      0      |  1.009834683383305  |      10     | float |\n",
      "| doe.SellarDoeScenario.z |     -10     | -0.6505756714525628 |      10     | float |\n",
      "| doe.SellarDoeScenario.z |      0      |  0.7692322615669314 |      10     | float |\n",
      "+-------------------------+-------------+---------------------+-------------+-------+\n",
      "INFO:gemseo.core.doe_scenario:*** DOE Scenario run terminated ***\n",
      "INFO:SoS.EE.SoSDoeScenario:Post run at xopt\n",
      "INFO:sos_trades_core.execution_engine.gemseo_overloads.mda:\t1\t7.136932e+05\n",
      "INFO:sos_trades_core.execution_engine.gemseo_overloads.mda:\t2\t2.939513e+05\n",
      "INFO:sos_trades_core.execution_engine.gemseo_overloads.mda:\t3\t6.253321e+04\n",
      "INFO:sos_trades_core.execution_engine.gemseo_overloads.mda:\t4\t3.000850e+03\n",
      "INFO:sos_trades_core.execution_engine.gemseo_overloads.mda:\t5\t2.763981e+00\n",
      "INFO:sos_trades_core.execution_engine.gemseo_overloads.mda:\t6\t1.942361e-05\n",
      "INFO:sos_trades_core.execution_engine.gemseo_overloads.mda:\t7\t1.940571e-05\n",
      "INFO:sos_trades_core.execution_engine.gemseo_overloads.mda:\t8\t1.570092e-10\n",
      "INFO:SoS.EE:PROCESS EXECUTION doe ENDS.\n"
     ]
    }
   ],
   "source": [
    "res = exec_eng.execute()\n",
    "# res is without interest (return not the expected values but probably default values ) !"
   ]
  },
  {
   "cell_type": "code",
   "execution_count": null,
   "id": "6001c775",
   "metadata": {},
   "outputs": [],
   "source": []
  },
  {
   "cell_type": "code",
   "execution_count": null,
   "id": "f95ebaae",
   "metadata": {},
   "outputs": [],
   "source": []
  },
  {
   "cell_type": "markdown",
   "id": "c213e4e8",
   "metadata": {},
   "source": [
    "Remark : all options that are None are no kept and so appear with a warning (this is the case of default None options thar are not setted with not None value)"
   ]
  },
  {
   "cell_type": "markdown",
   "id": "57979091",
   "metadata": {},
   "source": [
    "# 5 Display Doe  Scenario results"
   ]
  },
  {
   "cell_type": "code",
   "execution_count": 38,
   "id": "ac8a49ab",
   "metadata": {},
   "outputs": [],
   "source": [
    "# retrieve discipline to check the result...\n",
    "doe_disc = exec_eng.dm.get_disciplines_with_name(\"doe.\" + sc_name)[0]"
   ]
  },
  {
   "cell_type": "code",
   "execution_count": 39,
   "id": "a02fc43e",
   "metadata": {},
   "outputs": [
    {
     "data": {
      "text/plain": [
       "sos_trades_core.execution_engine.sos_doe_scenario.SoSDoeScenario"
      ]
     },
     "execution_count": 39,
     "metadata": {},
     "output_type": "execute_result"
    }
   ],
   "source": [
    "type(doe_disc)"
   ]
  },
  {
   "cell_type": "code",
   "execution_count": 40,
   "id": "555b30f7",
   "metadata": {},
   "outputs": [
    {
     "data": {
      "text/plain": [
       "'doe.SellarDoeScenario'"
      ]
     },
     "execution_count": 40,
     "metadata": {},
     "output_type": "execute_result"
    }
   ],
   "source": [
    "doe_disc.get_disc_full_name()"
   ]
  },
  {
   "cell_type": "code",
   "execution_count": 41,
   "id": "70be4822",
   "metadata": {},
   "outputs": [
    {
     "name": "stdout",
     "output_type": "stream",
     "text": [
      "Optimization problem:\n",
      "   Minimize: doe.SellarDoeScenario.obj(doe.SellarDoeScenario.x, doe.SellarDoeScenario.z)\n",
      "   With respect to: doe.SellarDoeScenario.x, doe.SellarDoeScenario.z\n"
     ]
    }
   ],
   "source": [
    "opt_P = doe_disc.opt_problem\n",
    "print(opt_P)"
   ]
  },
  {
   "cell_type": "code",
   "execution_count": 42,
   "id": "d1069a43",
   "metadata": {},
   "outputs": [
    {
     "data": {
      "text/html": [
       "<div>\n",
       "<style scoped>\n",
       "    .dataframe tbody tr th:only-of-type {\n",
       "        vertical-align: middle;\n",
       "    }\n",
       "\n",
       "    .dataframe tbody tr th {\n",
       "        vertical-align: top;\n",
       "    }\n",
       "\n",
       "    .dataframe thead th {\n",
       "        text-align: right;\n",
       "    }\n",
       "</style>\n",
       "<table border=\"1\" class=\"dataframe\">\n",
       "  <thead>\n",
       "    <tr style=\"text-align: right;\">\n",
       "      <th></th>\n",
       "      <th>0</th>\n",
       "    </tr>\n",
       "  </thead>\n",
       "  <tbody>\n",
       "    <tr>\n",
       "      <th>n_samples</th>\n",
       "      <td>100</td>\n",
       "    </tr>\n",
       "    <tr>\n",
       "      <th>algo</th>\n",
       "      <td>lhs</td>\n",
       "    </tr>\n",
       "    <tr>\n",
       "      <th>design_space</th>\n",
       "      <td>variable       value     lower_bnd     upper...</td>\n",
       "    </tr>\n",
       "    <tr>\n",
       "      <th>formulation</th>\n",
       "      <td>MDF</td>\n",
       "    </tr>\n",
       "    <tr>\n",
       "      <th>objective_name</th>\n",
       "      <td>obj</td>\n",
       "    </tr>\n",
       "    <tr>\n",
       "      <th>differentiation_method</th>\n",
       "      <td>finite_differences</td>\n",
       "    </tr>\n",
       "    <tr>\n",
       "      <th>algo_options</th>\n",
       "      <td>{'iterations': 5, 'eval_jac': False, 'n_proces...</td>\n",
       "    </tr>\n",
       "    <tr>\n",
       "      <th>parallel_options</th>\n",
       "      <td>{'parallel': False, 'n_processes': 4, 'use_thr...</td>\n",
       "    </tr>\n",
       "    <tr>\n",
       "      <th>eval_mode</th>\n",
       "      <td>False</td>\n",
       "    </tr>\n",
       "    <tr>\n",
       "      <th>eval_jac</th>\n",
       "      <td>False</td>\n",
       "    </tr>\n",
       "    <tr>\n",
       "      <th>execute_at_xopt</th>\n",
       "      <td>True</td>\n",
       "    </tr>\n",
       "    <tr>\n",
       "      <th>linearization_mode</th>\n",
       "      <td>auto</td>\n",
       "    </tr>\n",
       "    <tr>\n",
       "      <th>cache_type</th>\n",
       "      <td>MemoryFullCache</td>\n",
       "    </tr>\n",
       "    <tr>\n",
       "      <th>cache_file_path</th>\n",
       "      <td>None</td>\n",
       "    </tr>\n",
       "  </tbody>\n",
       "</table>\n",
       "</div>"
      ],
      "text/plain": [
       "                                                                        0\n",
       "n_samples                                                             100\n",
       "algo                                                                  lhs\n",
       "design_space              variable       value     lower_bnd     upper...\n",
       "formulation                                                           MDF\n",
       "objective_name                                                        obj\n",
       "differentiation_method                                 finite_differences\n",
       "algo_options            {'iterations': 5, 'eval_jac': False, 'n_proces...\n",
       "parallel_options        {'parallel': False, 'n_processes': 4, 'use_thr...\n",
       "eval_mode                                                           False\n",
       "eval_jac                                                            False\n",
       "execute_at_xopt                                                      True\n",
       "linearization_mode                                                   auto\n",
       "cache_type                                                MemoryFullCache\n",
       "cache_file_path                                                      None"
      ]
     },
     "execution_count": 42,
     "metadata": {},
     "output_type": "execute_result"
    }
   ],
   "source": [
    "doe_disc_input = doe_disc.get_sosdisc_inputs()\n",
    "pd.DataFrame.from_dict(doe_disc_input,orient='index')"
   ]
  },
  {
   "cell_type": "code",
   "execution_count": 43,
   "id": "0499ac00",
   "metadata": {},
   "outputs": [],
   "source": [
    "doe_disc_output = doe_disc.get_sosdisc_outputs()"
   ]
  },
  {
   "cell_type": "code",
   "execution_count": 44,
   "id": "bcb5d045",
   "metadata": {},
   "outputs": [],
   "source": [
    "# doe_disc_output"
   ]
  },
  {
   "cell_type": "markdown",
   "id": "0111d5a8",
   "metadata": {},
   "source": [
    "# 5.1 Table of computed points"
   ]
  },
  {
   "cell_type": "code",
   "execution_count": 45,
   "id": "5fbbab76",
   "metadata": {},
   "outputs": [],
   "source": [
    "XY_pd= doe_disc_output['doe_ds_io']"
   ]
  },
  {
   "cell_type": "code",
   "execution_count": 46,
   "id": "c052e07d",
   "metadata": {},
   "outputs": [
    {
     "data": {
      "text/html": [
       "<div>\n",
       "<style scoped>\n",
       "    .dataframe tbody tr th:only-of-type {\n",
       "        vertical-align: middle;\n",
       "    }\n",
       "\n",
       "    .dataframe tbody tr th {\n",
       "        vertical-align: top;\n",
       "    }\n",
       "\n",
       "    .dataframe thead tr th {\n",
       "        text-align: left;\n",
       "    }\n",
       "</style>\n",
       "<table border=\"1\" class=\"dataframe\">\n",
       "  <thead>\n",
       "    <tr>\n",
       "      <th></th>\n",
       "      <th>doe.SellarDoeScenario.x</th>\n",
       "      <th colspan=\"2\" halign=\"left\">doe.SellarDoeScenario.z</th>\n",
       "    </tr>\n",
       "    <tr>\n",
       "      <th></th>\n",
       "      <th>0</th>\n",
       "      <th>0</th>\n",
       "      <th>1</th>\n",
       "    </tr>\n",
       "  </thead>\n",
       "  <tbody>\n",
       "    <tr>\n",
       "      <th>0</th>\n",
       "      <td>9.379764</td>\n",
       "      <td>1.515949</td>\n",
       "      <td>5.631736</td>\n",
       "    </tr>\n",
       "    <tr>\n",
       "      <th>1</th>\n",
       "      <td>8.886448</td>\n",
       "      <td>-1.196271</td>\n",
       "      <td>6.523436</td>\n",
       "    </tr>\n",
       "    <tr>\n",
       "      <th>2</th>\n",
       "      <td>3.713714</td>\n",
       "      <td>-1.994758</td>\n",
       "      <td>4.822571</td>\n",
       "    </tr>\n",
       "    <tr>\n",
       "      <th>3</th>\n",
       "      <td>0.041702</td>\n",
       "      <td>1.749067</td>\n",
       "      <td>3.617234</td>\n",
       "    </tr>\n",
       "    <tr>\n",
       "      <th>4</th>\n",
       "      <td>6.954955</td>\n",
       "      <td>-9.316161</td>\n",
       "      <td>9.918161</td>\n",
       "    </tr>\n",
       "    <tr>\n",
       "      <th>...</th>\n",
       "      <td>...</td>\n",
       "      <td>...</td>\n",
       "      <td>...</td>\n",
       "    </tr>\n",
       "    <tr>\n",
       "      <th>95</th>\n",
       "      <td>6.661678</td>\n",
       "      <td>5.719822</td>\n",
       "      <td>7.645988</td>\n",
       "    </tr>\n",
       "    <tr>\n",
       "      <th>96</th>\n",
       "      <td>2.358656</td>\n",
       "      <td>-6.389327</td>\n",
       "      <td>5.297002</td>\n",
       "    </tr>\n",
       "    <tr>\n",
       "      <th>97</th>\n",
       "      <td>3.011475</td>\n",
       "      <td>8.776000</td>\n",
       "      <td>9.837792</td>\n",
       "    </tr>\n",
       "    <tr>\n",
       "      <th>98</th>\n",
       "      <td>4.804455</td>\n",
       "      <td>-2.413481</td>\n",
       "      <td>1.131552</td>\n",
       "    </tr>\n",
       "    <tr>\n",
       "      <th>99</th>\n",
       "      <td>4.001988</td>\n",
       "      <td>2.954436</td>\n",
       "      <td>9.746571</td>\n",
       "    </tr>\n",
       "  </tbody>\n",
       "</table>\n",
       "<p>100 rows × 3 columns</p>\n",
       "</div>"
      ],
      "text/plain": [
       "   doe.SellarDoeScenario.x doe.SellarDoeScenario.z          \n",
       "                         0                       0         1\n",
       "0                 9.379764                1.515949  5.631736\n",
       "1                 8.886448               -1.196271  6.523436\n",
       "2                 3.713714               -1.994758  4.822571\n",
       "3                 0.041702                1.749067  3.617234\n",
       "4                 6.954955               -9.316161  9.918161\n",
       "..                     ...                     ...       ...\n",
       "95                6.661678                5.719822  7.645988\n",
       "96                2.358656               -6.389327  5.297002\n",
       "97                3.011475                8.776000  9.837792\n",
       "98                4.804455               -2.413481  1.131552\n",
       "99                4.001988                2.954436  9.746571\n",
       "\n",
       "[100 rows x 3 columns]"
      ]
     },
     "execution_count": 46,
     "metadata": {},
     "output_type": "execute_result"
    }
   ],
   "source": [
    "X_pd = XY_pd['design_parameters']\n",
    "X_pd"
   ]
  },
  {
   "cell_type": "code",
   "execution_count": 47,
   "id": "963fd304",
   "metadata": {},
   "outputs": [],
   "source": [
    "X_pd.to_csv('X_pd.csv',index=False)"
   ]
  },
  {
   "cell_type": "code",
   "execution_count": 48,
   "id": "c52f26bb",
   "metadata": {
    "scrolled": true
   },
   "outputs": [
    {
     "data": {
      "text/html": [
       "<div>\n",
       "<style scoped>\n",
       "    .dataframe tbody tr th:only-of-type {\n",
       "        vertical-align: middle;\n",
       "    }\n",
       "\n",
       "    .dataframe tbody tr th {\n",
       "        vertical-align: top;\n",
       "    }\n",
       "\n",
       "    .dataframe thead tr th {\n",
       "        text-align: left;\n",
       "    }\n",
       "</style>\n",
       "<table border=\"1\" class=\"dataframe\">\n",
       "  <thead>\n",
       "    <tr>\n",
       "      <th></th>\n",
       "      <th>doe.SellarDoeScenario.obj</th>\n",
       "    </tr>\n",
       "    <tr>\n",
       "      <th></th>\n",
       "      <th>0</th>\n",
       "    </tr>\n",
       "  </thead>\n",
       "  <tbody>\n",
       "    <tr>\n",
       "      <th>0</th>\n",
       "      <td>118.714541</td>\n",
       "    </tr>\n",
       "    <tr>\n",
       "      <th>1</th>\n",
       "      <td>110.493389</td>\n",
       "    </tr>\n",
       "    <tr>\n",
       "      <th>2</th>\n",
       "      <td>39.894420</td>\n",
       "    </tr>\n",
       "    <tr>\n",
       "      <th>3</th>\n",
       "      <td>18.808762</td>\n",
       "    </tr>\n",
       "    <tr>\n",
       "      <th>4</th>\n",
       "      <td>169.817929</td>\n",
       "    </tr>\n",
       "    <tr>\n",
       "      <th>...</th>\n",
       "      <td>...</td>\n",
       "    </tr>\n",
       "    <tr>\n",
       "      <th>95</th>\n",
       "      <td>105.062729</td>\n",
       "    </tr>\n",
       "    <tr>\n",
       "      <th>96</th>\n",
       "      <td>68.185137</td>\n",
       "    </tr>\n",
       "    <tr>\n",
       "      <th>97</th>\n",
       "      <td>113.215059</td>\n",
       "    </tr>\n",
       "    <tr>\n",
       "      <th>98</th>\n",
       "      <td>45.682186</td>\n",
       "    </tr>\n",
       "    <tr>\n",
       "      <th>99</th>\n",
       "      <td>54.826284</td>\n",
       "    </tr>\n",
       "  </tbody>\n",
       "</table>\n",
       "<p>100 rows × 1 columns</p>\n",
       "</div>"
      ],
      "text/plain": [
       "   doe.SellarDoeScenario.obj\n",
       "                           0\n",
       "0                 118.714541\n",
       "1                 110.493389\n",
       "2                  39.894420\n",
       "3                  18.808762\n",
       "4                 169.817929\n",
       "..                       ...\n",
       "95                105.062729\n",
       "96                 68.185137\n",
       "97                113.215059\n",
       "98                 45.682186\n",
       "99                 54.826284\n",
       "\n",
       "[100 rows x 1 columns]"
      ]
     },
     "execution_count": 48,
     "metadata": {},
     "output_type": "execute_result"
    }
   ],
   "source": [
    "Y_pd = XY_pd['functions']\n",
    "Y_pd"
   ]
  },
  {
   "cell_type": "markdown",
   "id": "1f3547ec",
   "metadata": {},
   "source": [
    "# 5.2 Optimum"
   ]
  },
  {
   "cell_type": "code",
   "execution_count": 49,
   "id": "04726873",
   "metadata": {},
   "outputs": [
    {
     "data": {
      "text/plain": [
       "{'x_opt': array([ 1.00983468, -0.65057567,  0.76923226]),\n",
       " 'f_opt': 13.915272626018078}"
      ]
     },
     "execution_count": 49,
     "metadata": {},
     "output_type": "execute_result"
    }
   ],
   "source": [
    "my_optim_result = doe_disc_output['optim_result']\n",
    "my_optim_result"
   ]
  },
  {
   "cell_type": "code",
   "execution_count": 50,
   "id": "d0296d25",
   "metadata": {},
   "outputs": [
    {
     "data": {
      "text/plain": [
       "array([ 1.00983468, -0.65057567,  0.76923226])"
      ]
     },
     "execution_count": 50,
     "metadata": {},
     "output_type": "execute_result"
    }
   ],
   "source": [
    "my_optim_result['x_opt']"
   ]
  },
  {
   "cell_type": "code",
   "execution_count": 51,
   "id": "e4cdac6e",
   "metadata": {},
   "outputs": [
    {
     "data": {
      "text/plain": [
       "13.915272626018078"
      ]
     },
     "execution_count": 51,
     "metadata": {},
     "output_type": "execute_result"
    }
   ],
   "source": [
    "my_optim_result['f_opt']"
   ]
  },
  {
   "cell_type": "markdown",
   "id": "e67a1802",
   "metadata": {},
   "source": [
    "# 5.4 \"design_space_out\""
   ]
  },
  {
   "cell_type": "code",
   "execution_count": 52,
   "id": "728e89bf",
   "metadata": {},
   "outputs": [
    {
     "data": {
      "text/html": [
       "<div>\n",
       "<style scoped>\n",
       "    .dataframe tbody tr th:only-of-type {\n",
       "        vertical-align: middle;\n",
       "    }\n",
       "\n",
       "    .dataframe tbody tr th {\n",
       "        vertical-align: top;\n",
       "    }\n",
       "\n",
       "    .dataframe thead th {\n",
       "        text-align: right;\n",
       "    }\n",
       "</style>\n",
       "<table border=\"1\" class=\"dataframe\">\n",
       "  <thead>\n",
       "    <tr style=\"text-align: right;\">\n",
       "      <th></th>\n",
       "      <th>variable</th>\n",
       "      <th>value</th>\n",
       "      <th>lower_bnd</th>\n",
       "      <th>upper_bnd</th>\n",
       "      <th>enable_variable</th>\n",
       "      <th>activated_elem</th>\n",
       "    </tr>\n",
       "  </thead>\n",
       "  <tbody>\n",
       "    <tr>\n",
       "      <th>0</th>\n",
       "      <td>x</td>\n",
       "      <td>[1.0098346833833052]</td>\n",
       "      <td>0.0</td>\n",
       "      <td>10.0</td>\n",
       "      <td>True</td>\n",
       "      <td>[True]</td>\n",
       "    </tr>\n",
       "    <tr>\n",
       "      <th>1</th>\n",
       "      <td>z</td>\n",
       "      <td>[-0.6505756714525628, 0.7692322615669314]</td>\n",
       "      <td>[-10.0, 0.0]</td>\n",
       "      <td>[10.0, 10.0]</td>\n",
       "      <td>True</td>\n",
       "      <td>[True, True]</td>\n",
       "    </tr>\n",
       "    <tr>\n",
       "      <th>2</th>\n",
       "      <td>y_1</td>\n",
       "      <td>1.0</td>\n",
       "      <td>-100.0</td>\n",
       "      <td>100.0</td>\n",
       "      <td>True</td>\n",
       "      <td>[True]</td>\n",
       "    </tr>\n",
       "    <tr>\n",
       "      <th>3</th>\n",
       "      <td>y_2</td>\n",
       "      <td>1.0</td>\n",
       "      <td>-100.0</td>\n",
       "      <td>100.0</td>\n",
       "      <td>True</td>\n",
       "      <td>[True]</td>\n",
       "    </tr>\n",
       "  </tbody>\n",
       "</table>\n",
       "</div>"
      ],
      "text/plain": [
       "  variable                                      value     lower_bnd  \\\n",
       "0        x                       [1.0098346833833052]           0.0   \n",
       "1        z  [-0.6505756714525628, 0.7692322615669314]  [-10.0, 0.0]   \n",
       "2      y_1                                        1.0        -100.0   \n",
       "3      y_2                                        1.0        -100.0   \n",
       "\n",
       "      upper_bnd  enable_variable activated_elem  \n",
       "0          10.0             True         [True]  \n",
       "1  [10.0, 10.0]             True   [True, True]  \n",
       "2         100.0             True         [True]  \n",
       "3         100.0             True         [True]  "
      ]
     },
     "execution_count": 52,
     "metadata": {},
     "output_type": "execute_result"
    }
   ],
   "source": [
    "doe_disc_output['design_space_out']"
   ]
  },
  {
   "cell_type": "markdown",
   "id": "32e05500",
   "metadata": {},
   "source": [
    "# 5.5 From gemseo "
   ]
  },
  {
   "cell_type": "code",
   "execution_count": 53,
   "id": "716249e4",
   "metadata": {},
   "outputs": [
    {
     "name": "stdout",
     "output_type": "stream",
     "text": [
      "doe.SellarDoeScenario.obj(doe.SellarDoeScenario.x, doe.SellarDoeScenario.z)\n",
      "[]\n",
      "finite_differences\n",
      "1e-06\n"
     ]
    }
   ],
   "source": [
    "print(opt_P.objective)\n",
    "print(opt_P.constraints)\n",
    "print(opt_P.differentiation_method)\n",
    "print(opt_P.fd_step)"
   ]
  },
  {
   "cell_type": "code",
   "execution_count": 54,
   "id": "f8cae3a6",
   "metadata": {},
   "outputs": [],
   "source": [
    "dataset = opt_P.export_to_dataset(\"dataset_name\")"
   ]
  },
  {
   "cell_type": "code",
   "execution_count": 55,
   "id": "e27fa8ea",
   "metadata": {},
   "outputs": [
    {
     "data": {
      "text/html": [
       "<div>\n",
       "<style scoped>\n",
       "    .dataframe tbody tr th:only-of-type {\n",
       "        vertical-align: middle;\n",
       "    }\n",
       "\n",
       "    .dataframe tbody tr th {\n",
       "        vertical-align: top;\n",
       "    }\n",
       "\n",
       "    .dataframe thead tr th {\n",
       "        text-align: left;\n",
       "    }\n",
       "</style>\n",
       "<table border=\"1\" class=\"dataframe\">\n",
       "  <thead>\n",
       "    <tr>\n",
       "      <th></th>\n",
       "      <th colspan=\"3\" halign=\"left\">design_parameters</th>\n",
       "      <th>functions</th>\n",
       "    </tr>\n",
       "    <tr>\n",
       "      <th></th>\n",
       "      <th>doe.SellarDoeScenario.x</th>\n",
       "      <th colspan=\"2\" halign=\"left\">doe.SellarDoeScenario.z</th>\n",
       "      <th>doe.SellarDoeScenario.obj</th>\n",
       "    </tr>\n",
       "    <tr>\n",
       "      <th></th>\n",
       "      <th>0</th>\n",
       "      <th>0</th>\n",
       "      <th>1</th>\n",
       "      <th>0</th>\n",
       "    </tr>\n",
       "  </thead>\n",
       "  <tbody>\n",
       "    <tr>\n",
       "      <th>0</th>\n",
       "      <td>9.379764</td>\n",
       "      <td>1.515949</td>\n",
       "      <td>5.631736</td>\n",
       "      <td>118.714541</td>\n",
       "    </tr>\n",
       "    <tr>\n",
       "      <th>1</th>\n",
       "      <td>8.886448</td>\n",
       "      <td>-1.196271</td>\n",
       "      <td>6.523436</td>\n",
       "      <td>110.493389</td>\n",
       "    </tr>\n",
       "    <tr>\n",
       "      <th>2</th>\n",
       "      <td>3.713714</td>\n",
       "      <td>-1.994758</td>\n",
       "      <td>4.822571</td>\n",
       "      <td>39.894420</td>\n",
       "    </tr>\n",
       "    <tr>\n",
       "      <th>3</th>\n",
       "      <td>0.041702</td>\n",
       "      <td>1.749067</td>\n",
       "      <td>3.617234</td>\n",
       "      <td>18.808762</td>\n",
       "    </tr>\n",
       "    <tr>\n",
       "      <th>4</th>\n",
       "      <td>6.954955</td>\n",
       "      <td>-9.316161</td>\n",
       "      <td>9.918161</td>\n",
       "      <td>169.817929</td>\n",
       "    </tr>\n",
       "    <tr>\n",
       "      <th>...</th>\n",
       "      <td>...</td>\n",
       "      <td>...</td>\n",
       "      <td>...</td>\n",
       "      <td>...</td>\n",
       "    </tr>\n",
       "    <tr>\n",
       "      <th>95</th>\n",
       "      <td>6.661678</td>\n",
       "      <td>5.719822</td>\n",
       "      <td>7.645988</td>\n",
       "      <td>105.062729</td>\n",
       "    </tr>\n",
       "    <tr>\n",
       "      <th>96</th>\n",
       "      <td>2.358656</td>\n",
       "      <td>-6.389327</td>\n",
       "      <td>5.297002</td>\n",
       "      <td>68.185137</td>\n",
       "    </tr>\n",
       "    <tr>\n",
       "      <th>97</th>\n",
       "      <td>3.011475</td>\n",
       "      <td>8.776000</td>\n",
       "      <td>9.837792</td>\n",
       "      <td>113.215059</td>\n",
       "    </tr>\n",
       "    <tr>\n",
       "      <th>98</th>\n",
       "      <td>4.804455</td>\n",
       "      <td>-2.413481</td>\n",
       "      <td>1.131552</td>\n",
       "      <td>45.682186</td>\n",
       "    </tr>\n",
       "    <tr>\n",
       "      <th>99</th>\n",
       "      <td>4.001988</td>\n",
       "      <td>2.954436</td>\n",
       "      <td>9.746571</td>\n",
       "      <td>54.826284</td>\n",
       "    </tr>\n",
       "  </tbody>\n",
       "</table>\n",
       "<p>100 rows × 4 columns</p>\n",
       "</div>"
      ],
      "text/plain": [
       "         design_parameters                                    \\\n",
       "   doe.SellarDoeScenario.x doe.SellarDoeScenario.z             \n",
       "                         0                       0         1   \n",
       "0                 9.379764                1.515949  5.631736   \n",
       "1                 8.886448               -1.196271  6.523436   \n",
       "2                 3.713714               -1.994758  4.822571   \n",
       "3                 0.041702                1.749067  3.617234   \n",
       "4                 6.954955               -9.316161  9.918161   \n",
       "..                     ...                     ...       ...   \n",
       "95                6.661678                5.719822  7.645988   \n",
       "96                2.358656               -6.389327  5.297002   \n",
       "97                3.011475                8.776000  9.837792   \n",
       "98                4.804455               -2.413481  1.131552   \n",
       "99                4.001988                2.954436  9.746571   \n",
       "\n",
       "                   functions  \n",
       "   doe.SellarDoeScenario.obj  \n",
       "                           0  \n",
       "0                 118.714541  \n",
       "1                 110.493389  \n",
       "2                  39.894420  \n",
       "3                  18.808762  \n",
       "4                 169.817929  \n",
       "..                       ...  \n",
       "95                105.062729  \n",
       "96                 68.185137  \n",
       "97                113.215059  \n",
       "98                 45.682186  \n",
       "99                 54.826284  \n",
       "\n",
       "[100 rows x 4 columns]"
      ]
     },
     "execution_count": 55,
     "metadata": {},
     "output_type": "execute_result"
    }
   ],
   "source": [
    "XY_pd=dataset.export_to_dataframe()\n",
    "XY_pd"
   ]
  },
  {
   "cell_type": "code",
   "execution_count": 56,
   "id": "9b55a487",
   "metadata": {},
   "outputs": [
    {
     "data": {
      "text/html": [
       "<div>\n",
       "<style scoped>\n",
       "    .dataframe tbody tr th:only-of-type {\n",
       "        vertical-align: middle;\n",
       "    }\n",
       "\n",
       "    .dataframe tbody tr th {\n",
       "        vertical-align: top;\n",
       "    }\n",
       "\n",
       "    .dataframe thead tr th {\n",
       "        text-align: left;\n",
       "    }\n",
       "</style>\n",
       "<table border=\"1\" class=\"dataframe\">\n",
       "  <thead>\n",
       "    <tr>\n",
       "      <th></th>\n",
       "      <th>doe.SellarDoeScenario.x</th>\n",
       "      <th colspan=\"2\" halign=\"left\">doe.SellarDoeScenario.z</th>\n",
       "    </tr>\n",
       "    <tr>\n",
       "      <th></th>\n",
       "      <th>0</th>\n",
       "      <th>0</th>\n",
       "      <th>1</th>\n",
       "    </tr>\n",
       "  </thead>\n",
       "  <tbody>\n",
       "    <tr>\n",
       "      <th>0</th>\n",
       "      <td>9.379764</td>\n",
       "      <td>1.515949</td>\n",
       "      <td>5.631736</td>\n",
       "    </tr>\n",
       "    <tr>\n",
       "      <th>1</th>\n",
       "      <td>8.886448</td>\n",
       "      <td>-1.196271</td>\n",
       "      <td>6.523436</td>\n",
       "    </tr>\n",
       "    <tr>\n",
       "      <th>2</th>\n",
       "      <td>3.713714</td>\n",
       "      <td>-1.994758</td>\n",
       "      <td>4.822571</td>\n",
       "    </tr>\n",
       "    <tr>\n",
       "      <th>3</th>\n",
       "      <td>0.041702</td>\n",
       "      <td>1.749067</td>\n",
       "      <td>3.617234</td>\n",
       "    </tr>\n",
       "    <tr>\n",
       "      <th>4</th>\n",
       "      <td>6.954955</td>\n",
       "      <td>-9.316161</td>\n",
       "      <td>9.918161</td>\n",
       "    </tr>\n",
       "    <tr>\n",
       "      <th>...</th>\n",
       "      <td>...</td>\n",
       "      <td>...</td>\n",
       "      <td>...</td>\n",
       "    </tr>\n",
       "    <tr>\n",
       "      <th>95</th>\n",
       "      <td>6.661678</td>\n",
       "      <td>5.719822</td>\n",
       "      <td>7.645988</td>\n",
       "    </tr>\n",
       "    <tr>\n",
       "      <th>96</th>\n",
       "      <td>2.358656</td>\n",
       "      <td>-6.389327</td>\n",
       "      <td>5.297002</td>\n",
       "    </tr>\n",
       "    <tr>\n",
       "      <th>97</th>\n",
       "      <td>3.011475</td>\n",
       "      <td>8.776000</td>\n",
       "      <td>9.837792</td>\n",
       "    </tr>\n",
       "    <tr>\n",
       "      <th>98</th>\n",
       "      <td>4.804455</td>\n",
       "      <td>-2.413481</td>\n",
       "      <td>1.131552</td>\n",
       "    </tr>\n",
       "    <tr>\n",
       "      <th>99</th>\n",
       "      <td>4.001988</td>\n",
       "      <td>2.954436</td>\n",
       "      <td>9.746571</td>\n",
       "    </tr>\n",
       "  </tbody>\n",
       "</table>\n",
       "<p>100 rows × 3 columns</p>\n",
       "</div>"
      ],
      "text/plain": [
       "   doe.SellarDoeScenario.x doe.SellarDoeScenario.z          \n",
       "                         0                       0         1\n",
       "0                 9.379764                1.515949  5.631736\n",
       "1                 8.886448               -1.196271  6.523436\n",
       "2                 3.713714               -1.994758  4.822571\n",
       "3                 0.041702                1.749067  3.617234\n",
       "4                 6.954955               -9.316161  9.918161\n",
       "..                     ...                     ...       ...\n",
       "95                6.661678                5.719822  7.645988\n",
       "96                2.358656               -6.389327  5.297002\n",
       "97                3.011475                8.776000  9.837792\n",
       "98                4.804455               -2.413481  1.131552\n",
       "99                4.001988                2.954436  9.746571\n",
       "\n",
       "[100 rows x 3 columns]"
      ]
     },
     "execution_count": 56,
     "metadata": {},
     "output_type": "execute_result"
    }
   ],
   "source": [
    "X_pd = XY_pd['design_parameters']\n",
    "X_pd"
   ]
  },
  {
   "cell_type": "code",
   "execution_count": 57,
   "id": "d2a437a3",
   "metadata": {},
   "outputs": [
    {
     "data": {
      "text/html": [
       "<div>\n",
       "<style scoped>\n",
       "    .dataframe tbody tr th:only-of-type {\n",
       "        vertical-align: middle;\n",
       "    }\n",
       "\n",
       "    .dataframe tbody tr th {\n",
       "        vertical-align: top;\n",
       "    }\n",
       "\n",
       "    .dataframe thead tr th {\n",
       "        text-align: left;\n",
       "    }\n",
       "</style>\n",
       "<table border=\"1\" class=\"dataframe\">\n",
       "  <thead>\n",
       "    <tr>\n",
       "      <th></th>\n",
       "      <th>doe.SellarDoeScenario.obj</th>\n",
       "    </tr>\n",
       "    <tr>\n",
       "      <th></th>\n",
       "      <th>0</th>\n",
       "    </tr>\n",
       "  </thead>\n",
       "  <tbody>\n",
       "    <tr>\n",
       "      <th>0</th>\n",
       "      <td>118.714541</td>\n",
       "    </tr>\n",
       "    <tr>\n",
       "      <th>1</th>\n",
       "      <td>110.493389</td>\n",
       "    </tr>\n",
       "    <tr>\n",
       "      <th>2</th>\n",
       "      <td>39.894420</td>\n",
       "    </tr>\n",
       "    <tr>\n",
       "      <th>3</th>\n",
       "      <td>18.808762</td>\n",
       "    </tr>\n",
       "    <tr>\n",
       "      <th>4</th>\n",
       "      <td>169.817929</td>\n",
       "    </tr>\n",
       "    <tr>\n",
       "      <th>...</th>\n",
       "      <td>...</td>\n",
       "    </tr>\n",
       "    <tr>\n",
       "      <th>95</th>\n",
       "      <td>105.062729</td>\n",
       "    </tr>\n",
       "    <tr>\n",
       "      <th>96</th>\n",
       "      <td>68.185137</td>\n",
       "    </tr>\n",
       "    <tr>\n",
       "      <th>97</th>\n",
       "      <td>113.215059</td>\n",
       "    </tr>\n",
       "    <tr>\n",
       "      <th>98</th>\n",
       "      <td>45.682186</td>\n",
       "    </tr>\n",
       "    <tr>\n",
       "      <th>99</th>\n",
       "      <td>54.826284</td>\n",
       "    </tr>\n",
       "  </tbody>\n",
       "</table>\n",
       "<p>100 rows × 1 columns</p>\n",
       "</div>"
      ],
      "text/plain": [
       "   doe.SellarDoeScenario.obj\n",
       "                           0\n",
       "0                 118.714541\n",
       "1                 110.493389\n",
       "2                  39.894420\n",
       "3                  18.808762\n",
       "4                 169.817929\n",
       "..                       ...\n",
       "95                105.062729\n",
       "96                 68.185137\n",
       "97                113.215059\n",
       "98                 45.682186\n",
       "99                 54.826284\n",
       "\n",
       "[100 rows x 1 columns]"
      ]
     },
     "execution_count": 57,
     "metadata": {},
     "output_type": "execute_result"
    }
   ],
   "source": [
    "Y_pd = XY_pd['functions']\n",
    "Y_pd"
   ]
  },
  {
   "cell_type": "code",
   "execution_count": 58,
   "id": "6cf6b472",
   "metadata": {},
   "outputs": [
    {
     "data": {
      "text/plain": [
       "13.915272626018078"
      ]
     },
     "execution_count": 58,
     "metadata": {},
     "output_type": "execute_result"
    }
   ],
   "source": [
    "import numpy as np\n",
    "min(np.array(Y_pd['doe.SellarDoeScenario.obj']['0']))"
   ]
  },
  {
   "cell_type": "code",
   "execution_count": 59,
   "id": "fd2ae1c1",
   "metadata": {},
   "outputs": [
    {
     "data": {
      "text/plain": [
       "13.915272626018078"
      ]
     },
     "execution_count": 59,
     "metadata": {},
     "output_type": "execute_result"
    }
   ],
   "source": [
    "doe_disc.optimization_result.f_opt"
   ]
  },
  {
   "cell_type": "code",
   "execution_count": 60,
   "id": "1b62ce1d",
   "metadata": {},
   "outputs": [
    {
     "data": {
      "text/plain": [
       "array([ 1.00983468, -0.65057567,  0.76923226])"
      ]
     },
     "execution_count": 60,
     "metadata": {},
     "output_type": "execute_result"
    }
   ],
   "source": [
    "doe_disc.optimization_result.x_opt"
   ]
  },
  {
   "cell_type": "code",
   "execution_count": 61,
   "id": "f773f962",
   "metadata": {},
   "outputs": [
    {
     "name": "stderr",
     "output_type": "stream",
     "text": [
      "INFO:gemseo.core.scenario:* Scenario Executions statistics *\n",
      "INFO:gemseo.core.scenario:* Discipline: Sellar_Problem\n",
      "INFO:gemseo.core.scenario:Executions number: 101\n",
      "INFO:gemseo.core.scenario:Execution time:  0.03736839999998409 s\n",
      "INFO:gemseo.core.scenario:Linearizations number: 0\n",
      "INFO:gemseo.core.scenario:* Discipline: Sellar_2\n",
      "INFO:gemseo.core.scenario:Executions number: 721\n",
      "INFO:gemseo.core.scenario:Execution time:  0.18603000000002723 s\n",
      "INFO:gemseo.core.scenario:Linearizations number: 0\n",
      "INFO:gemseo.core.scenario:* Discipline: Sellar_1\n",
      "INFO:gemseo.core.scenario:Executions number: 721\n",
      "INFO:gemseo.core.scenario:Execution time:  0.222729999999995 s\n",
      "INFO:gemseo.core.scenario:Linearizations number: 0\n",
      "INFO:gemseo.core.scenario:Total number of executions calls 1543\n",
      "INFO:gemseo.core.scenario:Total number of linearizations 0\n"
     ]
    }
   ],
   "source": [
    "doe_disc.print_execution_metrics()"
   ]
  },
  {
   "cell_type": "code",
   "execution_count": 62,
   "id": "a767671b",
   "metadata": {},
   "outputs": [
    {
     "data": {
      "text/plain": [
       "{'x_0': array([9.37976388, 1.51594904, 5.63173624]),\n",
       " 'optimizer_name': 'lhs',\n",
       " 'x_opt': array([ 1.00983468, -0.65057567,  0.76923226]),\n",
       " 'message': None,\n",
       " 'f_opt': 13.915272626018078,\n",
       " 'constraints_values': {},\n",
       " 'constraints_grad': {},\n",
       " 'status': None,\n",
       " 'n_obj_call': 100,\n",
       " 'n_grad_call': None,\n",
       " 'n_constr_call': None,\n",
       " 'is_feasible': True}"
      ]
     },
     "execution_count": 62,
     "metadata": {},
     "output_type": "execute_result"
    }
   ],
   "source": [
    "doe_disc.get_optimum().__dict__"
   ]
  },
  {
   "cell_type": "markdown",
   "id": "497bb13a",
   "metadata": {},
   "source": [
    "# 6 The full XY_pd table"
   ]
  },
  {
   "cell_type": "markdown",
   "id": "057fafab",
   "metadata": {},
   "source": [
    "need 'MemoryFullCache' : but error when using 'MemoryFullCache' in SoSTrades !"
   ]
  },
  {
   "cell_type": "markdown",
   "id": "52eb174f",
   "metadata": {},
   "source": [
    "It works in Test 53_MDA_num_param but with Disc1 inputs a,b are floats"
   ]
  },
  {
   "cell_type": "code",
   "execution_count": 63,
   "id": "a89794f7",
   "metadata": {},
   "outputs": [
    {
     "ename": "AttributeError",
     "evalue": "'SimpleCache' object has no attribute 'export_to_dataset'",
     "output_type": "error",
     "traceback": [
      "\u001b[1;31m---------------------------------------------------------------------------\u001b[0m",
      "\u001b[1;31mAttributeError\u001b[0m                            Traceback (most recent call last)",
      "\u001b[1;32m<ipython-input-63-e53a547104ae>\u001b[0m in \u001b[0;36m<module>\u001b[1;34m\u001b[0m\n\u001b[1;32m----> 1\u001b[1;33m \u001b[0mdataset\u001b[0m \u001b[1;33m=\u001b[0m \u001b[0msellar1\u001b[0m\u001b[1;33m.\u001b[0m\u001b[0mcache\u001b[0m\u001b[1;33m.\u001b[0m\u001b[0mexport_to_dataset\u001b[0m\u001b[1;33m(\u001b[0m\u001b[1;33m)\u001b[0m\u001b[1;33m\u001b[0m\u001b[1;33m\u001b[0m\u001b[0m\n\u001b[0m\u001b[0;32m      2\u001b[0m \u001b[0msellar1_XY_pd\u001b[0m\u001b[1;33m=\u001b[0m\u001b[0mdataset\u001b[0m\u001b[1;33m.\u001b[0m\u001b[0mexport_to_dataframe\u001b[0m\u001b[1;33m(\u001b[0m\u001b[1;33m)\u001b[0m\u001b[1;33m\u001b[0m\u001b[1;33m\u001b[0m\u001b[0m\n\u001b[0;32m      3\u001b[0m \u001b[0msellar1_XY_pd\u001b[0m\u001b[1;33m\u001b[0m\u001b[1;33m\u001b[0m\u001b[0m\n",
      "\u001b[1;31mAttributeError\u001b[0m: 'SimpleCache' object has no attribute 'export_to_dataset'"
     ]
    }
   ],
   "source": [
    "dataset = sellar1.cache.export_to_dataset()\n",
    "sellar1_XY_pd=dataset.export_to_dataframe()\n",
    "sellar1_XY_pd"
   ]
  },
  {
   "cell_type": "code",
   "execution_count": null,
   "id": "5815ab65",
   "metadata": {},
   "outputs": [],
   "source": [
    "dataset = sellar2.cache.export_to_dataset()\n",
    "sellar2_XY_pd=dataset.export_to_dataframe()\n",
    "sellar2_XY_pd"
   ]
  },
  {
   "cell_type": "code",
   "execution_count": null,
   "id": "299b0f47",
   "metadata": {},
   "outputs": [],
   "source": [
    "#dataset = sellarP.cache.export_to_dataset()\n",
    "#sellarP_XY_pd=dataset.export_to_dataframe()\n",
    "#sellarP_XY_pd"
   ]
  },
  {
   "cell_type": "code",
   "execution_count": null,
   "id": "602cdac5",
   "metadata": {},
   "outputs": [],
   "source": [
    "sellarDoEScenario = exec_eng.dm.get_disciplines_with_name(\"doe.\" + \"SellarDoeScenario\")[0]"
   ]
  },
  {
   "cell_type": "code",
   "execution_count": null,
   "id": "bf07d5d3",
   "metadata": {},
   "outputs": [],
   "source": [
    "type(sellarDoEScenario.cache)"
   ]
  },
  {
   "cell_type": "code",
   "execution_count": null,
   "id": "5f3bae42",
   "metadata": {},
   "outputs": [],
   "source": []
  },
  {
   "cell_type": "code",
   "execution_count": null,
   "id": "5afad1c5",
   "metadata": {},
   "outputs": [],
   "source": []
  },
  {
   "cell_type": "code",
   "execution_count": null,
   "id": "6e4411a4",
   "metadata": {},
   "outputs": [],
   "source": []
  },
  {
   "cell_type": "code",
   "execution_count": null,
   "id": "ad304ac2",
   "metadata": {},
   "outputs": [],
   "source": []
  },
  {
   "cell_type": "code",
   "execution_count": null,
   "id": "db312afc",
   "metadata": {},
   "outputs": [],
   "source": []
  },
  {
   "cell_type": "code",
   "execution_count": null,
   "id": "e6dedaf2",
   "metadata": {},
   "outputs": [],
   "source": []
  },
  {
   "cell_type": "code",
   "execution_count": null,
   "id": "1b90972e",
   "metadata": {},
   "outputs": [],
   "source": []
  },
  {
   "cell_type": "code",
   "execution_count": null,
   "id": "c66026c1",
   "metadata": {},
   "outputs": [],
   "source": []
  },
  {
   "cell_type": "code",
   "execution_count": null,
   "id": "cdbd0273",
   "metadata": {},
   "outputs": [],
   "source": []
  },
  {
   "cell_type": "code",
   "execution_count": null,
   "id": "91b1ac40",
   "metadata": {},
   "outputs": [],
   "source": []
  },
  {
   "cell_type": "code",
   "execution_count": null,
   "id": "2c389b99",
   "metadata": {},
   "outputs": [],
   "source": []
  },
  {
   "cell_type": "code",
   "execution_count": null,
   "id": "c55d9f7f",
   "metadata": {},
   "outputs": [],
   "source": []
  },
  {
   "cell_type": "code",
   "execution_count": null,
   "id": "df1612dc",
   "metadata": {},
   "outputs": [],
   "source": []
  }
 ],
 "metadata": {
  "kernelspec": {
   "display_name": "Python 3",
   "language": "python",
   "name": "python3"
  },
  "language_info": {
   "codemirror_mode": {
    "name": "ipython",
    "version": 3
   },
   "file_extension": ".py",
   "mimetype": "text/x-python",
   "name": "python",
   "nbconvert_exporter": "python",
   "pygments_lexer": "ipython3",
   "version": "3.8.8"
  }
 },
 "nbformat": 4,
 "nbformat_minor": 5
}
